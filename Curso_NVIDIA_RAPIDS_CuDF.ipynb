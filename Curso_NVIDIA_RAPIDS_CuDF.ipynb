{
  "cells": [
    {
      "cell_type": "markdown",
      "metadata": {
        "id": "1Hn-JJfuXqEl"
      },
      "source": [
        "# CuDF - RAPIDS\n",
        "\n"
      ]
    },
    {
      "cell_type": "markdown",
      "metadata": {
        "id": "-aH7JlC73Jo0"
      },
      "source": [
        "# Instalação\n",
        "\n",
        "> Método 1\n",
        "\n",
        "Comando único de instalação: é possível instalar o RAPIDS por meio de um único comando, porém, será customizado de acordo com seu ambiente e sistema que você pode obter aqui:\n",
        "https://docs.rapids.ai/install#selector - Ir até a seção “Install RAPIDS”\n",
        "\n",
        "Para esse método você pode utilizar o Conda ou o Docker. O comando será gerado de acordo com a versão do Python ou do CUDA que você especificar. É importante enfatizar que dependendo do sistema e configuração esses método podem exigir configurações adicionais no ambiente de execução (nesse mesmo link acima tem mais informações sobre atenções que você deve ter para cada tipo de ambiente).\n",
        "\n",
        "Caso esteja executando locamente, uma boa dica para deixar rodando sem se preocupar muito com configurações é usar os contêiners NGC da NVIDIA: https://catalog.ngc.nvidia.com/orgs/nvidia/containers/tensorflow\n",
        "\n",
        "\n",
        "> Método 2\n",
        "\n",
        "Já que estamos rodando no Colab, temos uma forma mais prática e rápida que é por meio de um repositório. Esse repositório contém um script (install_rapids.py) que vai instalar corretamente o RAPIDS de modo compatível com a GPU do Colab e sua respectiva versão CUDA. Podemos instalar todos os pacotes necessários no Colab usando apenas dois comandos.\n",
        "\n",
        "Obs: há a possibilidade de algum dia o Colab sofrer alguma mudança e esse repositório não ser atualizado, ou outro motivo que faça com que os dois comandos abaixo não funcionem mais. Caso isso ocorra, atualizaremos aqui no Colab"
      ]
    },
    {
      "cell_type": "code",
      "execution_count": null,
      "metadata": {
        "colab": {
          "base_uri": "https://localhost:8080/"
        },
        "id": "sb02OK0KkTJ_",
        "outputId": "3abd64b7-02c6-41db-e262-7b846ea41a9d"
      },
      "outputs": [
        {
          "name": "stdout",
          "output_type": "stream",
          "text": [
            "Cloning into 'rapidsai-csp-utils'...\n",
            "remote: Enumerating objects: 390, done.\u001b[K\n",
            "remote: Counting objects: 100% (121/121), done.\u001b[K\n",
            "remote: Compressing objects: 100% (70/70), done.\u001b[K\n",
            "remote: Total 390 (delta 89), reused 51 (delta 51), pack-reused 269\u001b[K\n",
            "Receiving objects: 100% (390/390), 107.11 KiB | 2.23 MiB/s, done.\n",
            "Resolving deltas: 100% (191/191), done.\n"
          ]
        }
      ],
      "source": [
        "!git clone https://github.com/rapidsai/rapidsai-csp-utils.git"
      ]
    },
    {
      "cell_type": "code",
      "execution_count": null,
      "metadata": {
        "id": "CX8zpkhHVL8-"
      },
      "outputs": [],
      "source": [
        "!pip3 install --upgrade pip # Atualização em janeiro de 2024 - necessário para não ser gerado erro no comando .query do DataFrame"
      ]
    },
    {
      "cell_type": "code",
      "execution_count": null,
      "metadata": {
        "colab": {
          "base_uri": "https://localhost:8080/"
        },
        "id": "Vahv910TkfWk",
        "outputId": "968b5711-9d7f-459e-e053-481ce232eae1"
      },
      "outputs": [
        {
          "name": "stdout",
          "output_type": "stream",
          "text": [
            "Collecting pynvml\n",
            "  Downloading pynvml-11.5.0-py3-none-any.whl (53 kB)\n",
            "     ━━━━━━━━━━━━━━━━━━━━━━━━━━━━━━━━━━━━━━━━ 53.1/53.1 kB 1.6 MB/s eta 0:00:00\n",
            "Installing collected packages: pynvml\n",
            "Successfully installed pynvml-11.5.0\n",
            "***********************************************************************\n",
            "Woo! Your instance has the right kind of GPU, a Tesla T4!\n",
            "We will now install RAPIDS cuDF, cuML, and cuGraph via pip! \n",
            "Please stand by, should be quick...\n",
            "***********************************************************************\n",
            "\n",
            "Looking in indexes: https://pypi.org/simple, https://pypi.nvidia.com\n",
            "Collecting cudf-cu11\n",
            "  Downloading https://pypi.nvidia.com/cudf-cu11/cudf_cu11-23.8.0-cp310-cp310-manylinux_2_17_x86_64.manylinux2014_x86_64.whl (499.6 MB)\n",
            "     ━━━━━━━━━━━━━━━━━━━━━━━━━━━━━━━━━━━━━━━ 499.6/499.6 MB 3.4 MB/s eta 0:00:00\n",
            "Collecting cuml-cu11\n",
            "  Downloading https://pypi.nvidia.com/cuml-cu11/cuml_cu11-23.8.0-cp310-cp310-manylinux_2_17_x86_64.manylinux2014_x86_64.whl (1081.6 MB)\n",
            "     ━━━━━━━━━━━━━━━━━━━━━━━━━━━━━━━━━━━━━━━━ 1.1/1.1 GB 1.7 MB/s eta 0:00:00\n",
            "Collecting cugraph-cu11\n",
            "  Downloading https://pypi.nvidia.com/cugraph-cu11/cugraph_cu11-23.8.0-cp310-cp310-manylinux_2_17_x86_64.manylinux2014_x86_64.whl (1212.4 MB)\n",
            "     ━━━━━━━━━━━━━━━━━━━━━━━━━━━━━━━━━━━━━━━━ 1.2/1.2 GB 1.5 MB/s eta 0:00:00\n",
            "Requirement already satisfied: aiohttp in /usr/local/lib/python3.10/dist-packages (3.8.5)\n",
            "Requirement already satisfied: cachetools in /usr/local/lib/python3.10/dist-packages (from cudf-cu11) (5.3.1)\n",
            "Collecting cubinlinker-cu11 (from cudf-cu11)\n",
            "  Downloading https://pypi.nvidia.com/cubinlinker-cu11/cubinlinker_cu11-0.3.0.post1-cp310-cp310-manylinux_2_17_x86_64.manylinux2014_x86_64.whl (8.8 MB)\n",
            "     ━━━━━━━━━━━━━━━━━━━━━━━━━━━━━━━━━━━━━━━━ 8.8/8.8 MB 80.7 MB/s eta 0:00:00\n",
            "Collecting cuda-python<12.0a0,>=11.7.1 (from cudf-cu11)\n",
            "  Downloading cuda_python-11.8.2-cp310-cp310-manylinux_2_17_x86_64.manylinux2014_x86_64.whl (16.5 MB)\n",
            "     ━━━━━━━━━━━━━━━━━━━━━━━━━━━━━━━━━━━━━━━━ 16.5/16.5 MB 41.2 MB/s eta 0:00:00\n",
            "Collecting cupy-cuda11x>=12.0.0 (from cudf-cu11)\n",
            "  Downloading cupy_cuda11x-12.2.0-cp310-cp310-manylinux2014_x86_64.whl (89.6 MB)\n",
            "     ━━━━━━━━━━━━━━━━━━━━━━━━━━━━━━━━━━━━━━━━ 89.6/89.6 MB 9.3 MB/s eta 0:00:00\n",
            "Requirement already satisfied: fsspec>=0.6.0 in /usr/local/lib/python3.10/dist-packages (from cudf-cu11) (2023.6.0)\n",
            "Collecting numba>=0.57 (from cudf-cu11)\n",
            "  Downloading numba-0.57.1-cp310-cp310-manylinux2014_x86_64.manylinux_2_17_x86_64.whl (3.6 MB)\n",
            "     ━━━━━━━━━━━━━━━━━━━━━━━━━━━━━━━━━━━━━━━━ 3.6/3.6 MB 93.5 MB/s eta 0:00:00\n",
            "Requirement already satisfied: numpy>=1.21 in /usr/local/lib/python3.10/dist-packages (from cudf-cu11) (1.23.5)\n",
            "Collecting nvtx>=0.2.1 (from cudf-cu11)\n",
            "  Downloading nvtx-0.2.8-cp310-cp310-manylinux_2_17_x86_64.manylinux2014_x86_64.whl (582 kB)\n",
            "     ━━━━━━━━━━━━━━━━━━━━━━━━━━━━━━━━━━━━━━ 582.4/582.4 kB 49.8 MB/s eta 0:00:00\n",
            "Requirement already satisfied: packaging in /usr/local/lib/python3.10/dist-packages (from cudf-cu11) (23.1)\n",
            "Requirement already satisfied: pandas<1.6.0dev0,>=1.3 in /usr/local/lib/python3.10/dist-packages (from cudf-cu11) (1.5.3)\n",
            "Collecting protobuf<5,>=4.21 (from cudf-cu11)\n",
            "  Downloading protobuf-4.24.3-cp37-abi3-manylinux2014_x86_64.whl (311 kB)\n",
            "     ━━━━━━━━━━━━━━━━━━━━━━━━━━━━━━━━━━━━━━ 311.6/311.6 kB 35.7 MB/s eta 0:00:00\n",
            "Collecting ptxcompiler-cu11 (from cudf-cu11)\n",
            "  Downloading https://pypi.nvidia.com/ptxcompiler-cu11/ptxcompiler_cu11-0.7.0.post1-cp310-cp310-manylinux_2_17_x86_64.manylinux2014_x86_64.whl (8.8 MB)\n",
            "     ━━━━━━━━━━━━━━━━━━━━━━━━━━━━━━━━━━━━━━━━ 8.8/8.8 MB 110.8 MB/s eta 0:00:00\n",
            "Collecting pyarrow==11.* (from cudf-cu11)\n",
            "  Downloading pyarrow-11.0.0-cp310-cp310-manylinux_2_17_x86_64.manylinux2014_x86_64.whl (34.9 MB)\n",
            "     ━━━━━━━━━━━━━━━━━━━━━━━━━━━━━━━━━━━━━━━━ 34.9/34.9 MB 17.8 MB/s eta 0:00:00\n",
            "Collecting rmm-cu11==23.8.* (from cudf-cu11)\n",
            "  Downloading https://pypi.nvidia.com/rmm-cu11/rmm_cu11-23.8.0-cp310-cp310-manylinux_2_17_x86_64.manylinux2014_x86_64.whl (1.7 MB)\n",
            "     ━━━━━━━━━━━━━━━━━━━━━━━━━━━━━━━━━━━━━━━━ 1.7/1.7 MB 92.8 MB/s eta 0:00:00\n",
            "Requirement already satisfied: typing-extensions>=4.0.0 in /usr/local/lib/python3.10/dist-packages (from cudf-cu11) (4.5.0)\n",
            "Collecting dask-cuda==23.8.* (from cuml-cu11)\n",
            "  Downloading dask_cuda-23.8.0-py3-none-any.whl (122 kB)\n",
            "     ━━━━━━━━━━━━━━━━━━━━━━━━━━━━━━━━━━━━━━ 122.0/122.0 kB 16.6 MB/s eta 0:00:00\n",
            "Collecting dask-cudf-cu11==23.8.* (from cuml-cu11)\n",
            "  Downloading https://pypi.nvidia.com/dask-cudf-cu11/dask_cudf_cu11-23.8.0-py3-none-any.whl (81 kB)\n",
            "     ━━━━━━━━━━━━━━━━━━━━━━━━━━━━━━━━━━━━━━━━ 81.6/81.6 kB 12.1 MB/s eta 0:00:00\n",
            "Collecting dask==2023.7.1 (from cuml-cu11)\n",
            "  Downloading dask-2023.7.1-py3-none-any.whl (1.2 MB)\n",
            "     ━━━━━━━━━━━━━━━━━━━━━━━━━━━━━━━━━━━━━━━━ 1.2/1.2 MB 42.7 MB/s eta 0:00:00\n",
            "Collecting distributed==2023.7.1 (from cuml-cu11)\n",
            "  Downloading distributed-2023.7.1-py3-none-any.whl (985 kB)\n",
            "     ━━━━━━━━━━━━━━━━━━━━━━━━━━━━━━━━━━━━━━ 985.5/985.5 kB 63.7 MB/s eta 0:00:00\n",
            "Requirement already satisfied: joblib>=0.11 in /usr/local/lib/python3.10/dist-packages (from cuml-cu11) (1.3.2)\n",
            "Collecting raft-dask-cu11==23.8.* (from cuml-cu11)\n",
            "  Downloading https://pypi.nvidia.com/raft-dask-cu11/raft_dask_cu11-23.8.0-cp310-cp310-manylinux_2_17_x86_64.manylinux2014_x86_64.whl (214.7 MB)\n",
            "     ━━━━━━━━━━━━━━━━━━━━━━━━━━━━━━━━━━━━━━━ 214.7/214.7 MB 6.3 MB/s eta 0:00:00\n",
            "Requirement already satisfied: scipy>=1.8.0 in /usr/local/lib/python3.10/dist-packages (from cuml-cu11) (1.11.2)\n",
            "Collecting treelite==3.2.0 (from cuml-cu11)\n",
            "  Downloading treelite-3.2.0-py3-none-manylinux2014_x86_64.whl (1.0 MB)\n",
            "     ━━━━━━━━━━━━━━━━━━━━━━━━━━━━━━━━━━━━━━━━ 1.0/1.0 MB 71.4 MB/s eta 0:00:00\n",
            "Collecting treelite-runtime==3.2.0 (from cuml-cu11)\n",
            "  Downloading treelite_runtime-3.2.0-py3-none-manylinux2014_x86_64.whl (198 kB)\n",
            "     ━━━━━━━━━━━━━━━━━━━━━━━━━━━━━━━━━━━━━━ 198.2/198.2 kB 24.3 MB/s eta 0:00:00\n",
            "Requirement already satisfied: click>=8.0 in /usr/local/lib/python3.10/dist-packages (from dask==2023.7.1->cuml-cu11) (8.1.7)\n",
            "Requirement already satisfied: cloudpickle>=1.5.0 in /usr/local/lib/python3.10/dist-packages (from dask==2023.7.1->cuml-cu11) (2.2.1)\n",
            "Requirement already satisfied: partd>=1.2.0 in /usr/local/lib/python3.10/dist-packages (from dask==2023.7.1->cuml-cu11) (1.4.0)\n",
            "Requirement already satisfied: pyyaml>=5.3.1 in /usr/local/lib/python3.10/dist-packages (from dask==2023.7.1->cuml-cu11) (6.0.1)\n",
            "Requirement already satisfied: toolz>=0.10.0 in /usr/local/lib/python3.10/dist-packages (from dask==2023.7.1->cuml-cu11) (0.12.0)\n",
            "Requirement already satisfied: importlib-metadata>=4.13.0 in /usr/local/lib/python3.10/dist-packages (from dask==2023.7.1->cuml-cu11) (6.8.0)\n",
            "Collecting pynvml<11.5,>=11.0.0 (from dask-cuda==23.8.*->cuml-cu11)\n",
            "  Downloading pynvml-11.4.1-py3-none-any.whl (46 kB)\n",
            "     ━━━━━━━━━━━━━━━━━━━━━━━━━━━━━━━━━━━━━━━━ 47.0/47.0 kB 5.7 MB/s eta 0:00:00\n",
            "Requirement already satisfied: zict>=2.0.0 in /usr/local/lib/python3.10/dist-packages (from dask-cuda==23.8.*->cuml-cu11) (3.0.0)\n",
            "Requirement already satisfied: jinja2>=2.10.3 in /usr/local/lib/python3.10/dist-packages (from distributed==2023.7.1->cuml-cu11) (3.1.2)\n",
            "Requirement already satisfied: locket>=1.0.0 in /usr/local/lib/python3.10/dist-packages (from distributed==2023.7.1->cuml-cu11) (1.0.0)\n",
            "Requirement already satisfied: msgpack>=1.0.0 in /usr/local/lib/python3.10/dist-packages (from distributed==2023.7.1->cuml-cu11) (1.0.5)\n",
            "Requirement already satisfied: psutil>=5.7.2 in /usr/local/lib/python3.10/dist-packages (from distributed==2023.7.1->cuml-cu11) (5.9.5)\n",
            "Requirement already satisfied: sortedcontainers>=2.0.5 in /usr/local/lib/python3.10/dist-packages (from distributed==2023.7.1->cuml-cu11) (2.4.0)\n",
            "Requirement already satisfied: tblib>=1.6.0 in /usr/local/lib/python3.10/dist-packages (from distributed==2023.7.1->cuml-cu11) (2.0.0)\n",
            "Requirement already satisfied: tornado>=6.0.4 in /usr/local/lib/python3.10/dist-packages (from distributed==2023.7.1->cuml-cu11) (6.3.2)\n",
            "Requirement already satisfied: urllib3>=1.24.3 in /usr/local/lib/python3.10/dist-packages (from distributed==2023.7.1->cuml-cu11) (2.0.4)\n",
            "Collecting pylibraft-cu11==23.8.* (from raft-dask-cu11==23.8.*->cuml-cu11)\n",
            "  Downloading https://pypi.nvidia.com/pylibraft-cu11/pylibraft_cu11-23.8.0-cp310-cp310-manylinux_2_17_x86_64.manylinux2014_x86_64.whl (555.6 MB)\n",
            "     ━━━━━━━━━━━━━━━━━━━━━━━━━━━━━━━━━━━━━━━ 555.6/555.6 MB 1.4 MB/s eta 0:00:00\n",
            "Collecting ucx-py-cu11==0.33.* (from raft-dask-cu11==23.8.*->cuml-cu11)\n",
            "  Downloading https://pypi.nvidia.com/ucx-py-cu11/ucx_py_cu11-0.33.0-cp310-cp310-manylinux_2_17_x86_64.manylinux2014_x86_64.whl (7.9 MB)\n",
            "     ━━━━━━━━━━━━━━━━━━━━━━━━━━━━━━━━━━━━━━━━ 7.9/7.9 MB 99.3 MB/s eta 0:00:00\n",
            "Collecting pylibcugraph-cu11==23.8.* (from cugraph-cu11)\n",
            "  Downloading https://pypi.nvidia.com/pylibcugraph-cu11/pylibcugraph_cu11-23.8.0-cp310-cp310-manylinux_2_17_x86_64.manylinux2014_x86_64.whl (1212.4 MB)\n",
            "     ━━━━━━━━━━━━━━━━━━━━━━━━━━━━━━━━━━━━━━━━ 1.2/1.2 GB 1.5 MB/s eta 0:00:00\n",
            "Requirement already satisfied: attrs>=17.3.0 in /usr/local/lib/python3.10/dist-packages (from aiohttp) (23.1.0)\n",
            "Requirement already satisfied: charset-normalizer<4.0,>=2.0 in /usr/local/lib/python3.10/dist-packages (from aiohttp) (3.2.0)\n",
            "Requirement already satisfied: multidict<7.0,>=4.5 in /usr/local/lib/python3.10/dist-packages (from aiohttp) (6.0.4)\n",
            "Requirement already satisfied: async-timeout<5.0,>=4.0.0a3 in /usr/local/lib/python3.10/dist-packages (from aiohttp) (4.0.3)\n",
            "Requirement already satisfied: yarl<2.0,>=1.0 in /usr/local/lib/python3.10/dist-packages (from aiohttp) (1.9.2)\n",
            "Requirement already satisfied: frozenlist>=1.1.1 in /usr/local/lib/python3.10/dist-packages (from aiohttp) (1.4.0)\n",
            "Requirement already satisfied: aiosignal>=1.1.2 in /usr/local/lib/python3.10/dist-packages (from aiohttp) (1.3.1)\n",
            "Requirement already satisfied: cython in /usr/local/lib/python3.10/dist-packages (from cuda-python<12.0a0,>=11.7.1->cudf-cu11) (3.0.2)\n",
            "Requirement already satisfied: fastrlock>=0.5 in /usr/local/lib/python3.10/dist-packages (from cupy-cuda11x>=12.0.0->cudf-cu11) (0.8.2)\n",
            "Collecting llvmlite<0.41,>=0.40.0dev0 (from numba>=0.57->cudf-cu11)\n",
            "  Downloading llvmlite-0.40.1-cp310-cp310-manylinux_2_17_x86_64.manylinux2014_x86_64.whl (42.1 MB)\n",
            "     ━━━━━━━━━━━━━━━━━━━━━━━━━━━━━━━━━━━━━━━━ 42.1/42.1 MB 17.5 MB/s eta 0:00:00\n",
            "Requirement already satisfied: python-dateutil>=2.8.1 in /usr/local/lib/python3.10/dist-packages (from pandas<1.6.0dev0,>=1.3->cudf-cu11) (2.8.2)\n",
            "Requirement already satisfied: pytz>=2020.1 in /usr/local/lib/python3.10/dist-packages (from pandas<1.6.0dev0,>=1.3->cudf-cu11) (2023.3.post1)\n",
            "Requirement already satisfied: idna>=2.0 in /usr/local/lib/python3.10/dist-packages (from yarl<2.0,>=1.0->aiohttp) (3.4)\n",
            "Requirement already satisfied: zipp>=0.5 in /usr/local/lib/python3.10/dist-packages (from importlib-metadata>=4.13.0->dask==2023.7.1->cuml-cu11) (3.16.2)\n",
            "Requirement already satisfied: MarkupSafe>=2.0 in /usr/local/lib/python3.10/dist-packages (from jinja2>=2.10.3->distributed==2023.7.1->cuml-cu11) (2.1.3)\n",
            "Requirement already satisfied: six>=1.5 in /usr/local/lib/python3.10/dist-packages (from python-dateutil>=2.8.1->pandas<1.6.0dev0,>=1.3->cudf-cu11) (1.16.0)\n",
            "Installing collected packages: ptxcompiler-cu11, nvtx, cubinlinker-cu11, pynvml, pyarrow, protobuf, llvmlite, cupy-cuda11x, cuda-python, ucx-py-cu11, treelite-runtime, treelite, numba, dask, rmm-cu11, distributed, pylibraft-cu11, dask-cuda, cudf-cu11, raft-dask-cu11, pylibcugraph-cu11, dask-cudf-cu11, cuml-cu11, cugraph-cu11\n",
            "  Attempting uninstall: pynvml\n",
            "    Found existing installation: pynvml 11.5.0\n",
            "    Uninstalling pynvml-11.5.0:\n",
            "      Successfully uninstalled pynvml-11.5.0\n",
            "  Attempting uninstall: pyarrow\n",
            "    Found existing installation: pyarrow 9.0.0\n",
            "    Uninstalling pyarrow-9.0.0:\n",
            "      Successfully uninstalled pyarrow-9.0.0\n",
            "  Attempting uninstall: protobuf\n",
            "    Found existing installation: protobuf 3.20.3\n",
            "    Uninstalling protobuf-3.20.3:\n",
            "      Successfully uninstalled protobuf-3.20.3\n",
            "  Attempting uninstall: llvmlite\n",
            "    Found existing installation: llvmlite 0.39.1\n",
            "    Uninstalling llvmlite-0.39.1:\n",
            "      Successfully uninstalled llvmlite-0.39.1\n",
            "  Attempting uninstall: cupy-cuda11x\n",
            "    Found existing installation: cupy-cuda11x 11.0.0\n",
            "    Uninstalling cupy-cuda11x-11.0.0:\n",
            "      Successfully uninstalled cupy-cuda11x-11.0.0\n",
            "  Attempting uninstall: numba\n",
            "    Found existing installation: numba 0.56.4\n",
            "    Uninstalling numba-0.56.4:\n",
            "      Successfully uninstalled numba-0.56.4\n",
            "  Attempting uninstall: dask\n",
            "    Found existing installation: dask 2023.8.1\n",
            "    Uninstalling dask-2023.8.1:\n",
            "      Successfully uninstalled dask-2023.8.1\n",
            "  Attempting uninstall: distributed\n",
            "    Found existing installation: distributed 2023.8.1\n",
            "    Uninstalling distributed-2023.8.1:\n",
            "      Successfully uninstalled distributed-2023.8.1\n",
            "ERROR: pip's dependency resolver does not currently take into account all the packages that are installed. This behaviour is the source of the following dependency conflicts.\n",
            "pandas-gbq 0.17.9 requires pyarrow<10.0dev,>=3.0.0, but you have pyarrow 11.0.0 which is incompatible.\n",
            "tensorflow-metadata 1.14.0 requires protobuf<4.21,>=3.20.3, but you have protobuf 4.24.3 which is incompatible.\n",
            "Successfully installed cubinlinker-cu11-0.3.0.post1 cuda-python-11.8.2 cudf-cu11-23.8.0 cugraph-cu11-23.8.0 cuml-cu11-23.8.0 cupy-cuda11x-12.2.0 dask-2023.7.1 dask-cuda-23.8.0 dask-cudf-cu11-23.8.0 distributed-2023.7.1 llvmlite-0.40.1 numba-0.57.1 nvtx-0.2.8 protobuf-4.24.3 ptxcompiler-cu11-0.7.0.post1 pyarrow-11.0.0 pylibcugraph-cu11-23.8.0 pylibraft-cu11-23.8.0 pynvml-11.4.1 raft-dask-cu11-23.8.0 rmm-cu11-23.8.0 treelite-3.2.0 treelite-runtime-3.2.0 ucx-py-cu11-0.33.0\n",
            "Requirement already satisfied: cupy-cuda11x in /usr/local/lib/python3.10/dist-packages (12.2.0)\n",
            "Requirement already satisfied: numpy<1.27,>=1.20 in /usr/local/lib/python3.10/dist-packages (from cupy-cuda11x) (1.23.5)\n",
            "Requirement already satisfied: fastrlock>=0.5 in /usr/local/lib/python3.10/dist-packages (from cupy-cuda11x) (0.8.2)\n",
            "\n",
            "          ***********************************************************************\n",
            "          The pip install of RAPIDS is complete.\n",
            "          \n",
            "          Please do not run any further installation from the conda based installation methods, as they may cause issues!  \n",
            "          \n",
            "          Please ensure that you're pulling from the git repo to remain updated with the latest working install scripts. \n",
            "r          \n",
            "          Troubleshooting:\n",
            "             - If there is an installation failure, please check back on RAPIDSAI owned templates/notebooks to see how to update your personal files. \n",
            "             - If an installation failure persists when using the latest script, please make an issue on https://github.com/rapidsai-community/rapidsai-csp-utils\n",
            "          ***********************************************************************\n",
            "          \n"
          ]
        }
      ],
      "source": [
        "!python rapidsai-csp-utils/colab/pip-install.py"
      ]
    },
    {
      "cell_type": "markdown",
      "metadata": {
        "id": "YZvUOEGXxm1F"
      },
      "source": [
        "# Com o Pandas (CPU)\n",
        "\n",
        "\n",
        "> Documentação: http://pandas.pydata.org/pandas-docs/stable/"
      ]
    },
    {
      "cell_type": "code",
      "execution_count": 1,
      "metadata": {
        "colab": {
          "base_uri": "https://localhost:8080/"
        },
        "id": "_PZ-TtU1mB59",
        "outputId": "37942ffb-07eb-4b3c-e134-630fdb3bf2b8"
      },
      "outputs": [
        {
          "name": "stdout",
          "output_type": "stream",
          "text": [
            "1.5.3\n"
          ]
        }
      ],
      "source": [
        "import pandas as pd\n",
        "print(pd.__version__)"
      ]
    },
    {
      "cell_type": "code",
      "execution_count": 2,
      "metadata": {
        "colab": {
          "base_uri": "https://localhost:8080/"
        },
        "id": "6dh1R-3HmH-M",
        "outputId": "bf97296f-7f9a-4c77-dccc-a09c432595a1"
      },
      "outputs": [
        {
          "name": "stdout",
          "output_type": "stream",
          "text": [
            "   id   val\n",
            "0   0  10.0\n",
            "1   1  11.0\n",
            "2   2  12.0\n",
            "3   2  13.0\n",
            "4   3  14.0\n",
            "5   3  15.0\n",
            "6   3  16.0\n"
          ]
        }
      ],
      "source": [
        "df = pd.DataFrame()\n",
        "df['id'] = [0, 1, 2, 2, 3, 3, 3]\n",
        "df['val'] = [float(i + 10) for i in range(7)]\n",
        "print(df)"
      ]
    },
    {
      "cell_type": "code",
      "execution_count": 3,
      "metadata": {
        "colab": {
          "base_uri": "https://localhost:8080/"
        },
        "id": "S9g78Qqlmgm4",
        "outputId": "9c6c1535-d75f-439d-b012-9b9f86cdda40"
      },
      "outputs": [
        {
          "data": {
            "text/plain": [
              "pandas.core.frame.DataFrame"
            ]
          },
          "execution_count": 3,
          "metadata": {},
          "output_type": "execute_result"
        }
      ],
      "source": [
        "type(df)"
      ]
    },
    {
      "cell_type": "code",
      "execution_count": 4,
      "metadata": {
        "colab": {
          "base_uri": "https://localhost:8080/"
        },
        "id": "dPktGZpLmn_D",
        "outputId": "720eeb64-b4fe-46e3-9c83-495857251654"
      },
      "outputs": [
        {
          "name": "stdout",
          "output_type": "stream",
          "text": [
            "91.0\n"
          ]
        }
      ],
      "source": [
        "soma = df['val'].sum()\n",
        "print(soma)"
      ]
    },
    {
      "cell_type": "markdown",
      "metadata": {
        "id": "UE2CllMq2q_C"
      },
      "source": [
        "# Com o cuDF (GPU)\n"
      ]
    },
    {
      "cell_type": "code",
      "execution_count": 5,
      "metadata": {
        "colab": {
          "base_uri": "https://localhost:8080/"
        },
        "id": "1zbKionGmxPp",
        "outputId": "ae2eec1a-db30-4cf8-ba46-58271d325451"
      },
      "outputs": [
        {
          "name": "stdout",
          "output_type": "stream",
          "text": [
            "24.02.02\n"
          ]
        }
      ],
      "source": [
        "import cudf\n",
        "print(cudf.__version__)"
      ]
    },
    {
      "cell_type": "code",
      "execution_count": 6,
      "metadata": {
        "colab": {
          "base_uri": "https://localhost:8080/"
        },
        "id": "Jtoy1_Frm5GB",
        "outputId": "04bf0924-b29d-48f0-a32f-f4a512ec1396"
      },
      "outputs": [
        {
          "name": "stdout",
          "output_type": "stream",
          "text": [
            "   id   val\n",
            "0   0  10.0\n",
            "1   1  11.0\n",
            "2   2  12.0\n",
            "3   2  13.0\n",
            "4   3  14.0\n",
            "5   3  15.0\n",
            "6   3  16.0\n"
          ]
        }
      ],
      "source": [
        "df = cudf.DataFrame()\n",
        "df['id'] = [0, 1, 2, 2, 3, 3, 3]\n",
        "df['val'] = [float(i + 10) for i in range(7)]\n",
        "print(df)"
      ]
    },
    {
      "cell_type": "code",
      "execution_count": 7,
      "metadata": {
        "colab": {
          "base_uri": "https://localhost:8080/"
        },
        "id": "zEsjPjATnIST",
        "outputId": "47f654da-225a-4c23-9369-a0401e5ae009"
      },
      "outputs": [
        {
          "data": {
            "text/plain": [
              "cudf.core.dataframe.DataFrame"
            ]
          },
          "execution_count": 7,
          "metadata": {},
          "output_type": "execute_result"
        }
      ],
      "source": [
        "type(df)"
      ]
    },
    {
      "cell_type": "code",
      "execution_count": 8,
      "metadata": {
        "colab": {
          "base_uri": "https://localhost:8080/"
        },
        "id": "ZF7s7FVxnN0o",
        "outputId": "5b8ce593-cae6-4af6-a6ab-b36fa84b4f5f"
      },
      "outputs": [
        {
          "name": "stdout",
          "output_type": "stream",
          "text": [
            "91.0\n"
          ]
        }
      ],
      "source": [
        "soma = df['val'].sum()\n",
        "print(soma)"
      ]
    },
    {
      "cell_type": "markdown",
      "metadata": {
        "id": "jaashbZZx27i"
      },
      "source": [
        "# Familiarizando com o cuDF"
      ]
    },
    {
      "cell_type": "markdown",
      "metadata": {
        "id": "l7PPGatzahZn"
      },
      "source": [
        "## Criação de objeto\n",
        "\n"
      ]
    },
    {
      "cell_type": "code",
      "execution_count": 9,
      "metadata": {
        "colab": {
          "base_uri": "https://localhost:8080/"
        },
        "id": "SakUvdg9pzgg",
        "outputId": "d7cf95f8-3c00-45ab-fe8f-eb78d75e992c"
      },
      "outputs": [
        {
          "name": "stdout",
          "output_type": "stream",
          "text": [
            "0       1\n",
            "1       2\n",
            "2    <NA>\n",
            "3       3\n",
            "4       4\n",
            "dtype: int64\n"
          ]
        }
      ],
      "source": [
        "s = cudf.Series([1,2,None,3,4])\n",
        "print(s)"
      ]
    },
    {
      "cell_type": "code",
      "execution_count": 10,
      "metadata": {
        "colab": {
          "base_uri": "https://localhost:8080/",
          "height": 366
        },
        "id": "yAgJD4llqAzk",
        "outputId": "832737f9-b8a1-4a32-b592-710f09bb7369"
      },
      "outputs": [
        {
          "data": {
            "text/html": [
              "<div>\n",
              "<style scoped>\n",
              "    .dataframe tbody tr th:only-of-type {\n",
              "        vertical-align: middle;\n",
              "    }\n",
              "\n",
              "    .dataframe tbody tr th {\n",
              "        vertical-align: top;\n",
              "    }\n",
              "\n",
              "    .dataframe thead th {\n",
              "        text-align: right;\n",
              "    }\n",
              "</style>\n",
              "<table border=\"1\" class=\"dataframe\">\n",
              "  <thead>\n",
              "    <tr style=\"text-align: right;\">\n",
              "      <th></th>\n",
              "      <th>a</th>\n",
              "      <th>b</th>\n",
              "      <th>c</th>\n",
              "    </tr>\n",
              "  </thead>\n",
              "  <tbody>\n",
              "    <tr>\n",
              "      <th>0</th>\n",
              "      <td>0</td>\n",
              "      <td>9</td>\n",
              "      <td>0</td>\n",
              "    </tr>\n",
              "    <tr>\n",
              "      <th>1</th>\n",
              "      <td>1</td>\n",
              "      <td>8</td>\n",
              "      <td>1</td>\n",
              "    </tr>\n",
              "    <tr>\n",
              "      <th>2</th>\n",
              "      <td>2</td>\n",
              "      <td>7</td>\n",
              "      <td>2</td>\n",
              "    </tr>\n",
              "    <tr>\n",
              "      <th>3</th>\n",
              "      <td>3</td>\n",
              "      <td>6</td>\n",
              "      <td>3</td>\n",
              "    </tr>\n",
              "    <tr>\n",
              "      <th>4</th>\n",
              "      <td>4</td>\n",
              "      <td>5</td>\n",
              "      <td>4</td>\n",
              "    </tr>\n",
              "    <tr>\n",
              "      <th>5</th>\n",
              "      <td>5</td>\n",
              "      <td>4</td>\n",
              "      <td>5</td>\n",
              "    </tr>\n",
              "    <tr>\n",
              "      <th>6</th>\n",
              "      <td>6</td>\n",
              "      <td>3</td>\n",
              "      <td>6</td>\n",
              "    </tr>\n",
              "    <tr>\n",
              "      <th>7</th>\n",
              "      <td>7</td>\n",
              "      <td>2</td>\n",
              "      <td>7</td>\n",
              "    </tr>\n",
              "    <tr>\n",
              "      <th>8</th>\n",
              "      <td>8</td>\n",
              "      <td>1</td>\n",
              "      <td>8</td>\n",
              "    </tr>\n",
              "    <tr>\n",
              "      <th>9</th>\n",
              "      <td>9</td>\n",
              "      <td>0</td>\n",
              "      <td>9</td>\n",
              "    </tr>\n",
              "  </tbody>\n",
              "</table>\n",
              "</div>"
            ],
            "text/plain": [
              "   a  b  c\n",
              "0  0  9  0\n",
              "1  1  8  1\n",
              "2  2  7  2\n",
              "3  3  6  3\n",
              "4  4  5  4\n",
              "5  5  4  5\n",
              "6  6  3  6\n",
              "7  7  2  7\n",
              "8  8  1  8\n",
              "9  9  0  9"
            ]
          },
          "execution_count": 10,
          "metadata": {},
          "output_type": "execute_result"
        }
      ],
      "source": [
        "df = cudf.DataFrame({'a': list(range(10)),\n",
        "                     'b': list(reversed(range(10))),\n",
        "                     'c': list(range(10))})\n",
        "df"
      ]
    },
    {
      "cell_type": "code",
      "execution_count": 11,
      "metadata": {
        "colab": {
          "base_uri": "https://localhost:8080/"
        },
        "id": "BmGa4JYXqwny",
        "outputId": "1d343e58-439f-4a41-d22d-fa8cd7488331"
      },
      "outputs": [
        {
          "data": {
            "text/plain": [
              "pandas.core.frame.DataFrame"
            ]
          },
          "execution_count": 11,
          "metadata": {},
          "output_type": "execute_result"
        }
      ],
      "source": [
        "df_p = pd.DataFrame({'a': [0,1,2,3], 'b': [0.1, 0.2, None, 0.3]})\n",
        "type(df_p)"
      ]
    },
    {
      "cell_type": "code",
      "execution_count": 12,
      "metadata": {
        "colab": {
          "base_uri": "https://localhost:8080/"
        },
        "id": "an2ZF4ieq-TD",
        "outputId": "62eb3936-d6ad-405b-a1fd-3b3a244ea0a6"
      },
      "outputs": [
        {
          "data": {
            "text/plain": [
              "cudf.core.dataframe.DataFrame"
            ]
          },
          "execution_count": 12,
          "metadata": {},
          "output_type": "execute_result"
        }
      ],
      "source": [
        "df_c = cudf.DataFrame.from_pandas(df_p)\n",
        "type(df_c)"
      ]
    },
    {
      "cell_type": "code",
      "execution_count": 13,
      "metadata": {
        "colab": {
          "base_uri": "https://localhost:8080/",
          "height": 176
        },
        "id": "_W-FKvoyrHZx",
        "outputId": "1d8fa462-b646-466c-ac57-7bba5511f56b"
      },
      "outputs": [
        {
          "data": {
            "text/html": [
              "<div>\n",
              "<style scoped>\n",
              "    .dataframe tbody tr th:only-of-type {\n",
              "        vertical-align: middle;\n",
              "    }\n",
              "\n",
              "    .dataframe tbody tr th {\n",
              "        vertical-align: top;\n",
              "    }\n",
              "\n",
              "    .dataframe thead th {\n",
              "        text-align: right;\n",
              "    }\n",
              "</style>\n",
              "<table border=\"1\" class=\"dataframe\">\n",
              "  <thead>\n",
              "    <tr style=\"text-align: right;\">\n",
              "      <th></th>\n",
              "      <th>a</th>\n",
              "      <th>b</th>\n",
              "    </tr>\n",
              "  </thead>\n",
              "  <tbody>\n",
              "    <tr>\n",
              "      <th>0</th>\n",
              "      <td>0</td>\n",
              "      <td>0.1</td>\n",
              "    </tr>\n",
              "    <tr>\n",
              "      <th>1</th>\n",
              "      <td>1</td>\n",
              "      <td>0.2</td>\n",
              "    </tr>\n",
              "    <tr>\n",
              "      <th>2</th>\n",
              "      <td>2</td>\n",
              "      <td>&lt;NA&gt;</td>\n",
              "    </tr>\n",
              "    <tr>\n",
              "      <th>3</th>\n",
              "      <td>3</td>\n",
              "      <td>0.3</td>\n",
              "    </tr>\n",
              "  </tbody>\n",
              "</table>\n",
              "</div>"
            ],
            "text/plain": [
              "   a     b\n",
              "0  0   0.1\n",
              "1  1   0.2\n",
              "2  2  <NA>\n",
              "3  3   0.3"
            ]
          },
          "execution_count": 13,
          "metadata": {},
          "output_type": "execute_result"
        }
      ],
      "source": [
        "df_c"
      ]
    },
    {
      "cell_type": "markdown",
      "metadata": {
        "id": "wGbxdrZjbmBr"
      },
      "source": [
        "## Visualização dos dados"
      ]
    },
    {
      "cell_type": "code",
      "execution_count": 14,
      "metadata": {
        "colab": {
          "base_uri": "https://localhost:8080/",
          "height": 113
        },
        "id": "qwwsfU7FrM_r",
        "outputId": "2e1e9f20-b748-4ca2-fa1d-d1327dd7caa0"
      },
      "outputs": [
        {
          "data": {
            "text/html": [
              "<div>\n",
              "<style scoped>\n",
              "    .dataframe tbody tr th:only-of-type {\n",
              "        vertical-align: middle;\n",
              "    }\n",
              "\n",
              "    .dataframe tbody tr th {\n",
              "        vertical-align: top;\n",
              "    }\n",
              "\n",
              "    .dataframe thead th {\n",
              "        text-align: right;\n",
              "    }\n",
              "</style>\n",
              "<table border=\"1\" class=\"dataframe\">\n",
              "  <thead>\n",
              "    <tr style=\"text-align: right;\">\n",
              "      <th></th>\n",
              "      <th>a</th>\n",
              "      <th>b</th>\n",
              "      <th>c</th>\n",
              "    </tr>\n",
              "  </thead>\n",
              "  <tbody>\n",
              "    <tr>\n",
              "      <th>0</th>\n",
              "      <td>0</td>\n",
              "      <td>9</td>\n",
              "      <td>0</td>\n",
              "    </tr>\n",
              "    <tr>\n",
              "      <th>1</th>\n",
              "      <td>1</td>\n",
              "      <td>8</td>\n",
              "      <td>1</td>\n",
              "    </tr>\n",
              "  </tbody>\n",
              "</table>\n",
              "</div>"
            ],
            "text/plain": [
              "   a  b  c\n",
              "0  0  9  0\n",
              "1  1  8  1"
            ]
          },
          "execution_count": 14,
          "metadata": {},
          "output_type": "execute_result"
        }
      ],
      "source": [
        "df.head(2)"
      ]
    },
    {
      "cell_type": "code",
      "execution_count": 15,
      "metadata": {
        "colab": {
          "base_uri": "https://localhost:8080/",
          "height": 366
        },
        "id": "Ja_3egudrROs",
        "outputId": "253d2255-6731-44e7-e0d7-cc8714f59a03"
      },
      "outputs": [
        {
          "data": {
            "text/html": [
              "<div>\n",
              "<style scoped>\n",
              "    .dataframe tbody tr th:only-of-type {\n",
              "        vertical-align: middle;\n",
              "    }\n",
              "\n",
              "    .dataframe tbody tr th {\n",
              "        vertical-align: top;\n",
              "    }\n",
              "\n",
              "    .dataframe thead th {\n",
              "        text-align: right;\n",
              "    }\n",
              "</style>\n",
              "<table border=\"1\" class=\"dataframe\">\n",
              "  <thead>\n",
              "    <tr style=\"text-align: right;\">\n",
              "      <th></th>\n",
              "      <th>a</th>\n",
              "      <th>b</th>\n",
              "      <th>c</th>\n",
              "    </tr>\n",
              "  </thead>\n",
              "  <tbody>\n",
              "    <tr>\n",
              "      <th>9</th>\n",
              "      <td>9</td>\n",
              "      <td>0</td>\n",
              "      <td>9</td>\n",
              "    </tr>\n",
              "    <tr>\n",
              "      <th>8</th>\n",
              "      <td>8</td>\n",
              "      <td>1</td>\n",
              "      <td>8</td>\n",
              "    </tr>\n",
              "    <tr>\n",
              "      <th>7</th>\n",
              "      <td>7</td>\n",
              "      <td>2</td>\n",
              "      <td>7</td>\n",
              "    </tr>\n",
              "    <tr>\n",
              "      <th>6</th>\n",
              "      <td>6</td>\n",
              "      <td>3</td>\n",
              "      <td>6</td>\n",
              "    </tr>\n",
              "    <tr>\n",
              "      <th>5</th>\n",
              "      <td>5</td>\n",
              "      <td>4</td>\n",
              "      <td>5</td>\n",
              "    </tr>\n",
              "    <tr>\n",
              "      <th>4</th>\n",
              "      <td>4</td>\n",
              "      <td>5</td>\n",
              "      <td>4</td>\n",
              "    </tr>\n",
              "    <tr>\n",
              "      <th>3</th>\n",
              "      <td>3</td>\n",
              "      <td>6</td>\n",
              "      <td>3</td>\n",
              "    </tr>\n",
              "    <tr>\n",
              "      <th>2</th>\n",
              "      <td>2</td>\n",
              "      <td>7</td>\n",
              "      <td>2</td>\n",
              "    </tr>\n",
              "    <tr>\n",
              "      <th>1</th>\n",
              "      <td>1</td>\n",
              "      <td>8</td>\n",
              "      <td>1</td>\n",
              "    </tr>\n",
              "    <tr>\n",
              "      <th>0</th>\n",
              "      <td>0</td>\n",
              "      <td>9</td>\n",
              "      <td>0</td>\n",
              "    </tr>\n",
              "  </tbody>\n",
              "</table>\n",
              "</div>"
            ],
            "text/plain": [
              "   a  b  c\n",
              "9  9  0  9\n",
              "8  8  1  8\n",
              "7  7  2  7\n",
              "6  6  3  6\n",
              "5  5  4  5\n",
              "4  4  5  4\n",
              "3  3  6  3\n",
              "2  2  7  2\n",
              "1  1  8  1\n",
              "0  0  9  0"
            ]
          },
          "execution_count": 15,
          "metadata": {},
          "output_type": "execute_result"
        }
      ],
      "source": [
        "df.sort_values(by = 'b')"
      ]
    },
    {
      "cell_type": "markdown",
      "metadata": {
        "id": "BxmJqo_ub7nF"
      },
      "source": [
        "## Seleção"
      ]
    },
    {
      "cell_type": "code",
      "execution_count": 16,
      "metadata": {
        "colab": {
          "base_uri": "https://localhost:8080/"
        },
        "id": "WAm1zr2Nrb-F",
        "outputId": "b6e4a387-4f03-461f-c386-2362efec2bd5"
      },
      "outputs": [
        {
          "data": {
            "text/plain": [
              "0    0\n",
              "1    1\n",
              "2    2\n",
              "3    3\n",
              "4    4\n",
              "5    5\n",
              "6    6\n",
              "7    7\n",
              "8    8\n",
              "9    9\n",
              "Name: a, dtype: int64"
            ]
          },
          "execution_count": 16,
          "metadata": {},
          "output_type": "execute_result"
        }
      ],
      "source": [
        "df['a']"
      ]
    },
    {
      "cell_type": "markdown",
      "metadata": {
        "id": "OtZp8az5ddvs"
      },
      "source": [
        "> Acessando diretamente pelo índice"
      ]
    },
    {
      "cell_type": "code",
      "execution_count": 17,
      "metadata": {
        "colab": {
          "base_uri": "https://localhost:8080/"
        },
        "id": "qHOpieHdrhyK",
        "outputId": "35a3ccf5-5341-4bf2-88e0-078882dc9616"
      },
      "outputs": [
        {
          "name": "stdout",
          "output_type": "stream",
          "text": [
            "   a  b\n",
            "3  3  6\n",
            "4  4  5\n",
            "5  5  4\n"
          ]
        }
      ],
      "source": [
        "print(df.loc[3:5, ['a', 'b']])"
      ]
    },
    {
      "cell_type": "code",
      "execution_count": 18,
      "metadata": {
        "colab": {
          "base_uri": "https://localhost:8080/"
        },
        "id": "MctKrC_9r0Wn",
        "outputId": "3cc347b8-e1d7-4912-bd0f-c5b55e624651"
      },
      "outputs": [
        {
          "data": {
            "text/plain": [
              "a    0\n",
              "b    9\n",
              "c    0\n",
              "Name: 0, dtype: int64"
            ]
          },
          "execution_count": 18,
          "metadata": {},
          "output_type": "execute_result"
        }
      ],
      "source": [
        "df.iloc[0]"
      ]
    },
    {
      "cell_type": "code",
      "execution_count": 19,
      "metadata": {
        "colab": {
          "base_uri": "https://localhost:8080/",
          "height": 144
        },
        "id": "uv0kcJRsr98K",
        "outputId": "66021beb-2c97-43cf-8970-ffe1c8e9b4c6"
      },
      "outputs": [
        {
          "data": {
            "text/html": [
              "<div>\n",
              "<style scoped>\n",
              "    .dataframe tbody tr th:only-of-type {\n",
              "        vertical-align: middle;\n",
              "    }\n",
              "\n",
              "    .dataframe tbody tr th {\n",
              "        vertical-align: top;\n",
              "    }\n",
              "\n",
              "    .dataframe thead th {\n",
              "        text-align: right;\n",
              "    }\n",
              "</style>\n",
              "<table border=\"1\" class=\"dataframe\">\n",
              "  <thead>\n",
              "    <tr style=\"text-align: right;\">\n",
              "      <th></th>\n",
              "      <th>a</th>\n",
              "      <th>b</th>\n",
              "    </tr>\n",
              "  </thead>\n",
              "  <tbody>\n",
              "    <tr>\n",
              "      <th>0</th>\n",
              "      <td>0</td>\n",
              "      <td>9</td>\n",
              "    </tr>\n",
              "    <tr>\n",
              "      <th>1</th>\n",
              "      <td>1</td>\n",
              "      <td>8</td>\n",
              "    </tr>\n",
              "    <tr>\n",
              "      <th>2</th>\n",
              "      <td>2</td>\n",
              "      <td>7</td>\n",
              "    </tr>\n",
              "  </tbody>\n",
              "</table>\n",
              "</div>"
            ],
            "text/plain": [
              "   a  b\n",
              "0  0  9\n",
              "1  1  8\n",
              "2  2  7"
            ]
          },
          "execution_count": 19,
          "metadata": {},
          "output_type": "execute_result"
        }
      ],
      "source": [
        "df.iloc[0:3, 0:2]"
      ]
    },
    {
      "cell_type": "code",
      "execution_count": 20,
      "metadata": {
        "colab": {
          "base_uri": "https://localhost:8080/",
          "height": 144
        },
        "id": "Cc2axoSWsNEq",
        "outputId": "6b66d760-2433-4642-8c3b-e4e8843e6eea"
      },
      "outputs": [
        {
          "data": {
            "text/html": [
              "<div>\n",
              "<style scoped>\n",
              "    .dataframe tbody tr th:only-of-type {\n",
              "        vertical-align: middle;\n",
              "    }\n",
              "\n",
              "    .dataframe tbody tr th {\n",
              "        vertical-align: top;\n",
              "    }\n",
              "\n",
              "    .dataframe thead th {\n",
              "        text-align: right;\n",
              "    }\n",
              "</style>\n",
              "<table border=\"1\" class=\"dataframe\">\n",
              "  <thead>\n",
              "    <tr style=\"text-align: right;\">\n",
              "      <th></th>\n",
              "      <th>a</th>\n",
              "      <th>b</th>\n",
              "      <th>c</th>\n",
              "    </tr>\n",
              "  </thead>\n",
              "  <tbody>\n",
              "    <tr>\n",
              "      <th>2</th>\n",
              "      <td>2</td>\n",
              "      <td>7</td>\n",
              "      <td>2</td>\n",
              "    </tr>\n",
              "    <tr>\n",
              "      <th>3</th>\n",
              "      <td>3</td>\n",
              "      <td>6</td>\n",
              "      <td>3</td>\n",
              "    </tr>\n",
              "    <tr>\n",
              "      <th>4</th>\n",
              "      <td>4</td>\n",
              "      <td>5</td>\n",
              "      <td>4</td>\n",
              "    </tr>\n",
              "  </tbody>\n",
              "</table>\n",
              "</div>"
            ],
            "text/plain": [
              "   a  b  c\n",
              "2  2  7  2\n",
              "3  3  6  3\n",
              "4  4  5  4"
            ]
          },
          "execution_count": 20,
          "metadata": {},
          "output_type": "execute_result"
        }
      ],
      "source": [
        "df[2:5]"
      ]
    },
    {
      "cell_type": "code",
      "execution_count": 21,
      "metadata": {
        "colab": {
          "base_uri": "https://localhost:8080/"
        },
        "id": "8I1ckjrOsR1g",
        "outputId": "e1ed5648-476d-46a7-f787-710253c06a93"
      },
      "outputs": [
        {
          "data": {
            "text/plain": [
              "2    <NA>\n",
              "3       3\n",
              "4       4\n",
              "dtype: int64"
            ]
          },
          "execution_count": 21,
          "metadata": {},
          "output_type": "execute_result"
        }
      ],
      "source": [
        "s[2:5]"
      ]
    },
    {
      "cell_type": "markdown",
      "metadata": {
        "id": "onlUGglM65pq"
      },
      "source": [
        "## Condicionamentos e indexação booleana"
      ]
    },
    {
      "cell_type": "code",
      "execution_count": 22,
      "metadata": {
        "colab": {
          "base_uri": "https://localhost:8080/",
          "height": 366
        },
        "id": "KhcVVTbxtQJO",
        "outputId": "9da4424c-70fe-42e6-90a9-18ec9a1e2524"
      },
      "outputs": [
        {
          "data": {
            "text/html": [
              "<div>\n",
              "<style scoped>\n",
              "    .dataframe tbody tr th:only-of-type {\n",
              "        vertical-align: middle;\n",
              "    }\n",
              "\n",
              "    .dataframe tbody tr th {\n",
              "        vertical-align: top;\n",
              "    }\n",
              "\n",
              "    .dataframe thead th {\n",
              "        text-align: right;\n",
              "    }\n",
              "</style>\n",
              "<table border=\"1\" class=\"dataframe\">\n",
              "  <thead>\n",
              "    <tr style=\"text-align: right;\">\n",
              "      <th></th>\n",
              "      <th>a</th>\n",
              "      <th>b</th>\n",
              "      <th>c</th>\n",
              "    </tr>\n",
              "  </thead>\n",
              "  <tbody>\n",
              "    <tr>\n",
              "      <th>0</th>\n",
              "      <td>0</td>\n",
              "      <td>9</td>\n",
              "      <td>0</td>\n",
              "    </tr>\n",
              "    <tr>\n",
              "      <th>1</th>\n",
              "      <td>1</td>\n",
              "      <td>8</td>\n",
              "      <td>1</td>\n",
              "    </tr>\n",
              "    <tr>\n",
              "      <th>2</th>\n",
              "      <td>2</td>\n",
              "      <td>7</td>\n",
              "      <td>2</td>\n",
              "    </tr>\n",
              "    <tr>\n",
              "      <th>3</th>\n",
              "      <td>3</td>\n",
              "      <td>6</td>\n",
              "      <td>3</td>\n",
              "    </tr>\n",
              "    <tr>\n",
              "      <th>4</th>\n",
              "      <td>4</td>\n",
              "      <td>5</td>\n",
              "      <td>4</td>\n",
              "    </tr>\n",
              "    <tr>\n",
              "      <th>5</th>\n",
              "      <td>5</td>\n",
              "      <td>4</td>\n",
              "      <td>5</td>\n",
              "    </tr>\n",
              "    <tr>\n",
              "      <th>6</th>\n",
              "      <td>6</td>\n",
              "      <td>3</td>\n",
              "      <td>6</td>\n",
              "    </tr>\n",
              "    <tr>\n",
              "      <th>7</th>\n",
              "      <td>7</td>\n",
              "      <td>2</td>\n",
              "      <td>7</td>\n",
              "    </tr>\n",
              "    <tr>\n",
              "      <th>8</th>\n",
              "      <td>8</td>\n",
              "      <td>1</td>\n",
              "      <td>8</td>\n",
              "    </tr>\n",
              "    <tr>\n",
              "      <th>9</th>\n",
              "      <td>9</td>\n",
              "      <td>0</td>\n",
              "      <td>9</td>\n",
              "    </tr>\n",
              "  </tbody>\n",
              "</table>\n",
              "</div>"
            ],
            "text/plain": [
              "   a  b  c\n",
              "0  0  9  0\n",
              "1  1  8  1\n",
              "2  2  7  2\n",
              "3  3  6  3\n",
              "4  4  5  4\n",
              "5  5  4  5\n",
              "6  6  3  6\n",
              "7  7  2  7\n",
              "8  8  1  8\n",
              "9  9  0  9"
            ]
          },
          "execution_count": 22,
          "metadata": {},
          "output_type": "execute_result"
        }
      ],
      "source": [
        "df"
      ]
    },
    {
      "cell_type": "code",
      "execution_count": 23,
      "metadata": {
        "colab": {
          "base_uri": "https://localhost:8080/"
        },
        "id": "Eo9McxhftZMY",
        "outputId": "bc4edc46-b034-49ef-e4f7-e441a6c542de"
      },
      "outputs": [
        {
          "name": "stdout",
          "output_type": "stream",
          "text": [
            "   a  b  c\n",
            "0  0  9  0\n",
            "1  1  8  1\n",
            "2  2  7  2\n",
            "3  3  6  3\n"
          ]
        }
      ],
      "source": [
        "print(df[df.b > 5])"
      ]
    },
    {
      "cell_type": "markdown",
      "metadata": {
        "id": "IanFHtYCjSAW"
      },
      "source": [
        "> Condição específica com operador lógico\n",
        "\n"
      ]
    },
    {
      "cell_type": "code",
      "execution_count": 24,
      "metadata": {
        "colab": {
          "base_uri": "https://localhost:8080/",
          "height": 81
        },
        "id": "j0-kz9f3tnLx",
        "outputId": "b2dfc830-3b8a-4f31-ccc3-43343fc77401"
      },
      "outputs": [
        {
          "data": {
            "text/html": [
              "<div>\n",
              "<style scoped>\n",
              "    .dataframe tbody tr th:only-of-type {\n",
              "        vertical-align: middle;\n",
              "    }\n",
              "\n",
              "    .dataframe tbody tr th {\n",
              "        vertical-align: top;\n",
              "    }\n",
              "\n",
              "    .dataframe thead th {\n",
              "        text-align: right;\n",
              "    }\n",
              "</style>\n",
              "<table border=\"1\" class=\"dataframe\">\n",
              "  <thead>\n",
              "    <tr style=\"text-align: right;\">\n",
              "      <th></th>\n",
              "      <th>a</th>\n",
              "      <th>b</th>\n",
              "      <th>c</th>\n",
              "    </tr>\n",
              "  </thead>\n",
              "  <tbody>\n",
              "    <tr>\n",
              "      <th>2</th>\n",
              "      <td>2</td>\n",
              "      <td>7</td>\n",
              "      <td>2</td>\n",
              "    </tr>\n",
              "  </tbody>\n",
              "</table>\n",
              "</div>"
            ],
            "text/plain": [
              "   a  b  c\n",
              "2  2  7  2"
            ]
          },
          "execution_count": 24,
          "metadata": {},
          "output_type": "execute_result"
        }
      ],
      "source": [
        "df.query(\"b == 7\")"
      ]
    },
    {
      "cell_type": "code",
      "execution_count": 25,
      "metadata": {
        "colab": {
          "base_uri": "https://localhost:8080/",
          "height": 81
        },
        "id": "t_8RwEVFtxCP",
        "outputId": "498d296f-13b3-47ce-b677-4f7b3e620a28"
      },
      "outputs": [
        {
          "data": {
            "text/html": [
              "<div>\n",
              "<style scoped>\n",
              "    .dataframe tbody tr th:only-of-type {\n",
              "        vertical-align: middle;\n",
              "    }\n",
              "\n",
              "    .dataframe tbody tr th {\n",
              "        vertical-align: top;\n",
              "    }\n",
              "\n",
              "    .dataframe thead th {\n",
              "        text-align: right;\n",
              "    }\n",
              "</style>\n",
              "<table border=\"1\" class=\"dataframe\">\n",
              "  <thead>\n",
              "    <tr style=\"text-align: right;\">\n",
              "      <th></th>\n",
              "      <th>a</th>\n",
              "      <th>b</th>\n",
              "      <th>c</th>\n",
              "    </tr>\n",
              "  </thead>\n",
              "  <tbody>\n",
              "    <tr>\n",
              "      <th>1</th>\n",
              "      <td>1</td>\n",
              "      <td>8</td>\n",
              "      <td>1</td>\n",
              "    </tr>\n",
              "  </tbody>\n",
              "</table>\n",
              "</div>"
            ],
            "text/plain": [
              "   a  b  c\n",
              "1  1  8  1"
            ]
          },
          "execution_count": 25,
          "metadata": {},
          "output_type": "execute_result"
        }
      ],
      "source": [
        "val = 8\n",
        "df.query(\"b == @val\")"
      ]
    },
    {
      "cell_type": "markdown",
      "metadata": {
        "id": "8iJ5ZLukkGC1"
      },
      "source": [
        "Outros operadores lógicos: `>`, `<`, `>=`, `<=`, `==`, e `!=`."
      ]
    },
    {
      "cell_type": "markdown",
      "metadata": {
        "id": "pT5plbHCkRHc"
      },
      "source": [
        "## Dados faltantes"
      ]
    },
    {
      "cell_type": "code",
      "execution_count": 26,
      "metadata": {
        "colab": {
          "base_uri": "https://localhost:8080/"
        },
        "id": "lgSt-uUWt7nz",
        "outputId": "60357fe4-805c-43a6-be55-a50e5ab15480"
      },
      "outputs": [
        {
          "data": {
            "text/plain": [
              "0       1\n",
              "1       2\n",
              "2    <NA>\n",
              "3       3\n",
              "4       4\n",
              "dtype: int64"
            ]
          },
          "execution_count": 26,
          "metadata": {},
          "output_type": "execute_result"
        }
      ],
      "source": [
        "s"
      ]
    },
    {
      "cell_type": "code",
      "execution_count": 27,
      "metadata": {
        "colab": {
          "base_uri": "https://localhost:8080/"
        },
        "id": "8r1495wHuArp",
        "outputId": "261f01da-158e-416b-defc-86b5af954929"
      },
      "outputs": [
        {
          "name": "stdout",
          "output_type": "stream",
          "text": [
            "0      1\n",
            "1      2\n",
            "2    999\n",
            "3      3\n",
            "4      4\n",
            "dtype: int64\n"
          ]
        }
      ],
      "source": [
        "print(s.fillna(999))"
      ]
    },
    {
      "cell_type": "code",
      "execution_count": 28,
      "metadata": {
        "colab": {
          "base_uri": "https://localhost:8080/"
        },
        "id": "cl2lib3auKz_",
        "outputId": "cb4d7a91-5b9a-45b4-b716-fa3a04088a2c"
      },
      "outputs": [
        {
          "name": "stdout",
          "output_type": "stream",
          "text": [
            "0    1\n",
            "1    2\n",
            "3    3\n",
            "4    4\n",
            "dtype: int64\n"
          ]
        }
      ],
      "source": [
        "print(s.dropna())"
      ]
    },
    {
      "cell_type": "markdown",
      "metadata": {
        "id": "Uv4mTCkXk7MU"
      },
      "source": [
        "## Estatísticas"
      ]
    },
    {
      "cell_type": "code",
      "execution_count": 29,
      "metadata": {
        "id": "-BRWkeA3uYqt"
      },
      "outputs": [],
      "source": [
        "import numpy as np # cuPy"
      ]
    },
    {
      "cell_type": "code",
      "execution_count": 30,
      "metadata": {
        "colab": {
          "base_uri": "https://localhost:8080/"
        },
        "id": "Yw90OsvyuizQ",
        "outputId": "481a914e-f92d-4fdc-d5fe-7586a2e9e5d0"
      },
      "outputs": [
        {
          "data": {
            "text/plain": [
              "array([0, 1, 2, 3, 4, 5, 6, 7, 8, 9])"
            ]
          },
          "execution_count": 30,
          "metadata": {},
          "output_type": "execute_result"
        }
      ],
      "source": [
        "np.arange(10)"
      ]
    },
    {
      "cell_type": "code",
      "execution_count": 31,
      "metadata": {
        "colab": {
          "base_uri": "https://localhost:8080/"
        },
        "id": "EmiiUG23uUaO",
        "outputId": "89940da5-3616-4406-bf9e-ec083129427a"
      },
      "outputs": [
        {
          "data": {
            "text/plain": [
              "0    0.0\n",
              "1    1.0\n",
              "2    2.0\n",
              "3    3.0\n",
              "4    4.0\n",
              "5    5.0\n",
              "6    6.0\n",
              "7    7.0\n",
              "8    8.0\n",
              "9    9.0\n",
              "dtype: float32"
            ]
          },
          "execution_count": 31,
          "metadata": {},
          "output_type": "execute_result"
        }
      ],
      "source": [
        "s = cudf.Series(np.arange(10).astype(np.float32))\n",
        "s"
      ]
    },
    {
      "cell_type": "code",
      "execution_count": 32,
      "metadata": {
        "colab": {
          "base_uri": "https://localhost:8080/"
        },
        "id": "MEKePWbZuty9",
        "outputId": "f77da516-d2b5-430a-9b0b-fdc30b2a7ab8"
      },
      "outputs": [
        {
          "name": "stdout",
          "output_type": "stream",
          "text": [
            "4.5\n",
            "9.166666666666668\n",
            "3.0276503540974917\n"
          ]
        }
      ],
      "source": [
        "print(s.mean())\n",
        "print(s.var())\n",
        "print(s.std())"
      ]
    },
    {
      "cell_type": "code",
      "execution_count": 33,
      "metadata": {
        "colab": {
          "base_uri": "https://localhost:8080/"
        },
        "id": "WbJUMXpmu_-P",
        "outputId": "e937dd12-bb5e-47ec-b372-f49f5d8085d9"
      },
      "outputs": [
        {
          "name": "stderr",
          "output_type": "stream",
          "text": [
            "/home/gustavocb/.local/lib/python3.10/site-packages/cudf/core/dataframe.py:5106: FutureWarning: `datetime_is_numeric` is deprecated. Specify `datetime_is_numeric=True` to silence this warning and adopt the future behavior now.\n",
            "  warnings.warn(\n",
            "/home/gustavocb/.local/lib/python3.10/site-packages/cudf/core/series.py:3319: FutureWarning: `datetime_is_numeric` is deprecated and will be removed in a future release. Specify `datetime_is_numeric=True` to silence this warning and adopt the future behavior now.\n",
            "  warnings.warn(\n"
          ]
        },
        {
          "name": "stdout",
          "output_type": "stream",
          "text": [
            "              a         b         c\n",
            "count  10.00000  10.00000  10.00000\n",
            "mean    4.50000   4.50000   4.50000\n",
            "std     3.02765   3.02765   3.02765\n",
            "min     0.00000   0.00000   0.00000\n",
            "25%     2.25000   2.25000   2.25000\n",
            "50%     4.50000   4.50000   4.50000\n",
            "75%     6.75000   6.75000   6.75000\n",
            "max     9.00000   9.00000   9.00000\n"
          ]
        }
      ],
      "source": [
        "print(df.describe())"
      ]
    },
    {
      "cell_type": "markdown",
      "metadata": {
        "id": "mBSGYVJ8odEh"
      },
      "source": [
        "## Métodos de string\n",
        "\n",
        "Você pode conferir a lista atualizada de métodos na documentação: https://docs.rapids.ai/api/cudf/nightly/api_docs/string_handling/#string-handling"
      ]
    },
    {
      "cell_type": "code",
      "execution_count": 34,
      "metadata": {
        "colab": {
          "base_uri": "https://localhost:8080/"
        },
        "id": "jFcU-QnzvuJF",
        "outputId": "7f940c9a-6366-4d5b-cd2b-4ac88b047347"
      },
      "outputs": [
        {
          "data": {
            "text/plain": [
              "0           A\n",
              "1           B\n",
              "2           C\n",
              "3      Rapids\n",
              "4        <NA>\n",
              "5        Gato\n",
              "6    Cachorro\n",
              "dtype: object"
            ]
          },
          "execution_count": 34,
          "metadata": {},
          "output_type": "execute_result"
        }
      ],
      "source": [
        "s = cudf.Series(['A', 'B', 'C', 'Rapids', None, 'Gato', 'Cachorro'])\n",
        "s"
      ]
    },
    {
      "cell_type": "code",
      "execution_count": 35,
      "metadata": {
        "colab": {
          "base_uri": "https://localhost:8080/"
        },
        "id": "Z8t4tuWfv4ZU",
        "outputId": "0b97f907-0d7d-4314-cef0-1bdabc474839"
      },
      "outputs": [
        {
          "name": "stdout",
          "output_type": "stream",
          "text": [
            "0           A\n",
            "1           B\n",
            "2           C\n",
            "3      RAPIDS\n",
            "4        <NA>\n",
            "5        GATO\n",
            "6    CACHORRO\n",
            "dtype: object\n",
            "\n",
            "0           a\n",
            "1           b\n",
            "2           c\n",
            "3      rapids\n",
            "4        <NA>\n",
            "5        gato\n",
            "6    cachorro\n",
            "dtype: object\n"
          ]
        }
      ],
      "source": [
        "print(s.str.upper())\n",
        "print()\n",
        "print(s.str.lower())"
      ]
    },
    {
      "cell_type": "code",
      "execution_count": 36,
      "metadata": {
        "colab": {
          "base_uri": "https://localhost:8080/"
        },
        "id": "YbubJCVXwFEI",
        "outputId": "4d5370a6-51cb-429c-f7fd-e1f7ca8a9ff7"
      },
      "outputs": [
        {
          "name": "stdout",
          "output_type": "stream",
          "text": [
            "0       1\n",
            "1       1\n",
            "2       1\n",
            "3       6\n",
            "4    <NA>\n",
            "5       4\n",
            "6       8\n",
            "dtype: int32\n"
          ]
        }
      ],
      "source": [
        "print(s.str.byte_count())"
      ]
    },
    {
      "cell_type": "code",
      "execution_count": 37,
      "metadata": {
        "colab": {
          "base_uri": "https://localhost:8080/"
        },
        "id": "fnmoWtYJwPeN",
        "outputId": "eb753c77-d2c8-4442-dede-462caa5c923f"
      },
      "outputs": [
        {
          "name": "stdout",
          "output_type": "stream",
          "text": [
            "0    False\n",
            "1    False\n",
            "2     True\n",
            "3    False\n",
            "4     <NA>\n",
            "5     True\n",
            "6     True\n",
            "dtype: bool\n"
          ]
        }
      ],
      "source": [
        "print(s.str.contains('C|Gato', regex=True))"
      ]
    },
    {
      "cell_type": "markdown",
      "metadata": {
        "id": "uiqbjVz4mXbE"
      },
      "source": [
        "## Aplicando funções em um Series\n"
      ]
    },
    {
      "cell_type": "code",
      "execution_count": 38,
      "metadata": {
        "colab": {
          "base_uri": "https://localhost:8080/"
        },
        "id": "zoGQRmPIwq4V",
        "outputId": "7fe4d90f-2055-4deb-86fc-3d4adee30b60"
      },
      "outputs": [
        {
          "data": {
            "text/plain": [
              "0    1\n",
              "1    2\n",
              "2    7\n",
              "3    3\n",
              "4    4\n",
              "dtype: int64"
            ]
          },
          "execution_count": 38,
          "metadata": {},
          "output_type": "execute_result"
        }
      ],
      "source": [
        "s = cudf.Series([1,2,7,3,4])\n",
        "s"
      ]
    },
    {
      "cell_type": "code",
      "execution_count": 39,
      "metadata": {
        "id": "G9VmpZ3LwwH4"
      },
      "outputs": [],
      "source": [
        "def add_10(num):\n",
        "  return num + 10"
      ]
    },
    {
      "cell_type": "code",
      "execution_count": 40,
      "metadata": {
        "colab": {
          "base_uri": "https://localhost:8080/"
        },
        "id": "AbYXrVDGw0u3",
        "outputId": "a38147d1-7296-4471-ac21-aee8d4ba6fad"
      },
      "outputs": [
        {
          "data": {
            "text/plain": [
              "11"
            ]
          },
          "execution_count": 40,
          "metadata": {},
          "output_type": "execute_result"
        }
      ],
      "source": [
        "add_10(1)"
      ]
    },
    {
      "cell_type": "code",
      "execution_count": 41,
      "metadata": {
        "colab": {
          "base_uri": "https://localhost:8080/"
        },
        "id": "FyCoQ546w5sw",
        "outputId": "0b8020e7-3405-4192-d9f1-8abcb8823c38"
      },
      "outputs": [
        {
          "name": "stdout",
          "output_type": "stream",
          "text": [
            "0    11\n",
            "1    12\n",
            "2    17\n",
            "3    13\n",
            "4    14\n",
            "dtype: int64\n"
          ]
        }
      ],
      "source": [
        "print(s.apply(add_10))"
      ]
    },
    {
      "cell_type": "markdown",
      "metadata": {
        "id": "3AZAhO4wpD-x"
      },
      "source": [
        "## Concatenar\n"
      ]
    },
    {
      "cell_type": "code",
      "execution_count": 42,
      "metadata": {
        "colab": {
          "base_uri": "https://localhost:8080/"
        },
        "id": "sGxxtiSHxhgR",
        "outputId": "10769274-ff26-4e36-c823-a9fd8006833c"
      },
      "outputs": [
        {
          "data": {
            "text/plain": [
              "0       1\n",
              "1       2\n",
              "2    <NA>\n",
              "3       3\n",
              "4       5\n",
              "dtype: int64"
            ]
          },
          "execution_count": 42,
          "metadata": {},
          "output_type": "execute_result"
        }
      ],
      "source": [
        "s = cudf.Series([1,2,None,3,5])\n",
        "s"
      ]
    },
    {
      "cell_type": "code",
      "execution_count": 43,
      "metadata": {
        "colab": {
          "base_uri": "https://localhost:8080/"
        },
        "id": "pPJRf22cxqGn",
        "outputId": "edbb9fd2-368c-4fdc-b3aa-3e3105f2debe"
      },
      "outputs": [
        {
          "name": "stdout",
          "output_type": "stream",
          "text": [
            "0       1\n",
            "1       2\n",
            "2    <NA>\n",
            "3       3\n",
            "4       5\n",
            "0       1\n",
            "1       2\n",
            "2    <NA>\n",
            "3       3\n",
            "4       5\n",
            "dtype: int64\n"
          ]
        }
      ],
      "source": [
        "print(cudf.concat([s,s]))"
      ]
    },
    {
      "cell_type": "markdown",
      "metadata": {
        "id": "Eivc9iy-pguJ"
      },
      "source": [
        "## Juntar"
      ]
    },
    {
      "cell_type": "markdown",
      "metadata": {
        "id": "Ybv9RVusyfdn"
      },
      "source": [
        "O RAPIDS suporta linguagem SQL - pesquisar por [BlazingSQL](https://github.com/BlazingDB/blazingsql)"
      ]
    },
    {
      "cell_type": "code",
      "execution_count": 44,
      "metadata": {
        "id": "04TaVscBx2dE"
      },
      "outputs": [],
      "source": [
        "df_a = cudf.DataFrame()\n",
        "df_a['id'] = ['a', 'b', 'c', 'd', 'e']\n",
        "df_a['vals_a'] = [float(i + 30) for i in range(5)]\n",
        "\n",
        "df_b = cudf.DataFrame()\n",
        "df_b['id'] = ['a', 'c', 'e']\n",
        "df_b['vals_b'] = [float(i + 300) for i in range(3)]"
      ]
    },
    {
      "cell_type": "code",
      "execution_count": 45,
      "metadata": {
        "colab": {
          "base_uri": "https://localhost:8080/",
          "height": 208
        },
        "id": "C-xzwWO-yVQZ",
        "outputId": "cfc51158-b93f-4cb1-8ce4-ab2c5ca89d91"
      },
      "outputs": [
        {
          "data": {
            "text/html": [
              "<div>\n",
              "<style scoped>\n",
              "    .dataframe tbody tr th:only-of-type {\n",
              "        vertical-align: middle;\n",
              "    }\n",
              "\n",
              "    .dataframe tbody tr th {\n",
              "        vertical-align: top;\n",
              "    }\n",
              "\n",
              "    .dataframe thead th {\n",
              "        text-align: right;\n",
              "    }\n",
              "</style>\n",
              "<table border=\"1\" class=\"dataframe\">\n",
              "  <thead>\n",
              "    <tr style=\"text-align: right;\">\n",
              "      <th></th>\n",
              "      <th>id</th>\n",
              "      <th>vals_a</th>\n",
              "    </tr>\n",
              "  </thead>\n",
              "  <tbody>\n",
              "    <tr>\n",
              "      <th>0</th>\n",
              "      <td>a</td>\n",
              "      <td>30.0</td>\n",
              "    </tr>\n",
              "    <tr>\n",
              "      <th>1</th>\n",
              "      <td>b</td>\n",
              "      <td>31.0</td>\n",
              "    </tr>\n",
              "    <tr>\n",
              "      <th>2</th>\n",
              "      <td>c</td>\n",
              "      <td>32.0</td>\n",
              "    </tr>\n",
              "    <tr>\n",
              "      <th>3</th>\n",
              "      <td>d</td>\n",
              "      <td>33.0</td>\n",
              "    </tr>\n",
              "    <tr>\n",
              "      <th>4</th>\n",
              "      <td>e</td>\n",
              "      <td>34.0</td>\n",
              "    </tr>\n",
              "  </tbody>\n",
              "</table>\n",
              "</div>"
            ],
            "text/plain": [
              "  id  vals_a\n",
              "0  a    30.0\n",
              "1  b    31.0\n",
              "2  c    32.0\n",
              "3  d    33.0\n",
              "4  e    34.0"
            ]
          },
          "execution_count": 45,
          "metadata": {},
          "output_type": "execute_result"
        }
      ],
      "source": [
        "df_a"
      ]
    },
    {
      "cell_type": "code",
      "execution_count": 46,
      "metadata": {
        "colab": {
          "base_uri": "https://localhost:8080/",
          "height": 144
        },
        "id": "1Yjm-BpnyXJP",
        "outputId": "d672b29d-b507-4334-830d-c6db9e08d813"
      },
      "outputs": [
        {
          "data": {
            "text/html": [
              "<div>\n",
              "<style scoped>\n",
              "    .dataframe tbody tr th:only-of-type {\n",
              "        vertical-align: middle;\n",
              "    }\n",
              "\n",
              "    .dataframe tbody tr th {\n",
              "        vertical-align: top;\n",
              "    }\n",
              "\n",
              "    .dataframe thead th {\n",
              "        text-align: right;\n",
              "    }\n",
              "</style>\n",
              "<table border=\"1\" class=\"dataframe\">\n",
              "  <thead>\n",
              "    <tr style=\"text-align: right;\">\n",
              "      <th></th>\n",
              "      <th>id</th>\n",
              "      <th>vals_b</th>\n",
              "    </tr>\n",
              "  </thead>\n",
              "  <tbody>\n",
              "    <tr>\n",
              "      <th>0</th>\n",
              "      <td>a</td>\n",
              "      <td>300.0</td>\n",
              "    </tr>\n",
              "    <tr>\n",
              "      <th>1</th>\n",
              "      <td>c</td>\n",
              "      <td>301.0</td>\n",
              "    </tr>\n",
              "    <tr>\n",
              "      <th>2</th>\n",
              "      <td>e</td>\n",
              "      <td>302.0</td>\n",
              "    </tr>\n",
              "  </tbody>\n",
              "</table>\n",
              "</div>"
            ],
            "text/plain": [
              "  id  vals_b\n",
              "0  a   300.0\n",
              "1  c   301.0\n",
              "2  e   302.0"
            ]
          },
          "execution_count": 46,
          "metadata": {},
          "output_type": "execute_result"
        }
      ],
      "source": [
        "df_b"
      ]
    },
    {
      "cell_type": "code",
      "execution_count": 47,
      "metadata": {
        "colab": {
          "base_uri": "https://localhost:8080/"
        },
        "id": "FuHfgSlhyad8",
        "outputId": "036e8993-71cb-42e1-e4b8-7bf465378064"
      },
      "outputs": [
        {
          "name": "stdout",
          "output_type": "stream",
          "text": [
            "  id  vals_a vals_b\n",
            "0  a    30.0  300.0\n",
            "1  c    32.0  301.0\n",
            "2  e    34.0  302.0\n",
            "3  b    31.0   <NA>\n",
            "4  d    33.0   <NA>\n"
          ]
        }
      ],
      "source": [
        "merged = df_a.merge(df_b, on = ['id'], how = 'left')\n",
        "print(merged)"
      ]
    },
    {
      "cell_type": "markdown",
      "metadata": {
        "id": "3ppn9a4UqvGX"
      },
      "source": [
        "## Agrupamento\n",
        "\n",
        "Documentação Pandas: https://pandas.pydata.org/pandas-docs/stable/user_guide/groupby.html\n"
      ]
    },
    {
      "cell_type": "code",
      "execution_count": 48,
      "metadata": {
        "colab": {
          "base_uri": "https://localhost:8080/",
          "height": 366
        },
        "id": "WnaAXzGYezBO",
        "outputId": "4701f7f5-940d-4d63-b570-1118550c99ed"
      },
      "outputs": [
        {
          "data": {
            "text/html": [
              "<div>\n",
              "<style scoped>\n",
              "    .dataframe tbody tr th:only-of-type {\n",
              "        vertical-align: middle;\n",
              "    }\n",
              "\n",
              "    .dataframe tbody tr th {\n",
              "        vertical-align: top;\n",
              "    }\n",
              "\n",
              "    .dataframe thead th {\n",
              "        text-align: right;\n",
              "    }\n",
              "</style>\n",
              "<table border=\"1\" class=\"dataframe\">\n",
              "  <thead>\n",
              "    <tr style=\"text-align: right;\">\n",
              "      <th></th>\n",
              "      <th>a</th>\n",
              "      <th>b</th>\n",
              "      <th>c</th>\n",
              "    </tr>\n",
              "  </thead>\n",
              "  <tbody>\n",
              "    <tr>\n",
              "      <th>0</th>\n",
              "      <td>0</td>\n",
              "      <td>9</td>\n",
              "      <td>0</td>\n",
              "    </tr>\n",
              "    <tr>\n",
              "      <th>1</th>\n",
              "      <td>1</td>\n",
              "      <td>8</td>\n",
              "      <td>1</td>\n",
              "    </tr>\n",
              "    <tr>\n",
              "      <th>2</th>\n",
              "      <td>2</td>\n",
              "      <td>7</td>\n",
              "      <td>2</td>\n",
              "    </tr>\n",
              "    <tr>\n",
              "      <th>3</th>\n",
              "      <td>3</td>\n",
              "      <td>6</td>\n",
              "      <td>3</td>\n",
              "    </tr>\n",
              "    <tr>\n",
              "      <th>4</th>\n",
              "      <td>4</td>\n",
              "      <td>5</td>\n",
              "      <td>4</td>\n",
              "    </tr>\n",
              "    <tr>\n",
              "      <th>5</th>\n",
              "      <td>5</td>\n",
              "      <td>4</td>\n",
              "      <td>5</td>\n",
              "    </tr>\n",
              "    <tr>\n",
              "      <th>6</th>\n",
              "      <td>6</td>\n",
              "      <td>3</td>\n",
              "      <td>6</td>\n",
              "    </tr>\n",
              "    <tr>\n",
              "      <th>7</th>\n",
              "      <td>7</td>\n",
              "      <td>2</td>\n",
              "      <td>7</td>\n",
              "    </tr>\n",
              "    <tr>\n",
              "      <th>8</th>\n",
              "      <td>8</td>\n",
              "      <td>1</td>\n",
              "      <td>8</td>\n",
              "    </tr>\n",
              "    <tr>\n",
              "      <th>9</th>\n",
              "      <td>9</td>\n",
              "      <td>0</td>\n",
              "      <td>9</td>\n",
              "    </tr>\n",
              "  </tbody>\n",
              "</table>\n",
              "</div>"
            ],
            "text/plain": [
              "   a  b  c\n",
              "0  0  9  0\n",
              "1  1  8  1\n",
              "2  2  7  2\n",
              "3  3  6  3\n",
              "4  4  5  4\n",
              "5  5  4  5\n",
              "6  6  3  6\n",
              "7  7  2  7\n",
              "8  8  1  8\n",
              "9  9  0  9"
            ]
          },
          "execution_count": 48,
          "metadata": {},
          "output_type": "execute_result"
        }
      ],
      "source": [
        "df"
      ]
    },
    {
      "cell_type": "code",
      "execution_count": 49,
      "metadata": {
        "colab": {
          "base_uri": "https://localhost:8080/"
        },
        "id": "soMY8eOefJVJ",
        "outputId": "264a3329-395c-4ed4-b1ea-98cb0d1e8931"
      },
      "outputs": [
        {
          "data": {
            "text/plain": [
              "10"
            ]
          },
          "execution_count": 49,
          "metadata": {},
          "output_type": "execute_result"
        }
      ],
      "source": [
        "len(df)"
      ]
    },
    {
      "cell_type": "code",
      "execution_count": 50,
      "metadata": {
        "id": "LUSGOUD1evRT"
      },
      "outputs": [],
      "source": [
        "df['ag_col1'] = [1 if x % 2 == 0 else 0 for x in range(len(df))]"
      ]
    },
    {
      "cell_type": "code",
      "execution_count": 51,
      "metadata": {
        "id": "C47l2w-yfZ4A"
      },
      "outputs": [],
      "source": [
        "df['ag_col2'] = [1 if x % 3 == 0 else 0 for x in range(len(df))]"
      ]
    },
    {
      "cell_type": "code",
      "execution_count": 52,
      "metadata": {
        "colab": {
          "base_uri": "https://localhost:8080/",
          "height": 366
        },
        "id": "KnR7cFMWfPFw",
        "outputId": "51b28105-7045-4f42-e9ec-8d2bb69fa2c5"
      },
      "outputs": [
        {
          "data": {
            "text/html": [
              "<div>\n",
              "<style scoped>\n",
              "    .dataframe tbody tr th:only-of-type {\n",
              "        vertical-align: middle;\n",
              "    }\n",
              "\n",
              "    .dataframe tbody tr th {\n",
              "        vertical-align: top;\n",
              "    }\n",
              "\n",
              "    .dataframe thead th {\n",
              "        text-align: right;\n",
              "    }\n",
              "</style>\n",
              "<table border=\"1\" class=\"dataframe\">\n",
              "  <thead>\n",
              "    <tr style=\"text-align: right;\">\n",
              "      <th></th>\n",
              "      <th>a</th>\n",
              "      <th>b</th>\n",
              "      <th>c</th>\n",
              "      <th>ag_col1</th>\n",
              "      <th>ag_col2</th>\n",
              "    </tr>\n",
              "  </thead>\n",
              "  <tbody>\n",
              "    <tr>\n",
              "      <th>0</th>\n",
              "      <td>0</td>\n",
              "      <td>9</td>\n",
              "      <td>0</td>\n",
              "      <td>1</td>\n",
              "      <td>1</td>\n",
              "    </tr>\n",
              "    <tr>\n",
              "      <th>1</th>\n",
              "      <td>1</td>\n",
              "      <td>8</td>\n",
              "      <td>1</td>\n",
              "      <td>0</td>\n",
              "      <td>0</td>\n",
              "    </tr>\n",
              "    <tr>\n",
              "      <th>2</th>\n",
              "      <td>2</td>\n",
              "      <td>7</td>\n",
              "      <td>2</td>\n",
              "      <td>1</td>\n",
              "      <td>0</td>\n",
              "    </tr>\n",
              "    <tr>\n",
              "      <th>3</th>\n",
              "      <td>3</td>\n",
              "      <td>6</td>\n",
              "      <td>3</td>\n",
              "      <td>0</td>\n",
              "      <td>1</td>\n",
              "    </tr>\n",
              "    <tr>\n",
              "      <th>4</th>\n",
              "      <td>4</td>\n",
              "      <td>5</td>\n",
              "      <td>4</td>\n",
              "      <td>1</td>\n",
              "      <td>0</td>\n",
              "    </tr>\n",
              "    <tr>\n",
              "      <th>5</th>\n",
              "      <td>5</td>\n",
              "      <td>4</td>\n",
              "      <td>5</td>\n",
              "      <td>0</td>\n",
              "      <td>0</td>\n",
              "    </tr>\n",
              "    <tr>\n",
              "      <th>6</th>\n",
              "      <td>6</td>\n",
              "      <td>3</td>\n",
              "      <td>6</td>\n",
              "      <td>1</td>\n",
              "      <td>1</td>\n",
              "    </tr>\n",
              "    <tr>\n",
              "      <th>7</th>\n",
              "      <td>7</td>\n",
              "      <td>2</td>\n",
              "      <td>7</td>\n",
              "      <td>0</td>\n",
              "      <td>0</td>\n",
              "    </tr>\n",
              "    <tr>\n",
              "      <th>8</th>\n",
              "      <td>8</td>\n",
              "      <td>1</td>\n",
              "      <td>8</td>\n",
              "      <td>1</td>\n",
              "      <td>0</td>\n",
              "    </tr>\n",
              "    <tr>\n",
              "      <th>9</th>\n",
              "      <td>9</td>\n",
              "      <td>0</td>\n",
              "      <td>9</td>\n",
              "      <td>0</td>\n",
              "      <td>1</td>\n",
              "    </tr>\n",
              "  </tbody>\n",
              "</table>\n",
              "</div>"
            ],
            "text/plain": [
              "   a  b  c  ag_col1  ag_col2\n",
              "0  0  9  0        1        1\n",
              "1  1  8  1        0        0\n",
              "2  2  7  2        1        0\n",
              "3  3  6  3        0        1\n",
              "4  4  5  4        1        0\n",
              "5  5  4  5        0        0\n",
              "6  6  3  6        1        1\n",
              "7  7  2  7        0        0\n",
              "8  8  1  8        1        0\n",
              "9  9  0  9        0        1"
            ]
          },
          "execution_count": 52,
          "metadata": {},
          "output_type": "execute_result"
        }
      ],
      "source": [
        "df"
      ]
    },
    {
      "cell_type": "code",
      "execution_count": 53,
      "metadata": {
        "colab": {
          "base_uri": "https://localhost:8080/"
        },
        "id": "WPrgFU-wgLJI",
        "outputId": "94065a93-2493-41c4-dffe-41b11cd5f548"
      },
      "outputs": [
        {
          "data": {
            "text/plain": [
              "20"
            ]
          },
          "execution_count": 53,
          "metadata": {},
          "output_type": "execute_result"
        }
      ],
      "source": [
        "0 + 2 + 4 + 6 + 8"
      ]
    },
    {
      "cell_type": "code",
      "execution_count": 54,
      "metadata": {
        "colab": {
          "base_uri": "https://localhost:8080/"
        },
        "id": "2VEKRS-VgSlJ",
        "outputId": "3cf411e1-105b-482e-adf7-d90177c9a0d4"
      },
      "outputs": [
        {
          "data": {
            "text/plain": [
              "25"
            ]
          },
          "execution_count": 54,
          "metadata": {},
          "output_type": "execute_result"
        }
      ],
      "source": [
        "9 + 7 + 5 + 3 + 1"
      ]
    },
    {
      "cell_type": "code",
      "execution_count": 55,
      "metadata": {
        "colab": {
          "base_uri": "https://localhost:8080/",
          "height": 144
        },
        "id": "bmQG_XHAfy2E",
        "outputId": "71510055-8925-456a-f196-4424deead7f9"
      },
      "outputs": [
        {
          "data": {
            "text/html": [
              "<div>\n",
              "<style scoped>\n",
              "    .dataframe tbody tr th:only-of-type {\n",
              "        vertical-align: middle;\n",
              "    }\n",
              "\n",
              "    .dataframe tbody tr th {\n",
              "        vertical-align: top;\n",
              "    }\n",
              "\n",
              "    .dataframe thead th {\n",
              "        text-align: right;\n",
              "    }\n",
              "</style>\n",
              "<table border=\"1\" class=\"dataframe\">\n",
              "  <thead>\n",
              "    <tr style=\"text-align: right;\">\n",
              "      <th></th>\n",
              "      <th>a</th>\n",
              "      <th>b</th>\n",
              "      <th>c</th>\n",
              "      <th>ag_col2</th>\n",
              "    </tr>\n",
              "    <tr>\n",
              "      <th>ag_col1</th>\n",
              "      <th></th>\n",
              "      <th></th>\n",
              "      <th></th>\n",
              "      <th></th>\n",
              "    </tr>\n",
              "  </thead>\n",
              "  <tbody>\n",
              "    <tr>\n",
              "      <th>1</th>\n",
              "      <td>20</td>\n",
              "      <td>25</td>\n",
              "      <td>20</td>\n",
              "      <td>2</td>\n",
              "    </tr>\n",
              "    <tr>\n",
              "      <th>0</th>\n",
              "      <td>25</td>\n",
              "      <td>20</td>\n",
              "      <td>25</td>\n",
              "      <td>2</td>\n",
              "    </tr>\n",
              "  </tbody>\n",
              "</table>\n",
              "</div>"
            ],
            "text/plain": [
              "          a   b   c  ag_col2\n",
              "ag_col1                     \n",
              "1        20  25  20        2\n",
              "0        25  20  25        2"
            ]
          },
          "execution_count": 55,
          "metadata": {},
          "output_type": "execute_result"
        }
      ],
      "source": [
        "df.groupby('ag_col1').sum()"
      ]
    },
    {
      "cell_type": "code",
      "execution_count": 56,
      "metadata": {
        "colab": {
          "base_uri": "https://localhost:8080/",
          "height": 144
        },
        "id": "iXC3DKorgh9S",
        "outputId": "f9185884-1598-4571-fbbe-8c807557c43f"
      },
      "outputs": [
        {
          "data": {
            "text/html": [
              "<div>\n",
              "<style scoped>\n",
              "    .dataframe tbody tr th:only-of-type {\n",
              "        vertical-align: middle;\n",
              "    }\n",
              "\n",
              "    .dataframe tbody tr th {\n",
              "        vertical-align: top;\n",
              "    }\n",
              "\n",
              "    .dataframe thead th {\n",
              "        text-align: right;\n",
              "    }\n",
              "</style>\n",
              "<table border=\"1\" class=\"dataframe\">\n",
              "  <thead>\n",
              "    <tr style=\"text-align: right;\">\n",
              "      <th></th>\n",
              "      <th>a</th>\n",
              "      <th>b</th>\n",
              "      <th>c</th>\n",
              "    </tr>\n",
              "    <tr>\n",
              "      <th>ag_col1</th>\n",
              "      <th></th>\n",
              "      <th></th>\n",
              "      <th></th>\n",
              "    </tr>\n",
              "  </thead>\n",
              "  <tbody>\n",
              "    <tr>\n",
              "      <th>1</th>\n",
              "      <td>8</td>\n",
              "      <td>5.0</td>\n",
              "      <td>20</td>\n",
              "    </tr>\n",
              "    <tr>\n",
              "      <th>0</th>\n",
              "      <td>9</td>\n",
              "      <td>4.0</td>\n",
              "      <td>25</td>\n",
              "    </tr>\n",
              "  </tbody>\n",
              "</table>\n",
              "</div>"
            ],
            "text/plain": [
              "         a    b   c\n",
              "ag_col1            \n",
              "1        8  5.0  20\n",
              "0        9  4.0  25"
            ]
          },
          "execution_count": 56,
          "metadata": {},
          "output_type": "execute_result"
        }
      ],
      "source": [
        "df.groupby('ag_col1').agg({'a': 'max', 'b': 'mean', 'c': 'sum'})"
      ]
    },
    {
      "cell_type": "code",
      "execution_count": 57,
      "metadata": {
        "colab": {
          "base_uri": "https://localhost:8080/",
          "height": 208
        },
        "id": "s5SX0nZZg4DW",
        "outputId": "8952d2fe-3cd4-41c4-9a31-9516a1626993"
      },
      "outputs": [
        {
          "data": {
            "text/html": [
              "<div>\n",
              "<style scoped>\n",
              "    .dataframe tbody tr th:only-of-type {\n",
              "        vertical-align: middle;\n",
              "    }\n",
              "\n",
              "    .dataframe tbody tr th {\n",
              "        vertical-align: top;\n",
              "    }\n",
              "\n",
              "    .dataframe thead th {\n",
              "        text-align: right;\n",
              "    }\n",
              "</style>\n",
              "<table border=\"1\" class=\"dataframe\">\n",
              "  <thead>\n",
              "    <tr style=\"text-align: right;\">\n",
              "      <th></th>\n",
              "      <th></th>\n",
              "      <th>a</th>\n",
              "      <th>b</th>\n",
              "    </tr>\n",
              "    <tr>\n",
              "      <th>ag_col1</th>\n",
              "      <th>ag_col2</th>\n",
              "      <th></th>\n",
              "      <th></th>\n",
              "    </tr>\n",
              "  </thead>\n",
              "  <tbody>\n",
              "    <tr>\n",
              "      <th rowspan=\"2\" valign=\"top\">1</th>\n",
              "      <th>0</th>\n",
              "      <td>8</td>\n",
              "      <td>1</td>\n",
              "    </tr>\n",
              "    <tr>\n",
              "      <th>1</th>\n",
              "      <td>6</td>\n",
              "      <td>3</td>\n",
              "    </tr>\n",
              "    <tr>\n",
              "      <th rowspan=\"2\" valign=\"top\">0</th>\n",
              "      <th>0</th>\n",
              "      <td>7</td>\n",
              "      <td>2</td>\n",
              "    </tr>\n",
              "    <tr>\n",
              "      <th>1</th>\n",
              "      <td>9</td>\n",
              "      <td>0</td>\n",
              "    </tr>\n",
              "  </tbody>\n",
              "</table>\n",
              "</div>"
            ],
            "text/plain": [
              "                 a  b\n",
              "ag_col1 ag_col2      \n",
              "1       0        8  1\n",
              "        1        6  3\n",
              "0       0        7  2\n",
              "        1        9  0"
            ]
          },
          "execution_count": 57,
          "metadata": {},
          "output_type": "execute_result"
        }
      ],
      "source": [
        "df.groupby(['ag_col1', 'ag_col2']).agg({'a': 'max', 'b': 'min'})"
      ]
    },
    {
      "cell_type": "markdown",
      "metadata": {
        "id": "GxEbDbChs-3A"
      },
      "source": [
        "## Trabalhando com datas"
      ]
    },
    {
      "cell_type": "code",
      "execution_count": 58,
      "metadata": {
        "colab": {
          "base_uri": "https://localhost:8080/",
          "height": 427
        },
        "id": "hVvzLut2hObb",
        "outputId": "45ba1b4c-b127-4f6e-95bd-f889aaf0f631"
      },
      "outputs": [
        {
          "data": {
            "text/html": [
              "<div>\n",
              "<style scoped>\n",
              "    .dataframe tbody tr th:only-of-type {\n",
              "        vertical-align: middle;\n",
              "    }\n",
              "\n",
              "    .dataframe tbody tr th {\n",
              "        vertical-align: top;\n",
              "    }\n",
              "\n",
              "    .dataframe thead th {\n",
              "        text-align: right;\n",
              "    }\n",
              "</style>\n",
              "<table border=\"1\" class=\"dataframe\">\n",
              "  <thead>\n",
              "    <tr style=\"text-align: right;\">\n",
              "      <th></th>\n",
              "      <th>date</th>\n",
              "      <th>value</th>\n",
              "    </tr>\n",
              "  </thead>\n",
              "  <tbody>\n",
              "    <tr>\n",
              "      <th>0</th>\n",
              "      <td>2023-02-05</td>\n",
              "      <td>0.600582</td>\n",
              "    </tr>\n",
              "    <tr>\n",
              "      <th>1</th>\n",
              "      <td>2023-02-12</td>\n",
              "      <td>0.593905</td>\n",
              "    </tr>\n",
              "    <tr>\n",
              "      <th>2</th>\n",
              "      <td>2023-02-19</td>\n",
              "      <td>0.584212</td>\n",
              "    </tr>\n",
              "    <tr>\n",
              "      <th>3</th>\n",
              "      <td>2023-02-26</td>\n",
              "      <td>0.895009</td>\n",
              "    </tr>\n",
              "    <tr>\n",
              "      <th>4</th>\n",
              "      <td>2023-03-05</td>\n",
              "      <td>0.500389</td>\n",
              "    </tr>\n",
              "    <tr>\n",
              "      <th>...</th>\n",
              "      <td>...</td>\n",
              "      <td>...</td>\n",
              "    </tr>\n",
              "    <tr>\n",
              "      <th>67</th>\n",
              "      <td>2024-05-19</td>\n",
              "      <td>0.639736</td>\n",
              "    </tr>\n",
              "    <tr>\n",
              "      <th>68</th>\n",
              "      <td>2024-05-26</td>\n",
              "      <td>0.873919</td>\n",
              "    </tr>\n",
              "    <tr>\n",
              "      <th>69</th>\n",
              "      <td>2024-06-02</td>\n",
              "      <td>0.328345</td>\n",
              "    </tr>\n",
              "    <tr>\n",
              "      <th>70</th>\n",
              "      <td>2024-06-09</td>\n",
              "      <td>0.570318</td>\n",
              "    </tr>\n",
              "    <tr>\n",
              "      <th>71</th>\n",
              "      <td>2024-06-16</td>\n",
              "      <td>0.728160</td>\n",
              "    </tr>\n",
              "  </tbody>\n",
              "</table>\n",
              "<p>72 rows × 2 columns</p>\n",
              "</div>"
            ],
            "text/plain": [
              "         date     value\n",
              "0  2023-02-05  0.600582\n",
              "1  2023-02-12  0.593905\n",
              "2  2023-02-19  0.584212\n",
              "3  2023-02-26  0.895009\n",
              "4  2023-03-05  0.500389\n",
              "..        ...       ...\n",
              "67 2024-05-19  0.639736\n",
              "68 2024-05-26  0.873919\n",
              "69 2024-06-02  0.328345\n",
              "70 2024-06-09  0.570318\n",
              "71 2024-06-16  0.728160\n",
              "\n",
              "[72 rows x 2 columns]"
            ]
          },
          "execution_count": 58,
          "metadata": {},
          "output_type": "execute_result"
        }
      ],
      "source": [
        "date_df = cudf.DataFrame()\n",
        "date_df['date'] = pd.date_range('01/31/2023', periods = 72, freq = 'W')\n",
        "date_df['value'] = np.random.sample(len(date_df))\n",
        "date_df"
      ]
    },
    {
      "cell_type": "code",
      "execution_count": 59,
      "metadata": {
        "colab": {
          "base_uri": "https://localhost:8080/",
          "height": 144
        },
        "id": "n6tU9kLHh6ut",
        "outputId": "172d7cd9-061c-4a48-de58-65ad2ce8ca1f"
      },
      "outputs": [
        {
          "data": {
            "text/html": [
              "<div>\n",
              "<style scoped>\n",
              "    .dataframe tbody tr th:only-of-type {\n",
              "        vertical-align: middle;\n",
              "    }\n",
              "\n",
              "    .dataframe tbody tr th {\n",
              "        vertical-align: top;\n",
              "    }\n",
              "\n",
              "    .dataframe thead th {\n",
              "        text-align: right;\n",
              "    }\n",
              "</style>\n",
              "<table border=\"1\" class=\"dataframe\">\n",
              "  <thead>\n",
              "    <tr style=\"text-align: right;\">\n",
              "      <th></th>\n",
              "      <th>date</th>\n",
              "      <th>value</th>\n",
              "    </tr>\n",
              "  </thead>\n",
              "  <tbody>\n",
              "    <tr>\n",
              "      <th>0</th>\n",
              "      <td>2023-02-05</td>\n",
              "      <td>0.600582</td>\n",
              "    </tr>\n",
              "    <tr>\n",
              "      <th>1</th>\n",
              "      <td>2023-02-12</td>\n",
              "      <td>0.593905</td>\n",
              "    </tr>\n",
              "    <tr>\n",
              "      <th>2</th>\n",
              "      <td>2023-02-19</td>\n",
              "      <td>0.584212</td>\n",
              "    </tr>\n",
              "  </tbody>\n",
              "</table>\n",
              "</div>"
            ],
            "text/plain": [
              "        date     value\n",
              "0 2023-02-05  0.600582\n",
              "1 2023-02-12  0.593905\n",
              "2 2023-02-19  0.584212"
            ]
          },
          "execution_count": 59,
          "metadata": {},
          "output_type": "execute_result"
        }
      ],
      "source": [
        "date_search = cudf.to_datetime('2023-02-20')\n",
        "date_df.loc[date_df.date <= date_search]"
      ]
    },
    {
      "cell_type": "code",
      "execution_count": 60,
      "metadata": {
        "colab": {
          "base_uri": "https://localhost:8080/"
        },
        "id": "qJUofuGkhxQj",
        "outputId": "012651e7-c2b5-43bd-e02d-1a38bb68bfce"
      },
      "outputs": [
        {
          "name": "stdout",
          "output_type": "stream",
          "text": [
            "        date     value  day\n",
            "0 2023-02-05  0.600582    5\n",
            "1 2023-02-12  0.593905   12\n",
            "2 2023-02-19  0.584212   19\n",
            "3 2023-02-26  0.895009   26\n",
            "4 2023-03-05  0.500389    5\n"
          ]
        }
      ],
      "source": [
        "date_df['day'] = date_df.date.dt.day\n",
        "print(date_df.head())"
      ]
    },
    {
      "cell_type": "markdown",
      "metadata": {
        "id": "qoxWwF06KqBn"
      },
      "source": [
        "# Interoperabilidade com o cuPy e outras bibliotecas\n",
        "\n",
        "> Documentação: https://docs.cupy.dev/en/stable/index.html\n",
        "\n",
        "Equivalente a usar Pandas e NumPy"
      ]
    },
    {
      "cell_type": "code",
      "execution_count": 61,
      "metadata": {
        "id": "z1o3IuXqjt_3"
      },
      "outputs": [],
      "source": [
        "import cupy as cp"
      ]
    },
    {
      "cell_type": "markdown",
      "metadata": {
        "id": "NsCk2oACLVSC"
      },
      "source": [
        "## Converter de cuDF para cuPy\n",
        "\n",
        "Para a conversão, há diferentes formas. A principal e talvez mais usada é através da interface [DLpack](https://github.com/dmlc/dlpack), e também atualmente é a mais rápida.\n"
      ]
    },
    {
      "cell_type": "code",
      "execution_count": 62,
      "metadata": {
        "colab": {
          "base_uri": "https://localhost:8080/",
          "height": 427
        },
        "id": "ytcn0adnj1tA",
        "outputId": "24f9c469-cec6-4400-b8de-1647da1cd254"
      },
      "outputs": [
        {
          "data": {
            "text/html": [
              "<div>\n",
              "<style scoped>\n",
              "    .dataframe tbody tr th:only-of-type {\n",
              "        vertical-align: middle;\n",
              "    }\n",
              "\n",
              "    .dataframe tbody tr th {\n",
              "        vertical-align: top;\n",
              "    }\n",
              "\n",
              "    .dataframe thead th {\n",
              "        text-align: right;\n",
              "    }\n",
              "</style>\n",
              "<table border=\"1\" class=\"dataframe\">\n",
              "  <thead>\n",
              "    <tr style=\"text-align: right;\">\n",
              "      <th></th>\n",
              "      <th>a</th>\n",
              "      <th>b</th>\n",
              "      <th>c</th>\n",
              "    </tr>\n",
              "  </thead>\n",
              "  <tbody>\n",
              "    <tr>\n",
              "      <th>0</th>\n",
              "      <td>0</td>\n",
              "      <td>500</td>\n",
              "      <td>1000</td>\n",
              "    </tr>\n",
              "    <tr>\n",
              "      <th>1</th>\n",
              "      <td>1</td>\n",
              "      <td>501</td>\n",
              "      <td>1001</td>\n",
              "    </tr>\n",
              "    <tr>\n",
              "      <th>2</th>\n",
              "      <td>2</td>\n",
              "      <td>502</td>\n",
              "      <td>1002</td>\n",
              "    </tr>\n",
              "    <tr>\n",
              "      <th>3</th>\n",
              "      <td>3</td>\n",
              "      <td>503</td>\n",
              "      <td>1003</td>\n",
              "    </tr>\n",
              "    <tr>\n",
              "      <th>4</th>\n",
              "      <td>4</td>\n",
              "      <td>504</td>\n",
              "      <td>1004</td>\n",
              "    </tr>\n",
              "    <tr>\n",
              "      <th>...</th>\n",
              "      <td>...</td>\n",
              "      <td>...</td>\n",
              "      <td>...</td>\n",
              "    </tr>\n",
              "    <tr>\n",
              "      <th>9995</th>\n",
              "      <td>9995</td>\n",
              "      <td>10495</td>\n",
              "      <td>10995</td>\n",
              "    </tr>\n",
              "    <tr>\n",
              "      <th>9996</th>\n",
              "      <td>9996</td>\n",
              "      <td>10496</td>\n",
              "      <td>10996</td>\n",
              "    </tr>\n",
              "    <tr>\n",
              "      <th>9997</th>\n",
              "      <td>9997</td>\n",
              "      <td>10497</td>\n",
              "      <td>10997</td>\n",
              "    </tr>\n",
              "    <tr>\n",
              "      <th>9998</th>\n",
              "      <td>9998</td>\n",
              "      <td>10498</td>\n",
              "      <td>10998</td>\n",
              "    </tr>\n",
              "    <tr>\n",
              "      <th>9999</th>\n",
              "      <td>9999</td>\n",
              "      <td>10499</td>\n",
              "      <td>10999</td>\n",
              "    </tr>\n",
              "  </tbody>\n",
              "</table>\n",
              "<p>10000 rows × 3 columns</p>\n",
              "</div>"
            ],
            "text/plain": [
              "         a      b      c\n",
              "0        0    500   1000\n",
              "1        1    501   1001\n",
              "2        2    502   1002\n",
              "3        3    503   1003\n",
              "4        4    504   1004\n",
              "...    ...    ...    ...\n",
              "9995  9995  10495  10995\n",
              "9996  9996  10496  10996\n",
              "9997  9997  10497  10997\n",
              "9998  9998  10498  10998\n",
              "9999  9999  10499  10999\n",
              "\n",
              "[10000 rows x 3 columns]"
            ]
          },
          "execution_count": 62,
          "metadata": {},
          "output_type": "execute_result"
        }
      ],
      "source": [
        "nums = 10000\n",
        "df = cudf.DataFrame({'a': range(nums),\n",
        "                     'b': range(500, nums + 500),\n",
        "                     'c': range(1000, nums + 1000)})\n",
        "df"
      ]
    },
    {
      "cell_type": "code",
      "execution_count": 63,
      "metadata": {
        "colab": {
          "base_uri": "https://localhost:8080/"
        },
        "id": "ksA6yO-VkQfc",
        "outputId": "cad8706f-1e0e-4c75-d985-523788d75e6a"
      },
      "outputs": [
        {
          "data": {
            "text/plain": [
              "cudf.core.dataframe.DataFrame"
            ]
          },
          "execution_count": 63,
          "metadata": {},
          "output_type": "execute_result"
        }
      ],
      "source": [
        "type(df)"
      ]
    },
    {
      "cell_type": "markdown",
      "metadata": {
        "id": "mbOCF-iLR_hg"
      },
      "source": [
        "Modo 1: com o DLpack"
      ]
    },
    {
      "cell_type": "code",
      "execution_count": 64,
      "metadata": {
        "id": "3aAvQk6PknhL"
      },
      "outputs": [],
      "source": [
        "array_cupy = cp.from_dlpack(df.to_dlpack())"
      ]
    },
    {
      "cell_type": "code",
      "execution_count": 65,
      "metadata": {
        "colab": {
          "base_uri": "https://localhost:8080/"
        },
        "id": "vnn5OwaqktaM",
        "outputId": "6e60d986-ee91-466c-94a5-eccf51aae397"
      },
      "outputs": [
        {
          "data": {
            "text/plain": [
              "cupy.ndarray"
            ]
          },
          "execution_count": 65,
          "metadata": {},
          "output_type": "execute_result"
        }
      ],
      "source": [
        "type(array_cupy)"
      ]
    },
    {
      "cell_type": "markdown",
      "metadata": {
        "id": "m20nTrA4L1XR"
      },
      "source": [
        "Modo 2: Você pode converter um DataFrame ou Series para uma array CuPy usando o .values"
      ]
    },
    {
      "cell_type": "code",
      "execution_count": 66,
      "metadata": {
        "id": "2gYYRdJJk0HU"
      },
      "outputs": [],
      "source": [
        "array_cupy2 = df.values"
      ]
    },
    {
      "cell_type": "code",
      "execution_count": 67,
      "metadata": {
        "colab": {
          "base_uri": "https://localhost:8080/"
        },
        "id": "qLLOse8lk6BP",
        "outputId": "d29307b1-e48c-45f7-a08e-1291a0be1cd2"
      },
      "outputs": [
        {
          "data": {
            "text/plain": [
              "cupy.ndarray"
            ]
          },
          "execution_count": 67,
          "metadata": {},
          "output_type": "execute_result"
        }
      ],
      "source": [
        "type(array_cupy2)"
      ]
    },
    {
      "cell_type": "markdown",
      "metadata": {
        "id": "LzB2YMPbQDko"
      },
      "source": [
        "Modo 3: através do [CUDA array interface](https://numba.readthedocs.io/en/stable/cuda/cuda_array_interface.html), o que é possível através da funcionalidade `to_cupy` do cuDF."
      ]
    },
    {
      "cell_type": "code",
      "execution_count": 68,
      "metadata": {
        "id": "2vGjuU2_lCMd"
      },
      "outputs": [],
      "source": [
        "array_cupy3 = df.to_cupy()"
      ]
    },
    {
      "cell_type": "code",
      "execution_count": 69,
      "metadata": {
        "colab": {
          "base_uri": "https://localhost:8080/"
        },
        "id": "I927kgttlGkY",
        "outputId": "624e26f4-28dc-4b0d-c426-1a7778aed60f"
      },
      "outputs": [
        {
          "data": {
            "text/plain": [
              "cupy.ndarray"
            ]
          },
          "execution_count": 69,
          "metadata": {},
          "output_type": "execute_result"
        }
      ],
      "source": [
        "type(array_cupy3)"
      ]
    },
    {
      "cell_type": "markdown",
      "metadata": {
        "id": "h5Y5HzJsTreX"
      },
      "source": [
        "## Converter de CuPy para cuDF"
      ]
    },
    {
      "cell_type": "code",
      "execution_count": 70,
      "metadata": {
        "colab": {
          "base_uri": "https://localhost:8080/"
        },
        "id": "l14ngCSAlTBo",
        "outputId": "fd85f59d-c25a-4674-f5a7-6090675c62ee"
      },
      "outputs": [
        {
          "data": {
            "text/plain": [
              "cupy.ndarray"
            ]
          },
          "execution_count": 70,
          "metadata": {},
          "output_type": "execute_result"
        }
      ],
      "source": [
        "type(array_cupy)"
      ]
    },
    {
      "cell_type": "code",
      "execution_count": 71,
      "metadata": {
        "colab": {
          "base_uri": "https://localhost:8080/"
        },
        "id": "VuFrm3hblb2E",
        "outputId": "39596446-00ff-4985-8850-0605f6c7ea13"
      },
      "outputs": [
        {
          "data": {
            "text/plain": [
              "array([[    0,   500,  1000],\n",
              "       [    1,   501,  1001],\n",
              "       [    2,   502,  1002],\n",
              "       ...,\n",
              "       [ 9997, 10497, 10997],\n",
              "       [ 9998, 10498, 10998],\n",
              "       [ 9999, 10499, 10999]])"
            ]
          },
          "execution_count": 71,
          "metadata": {},
          "output_type": "execute_result"
        }
      ],
      "source": [
        "array_cupy"
      ]
    },
    {
      "cell_type": "code",
      "execution_count": 72,
      "metadata": {
        "id": "Gag-mJ2dlO1r"
      },
      "outputs": [],
      "source": [
        "df_cudf = cudf.DataFrame(array_cupy)"
      ]
    },
    {
      "cell_type": "code",
      "execution_count": 73,
      "metadata": {
        "colab": {
          "base_uri": "https://localhost:8080/"
        },
        "id": "WUGZ0Ak-lVpj",
        "outputId": "9f1e07f7-2d35-4bea-c97a-0eb45c4d5f31"
      },
      "outputs": [
        {
          "data": {
            "text/plain": [
              "cudf.core.dataframe.DataFrame"
            ]
          },
          "execution_count": 73,
          "metadata": {},
          "output_type": "execute_result"
        }
      ],
      "source": [
        "type(df_cudf)"
      ]
    },
    {
      "cell_type": "code",
      "execution_count": 74,
      "metadata": {
        "colab": {
          "base_uri": "https://localhost:8080/",
          "height": 427
        },
        "id": "8NK5NI5zlY_t",
        "outputId": "a6763722-5b7f-432f-de76-49fce08aadd6"
      },
      "outputs": [
        {
          "data": {
            "text/html": [
              "<div>\n",
              "<style scoped>\n",
              "    .dataframe tbody tr th:only-of-type {\n",
              "        vertical-align: middle;\n",
              "    }\n",
              "\n",
              "    .dataframe tbody tr th {\n",
              "        vertical-align: top;\n",
              "    }\n",
              "\n",
              "    .dataframe thead th {\n",
              "        text-align: right;\n",
              "    }\n",
              "</style>\n",
              "<table border=\"1\" class=\"dataframe\">\n",
              "  <thead>\n",
              "    <tr style=\"text-align: right;\">\n",
              "      <th></th>\n",
              "      <th>0</th>\n",
              "      <th>1</th>\n",
              "      <th>2</th>\n",
              "    </tr>\n",
              "  </thead>\n",
              "  <tbody>\n",
              "    <tr>\n",
              "      <th>0</th>\n",
              "      <td>0</td>\n",
              "      <td>500</td>\n",
              "      <td>1000</td>\n",
              "    </tr>\n",
              "    <tr>\n",
              "      <th>1</th>\n",
              "      <td>1</td>\n",
              "      <td>501</td>\n",
              "      <td>1001</td>\n",
              "    </tr>\n",
              "    <tr>\n",
              "      <th>2</th>\n",
              "      <td>2</td>\n",
              "      <td>502</td>\n",
              "      <td>1002</td>\n",
              "    </tr>\n",
              "    <tr>\n",
              "      <th>3</th>\n",
              "      <td>3</td>\n",
              "      <td>503</td>\n",
              "      <td>1003</td>\n",
              "    </tr>\n",
              "    <tr>\n",
              "      <th>4</th>\n",
              "      <td>4</td>\n",
              "      <td>504</td>\n",
              "      <td>1004</td>\n",
              "    </tr>\n",
              "    <tr>\n",
              "      <th>...</th>\n",
              "      <td>...</td>\n",
              "      <td>...</td>\n",
              "      <td>...</td>\n",
              "    </tr>\n",
              "    <tr>\n",
              "      <th>9995</th>\n",
              "      <td>9995</td>\n",
              "      <td>10495</td>\n",
              "      <td>10995</td>\n",
              "    </tr>\n",
              "    <tr>\n",
              "      <th>9996</th>\n",
              "      <td>9996</td>\n",
              "      <td>10496</td>\n",
              "      <td>10996</td>\n",
              "    </tr>\n",
              "    <tr>\n",
              "      <th>9997</th>\n",
              "      <td>9997</td>\n",
              "      <td>10497</td>\n",
              "      <td>10997</td>\n",
              "    </tr>\n",
              "    <tr>\n",
              "      <th>9998</th>\n",
              "      <td>9998</td>\n",
              "      <td>10498</td>\n",
              "      <td>10998</td>\n",
              "    </tr>\n",
              "    <tr>\n",
              "      <th>9999</th>\n",
              "      <td>9999</td>\n",
              "      <td>10499</td>\n",
              "      <td>10999</td>\n",
              "    </tr>\n",
              "  </tbody>\n",
              "</table>\n",
              "<p>10000 rows × 3 columns</p>\n",
              "</div>"
            ],
            "text/plain": [
              "         0      1      2\n",
              "0        0    500   1000\n",
              "1        1    501   1001\n",
              "2        2    502   1002\n",
              "3        3    503   1003\n",
              "4        4    504   1004\n",
              "...    ...    ...    ...\n",
              "9995  9995  10495  10995\n",
              "9996  9996  10496  10996\n",
              "9997  9997  10497  10997\n",
              "9998  9998  10498  10998\n",
              "9999  9999  10499  10999\n",
              "\n",
              "[10000 rows x 3 columns]"
            ]
          },
          "execution_count": 74,
          "metadata": {},
          "output_type": "execute_result"
        }
      ],
      "source": [
        "df_cudf"
      ]
    },
    {
      "cell_type": "markdown",
      "metadata": {
        "id": "KGVPscw4MP2e"
      },
      "source": [
        "## Outras conversões de tipos de dados"
      ]
    },
    {
      "cell_type": "markdown",
      "metadata": {
        "id": "ccO4lYdxNITz"
      },
      "source": [
        "> DataFrame cuDF -> ndarray NumPy\n",
        "\n",
        "Para converter um DataFrame cuDF para uma ndarray NumPy:"
      ]
    },
    {
      "cell_type": "code",
      "execution_count": 75,
      "metadata": {
        "colab": {
          "base_uri": "https://localhost:8080/"
        },
        "id": "5-YNXlyjmynQ",
        "outputId": "266f6f7c-af18-4eb3-cc8f-6041c79fdbc7"
      },
      "outputs": [
        {
          "data": {
            "text/plain": [
              "cudf.core.dataframe.DataFrame"
            ]
          },
          "execution_count": 75,
          "metadata": {},
          "output_type": "execute_result"
        }
      ],
      "source": [
        "type(df)"
      ]
    },
    {
      "cell_type": "code",
      "execution_count": 76,
      "metadata": {
        "id": "yxbV73Vwm4Dv"
      },
      "outputs": [],
      "source": [
        "df_pandas = df.to_pandas()"
      ]
    },
    {
      "cell_type": "code",
      "execution_count": 77,
      "metadata": {
        "colab": {
          "base_uri": "https://localhost:8080/"
        },
        "id": "Pe67KFbom89D",
        "outputId": "7cf1113a-a0a7-4464-e33a-a95783fd6d31"
      },
      "outputs": [
        {
          "data": {
            "text/plain": [
              "pandas.core.frame.DataFrame"
            ]
          },
          "execution_count": 77,
          "metadata": {},
          "output_type": "execute_result"
        }
      ],
      "source": [
        "type(df_pandas)"
      ]
    },
    {
      "cell_type": "markdown",
      "metadata": {
        "id": "eSYRaQRlNhy7"
      },
      "source": [
        "> cuDF Series -> ndarray Numpy\n",
        "\n",
        "E para converter um Series cuDF para uma ndarray NumPy:"
      ]
    },
    {
      "cell_type": "code",
      "execution_count": 78,
      "metadata": {
        "id": "-u-vua9znKC2"
      },
      "outputs": [],
      "source": [
        "df_numpy = df.to_numpy()"
      ]
    },
    {
      "cell_type": "code",
      "execution_count": 79,
      "metadata": {
        "colab": {
          "base_uri": "https://localhost:8080/"
        },
        "id": "MPt9nfEznOkj",
        "outputId": "a926d640-a529-493a-9dee-bf5d4a32323e"
      },
      "outputs": [
        {
          "data": {
            "text/plain": [
              "numpy.ndarray"
            ]
          },
          "execution_count": 79,
          "metadata": {},
          "output_type": "execute_result"
        }
      ],
      "source": [
        "type(df_numpy)"
      ]
    },
    {
      "cell_type": "code",
      "execution_count": 80,
      "metadata": {
        "id": "UtmklGLunU7D"
      },
      "outputs": [],
      "source": [
        "df_a = df['a']"
      ]
    },
    {
      "cell_type": "code",
      "execution_count": 81,
      "metadata": {
        "colab": {
          "base_uri": "https://localhost:8080/"
        },
        "id": "hzUyoVY_neiT",
        "outputId": "3647b1f6-8671-414b-c05c-62cfdeba4faf"
      },
      "outputs": [
        {
          "data": {
            "text/plain": [
              "0          0\n",
              "1          1\n",
              "2          2\n",
              "3          3\n",
              "4          4\n",
              "        ... \n",
              "9995    9995\n",
              "9996    9996\n",
              "9997    9997\n",
              "9998    9998\n",
              "9999    9999\n",
              "Name: a, Length: 10000, dtype: int64"
            ]
          },
          "execution_count": 81,
          "metadata": {},
          "output_type": "execute_result"
        }
      ],
      "source": [
        "df_a"
      ]
    },
    {
      "cell_type": "code",
      "execution_count": 82,
      "metadata": {
        "colab": {
          "base_uri": "https://localhost:8080/"
        },
        "id": "_aiYNblXngss",
        "outputId": "fb99d3b3-1ee3-446a-e443-e36a31d7b238"
      },
      "outputs": [
        {
          "data": {
            "text/plain": [
              "cudf.core.series.Series"
            ]
          },
          "execution_count": 82,
          "metadata": {},
          "output_type": "execute_result"
        }
      ],
      "source": [
        "type(df_a)"
      ]
    },
    {
      "cell_type": "code",
      "execution_count": 83,
      "metadata": {
        "id": "cPWLYnevnjQ_"
      },
      "outputs": [],
      "source": [
        "df_a_numpy = df_a.to_numpy()"
      ]
    },
    {
      "cell_type": "code",
      "execution_count": 84,
      "metadata": {
        "colab": {
          "base_uri": "https://localhost:8080/"
        },
        "id": "2a4jhqCxnn1d",
        "outputId": "f35af259-ca17-4f40-87ad-1598e1eb0eb4"
      },
      "outputs": [
        {
          "data": {
            "text/plain": [
              "numpy.ndarray"
            ]
          },
          "execution_count": 84,
          "metadata": {},
          "output_type": "execute_result"
        }
      ],
      "source": [
        "type(df_a_numpy)"
      ]
    },
    {
      "cell_type": "markdown",
      "metadata": {
        "id": "Y4Fb_Io6No3y"
      },
      "source": [
        "# Gravação e leitura de dados"
      ]
    },
    {
      "cell_type": "code",
      "execution_count": 85,
      "metadata": {
        "id": "x_n6gbo5nxg_"
      },
      "outputs": [],
      "source": [
        "df.to_csv('exemplo_cudf.csv', index = False)"
      ]
    },
    {
      "cell_type": "code",
      "execution_count": 87,
      "metadata": {
        "colab": {
          "base_uri": "https://localhost:8080/"
        },
        "id": "DrYT1-Q9n-95",
        "outputId": "78224c7b-9958-401a-8a78-87161a642fe7"
      },
      "outputs": [
        {
          "name": "stdout",
          "output_type": "stream",
          "text": [
            "         a      b      c\n",
            "0        0    500   1000\n",
            "1        1    501   1001\n",
            "2        2    502   1002\n",
            "3        3    503   1003\n",
            "4        4    504   1004\n",
            "...    ...    ...    ...\n",
            "9995  9995  10495  10995\n",
            "9996  9996  10496  10996\n",
            "9997  9997  10497  10997\n",
            "9998  9998  10498  10998\n",
            "9999  9999  10499  10999\n",
            "\n",
            "[10000 rows x 3 columns]\n"
          ]
        }
      ],
      "source": [
        "df_loaded = cudf.read_csv('./exemplo_cudf.csv')\n",
        "print(df_loaded)"
      ]
    },
    {
      "cell_type": "code",
      "execution_count": 88,
      "metadata": {
        "colab": {
          "base_uri": "https://localhost:8080/"
        },
        "id": "8HkCFEofoHnq",
        "outputId": "624674a0-c36e-4e7c-ab32-17f428351b26"
      },
      "outputs": [
        {
          "data": {
            "text/plain": [
              "cudf.core.dataframe.DataFrame"
            ]
          },
          "execution_count": 88,
          "metadata": {},
          "output_type": "execute_result"
        }
      ],
      "source": [
        "type(df_loaded)"
      ]
    },
    {
      "cell_type": "markdown",
      "metadata": {
        "id": "ANGN_4UeeGJM"
      },
      "source": [
        "# UDF - Funções Definidas pelo Usuário\n",
        "\n",
        "Por exemplo: em um kernel contendo um loop for, o loop nessa função se assemelha ao código de modo serial, mas é executado de modo paralelo em vários threads na GPU. Quando o kernel é invocado, os parâmetros da função correspondente à entrada/saída são alterados para melhorar o paralelismo da GPU. A função do kernel é compilada para a GPU usando numba.cuda, portanto, a função do kernel deve usar apenas as funcionalidades do Python que são suportados pelo Numba para CUDA\n",
        "Funcionalidades suportadas aqui: https://numba.pydata.org/numba-doc/dev/cuda/cudapysupported.html\n",
        "\n",
        "Podemos executar as UDFs em várias estruturas de dados:\n",
        "* Series\n",
        "* DataFrame\n",
        "* Rolling Windows Series\n",
        "* Groupby DataFrames\n",
        "* CuPy NDArrays\n",
        "* Numba DeviceNDArrays"
      ]
    },
    {
      "cell_type": "markdown",
      "metadata": {
        "id": "34GzFGAwekkH"
      },
      "source": [
        "### UDF em Series\n",
        "\n",
        "Podemos executar UDFs em Series de duas maneiras:\n",
        "\n",
        "* Com uma função python padrão e usando `cudf.Series.apply`\n",
        "\n",
        "* Com um kernel Numba e usando a sintaxe `forall` do Numba\n",
        "\n",
        "https://numba.pydata.org/numba-doc/dev/cuda/cudapysupported.html\n",
        "\n",
        "Usar apply ou é mais simples, mas escrever um kernel Numba oferece a flexibilidade para construir funções mais complexas\n",
        "\n"
      ]
    },
    {
      "cell_type": "markdown",
      "metadata": {
        "id": "DXNb_NeUbz5c"
      },
      "source": [
        "> Com cudf.Series.apply"
      ]
    },
    {
      "cell_type": "code",
      "execution_count": 89,
      "metadata": {
        "colab": {
          "base_uri": "https://localhost:8080/"
        },
        "id": "60suTKnRrYLZ",
        "outputId": "356e7029-33ca-4c12-c4f8-8eaefe778340"
      },
      "outputs": [
        {
          "data": {
            "text/plain": [
              "0    1\n",
              "1    2\n",
              "2    7\n",
              "3    3\n",
              "4    4\n",
              "dtype: int64"
            ]
          },
          "execution_count": 89,
          "metadata": {},
          "output_type": "execute_result"
        }
      ],
      "source": [
        "s = cudf.Series([1,2,7,3,4])\n",
        "s"
      ]
    },
    {
      "cell_type": "code",
      "execution_count": 90,
      "metadata": {
        "colab": {
          "base_uri": "https://localhost:8080/"
        },
        "id": "7P1wjjXure2p",
        "outputId": "5609be6a-3371-4f70-950a-b8ea824c736c"
      },
      "outputs": [
        {
          "data": {
            "text/plain": [
              "cudf.core.series.Series"
            ]
          },
          "execution_count": 90,
          "metadata": {},
          "output_type": "execute_result"
        }
      ],
      "source": [
        "type(s)"
      ]
    },
    {
      "cell_type": "code",
      "execution_count": 91,
      "metadata": {
        "id": "BSk5u1GCriEe"
      },
      "outputs": [],
      "source": [
        "def add_10(num):\n",
        "  return num + 10"
      ]
    },
    {
      "cell_type": "code",
      "execution_count": 92,
      "metadata": {
        "colab": {
          "base_uri": "https://localhost:8080/"
        },
        "id": "a1e396uYroSH",
        "outputId": "58a93366-0ca5-4ee0-c372-13d920a52756"
      },
      "outputs": [
        {
          "name": "stdout",
          "output_type": "stream",
          "text": [
            "0    11\n",
            "1    12\n",
            "2    17\n",
            "3    13\n",
            "4    14\n",
            "dtype: int64\n"
          ]
        }
      ],
      "source": [
        "print(s.apply(add_10))"
      ]
    },
    {
      "cell_type": "markdown",
      "metadata": {
        "id": "KluwiXmVcvNs"
      },
      "source": [
        "### Funções com parâmetros escalares adicionais"
      ]
    },
    {
      "cell_type": "code",
      "execution_count": 93,
      "metadata": {
        "id": "k69Xfghbr-b3"
      },
      "outputs": [],
      "source": [
        "def add(x, num):\n",
        "  return x + num"
      ]
    },
    {
      "cell_type": "code",
      "execution_count": 94,
      "metadata": {
        "colab": {
          "base_uri": "https://localhost:8080/"
        },
        "id": "6Wrwg_BbsFPZ",
        "outputId": "f522b03b-b43b-42cf-b2db-641e301b417a"
      },
      "outputs": [
        {
          "data": {
            "text/plain": [
              "0    11\n",
              "1    12\n",
              "2    17\n",
              "3    13\n",
              "4    14\n",
              "dtype: int64"
            ]
          },
          "execution_count": 94,
          "metadata": {},
          "output_type": "execute_result"
        }
      ],
      "source": [
        "s.apply(add, args=(10,))"
      ]
    },
    {
      "cell_type": "markdown",
      "metadata": {
        "id": "n5DHqkn_Zuwh"
      },
      "source": [
        "### Strings\n",
        "\n",
        "Documentação: https://docs.rapids.ai/api/cudf/stable/api_docs/string_handling/#string-handling"
      ]
    },
    {
      "cell_type": "code",
      "execution_count": 95,
      "metadata": {
        "colab": {
          "base_uri": "https://localhost:8080/"
        },
        "id": "kwpLd9azsqDK",
        "outputId": "efc60212-67c5-4eab-d296-eba7b77b2cd9"
      },
      "outputs": [
        {
          "data": {
            "text/plain": [
              "0           A\n",
              "1           B\n",
              "2           C\n",
              "3      Rapids\n",
              "4        <NA>\n",
              "5        Gato\n",
              "6    Cachorro\n",
              "dtype: object"
            ]
          },
          "execution_count": 95,
          "metadata": {},
          "output_type": "execute_result"
        }
      ],
      "source": [
        "s = cudf.Series(['A', 'B', 'C', 'Rapids', None, 'Gato', 'Cachorro'])\n",
        "s"
      ]
    },
    {
      "cell_type": "code",
      "execution_count": 96,
      "metadata": {
        "id": "LZZR5ZS6swnh"
      },
      "outputs": [],
      "source": [
        "def udf_string(st):\n",
        "  if len(st) > 0:\n",
        "    if st.startswith(\"C\"):\n",
        "      return 1\n",
        "    elif \"d\" in st:\n",
        "      return 2\n",
        "    else:\n",
        "      return -1\n",
        "  else:\n",
        "    return 0"
      ]
    },
    {
      "cell_type": "code",
      "execution_count": 97,
      "metadata": {
        "colab": {
          "base_uri": "https://localhost:8080/"
        },
        "id": "frYd-WjZtaVS",
        "outputId": "70b57a2c-9842-4923-98db-40d79a597b7d"
      },
      "outputs": [
        {
          "name": "stdout",
          "output_type": "stream",
          "text": [
            "0   -1\n",
            "1   -1\n",
            "2    1\n",
            "3    2\n",
            "4    0\n",
            "5   -1\n",
            "6    1\n",
            "dtype: int64\n"
          ]
        }
      ],
      "source": [
        "res = s.apply(udf_string)\n",
        "print(res)"
      ]
    },
    {
      "cell_type": "markdown",
      "metadata": {
        "id": "ldIRNIoceqFW"
      },
      "source": [
        "### Com kernels numba customizáveis\n",
        "\n",
        "Documentação do CUDA: https://numba.readthedocs.io/en/stable/cuda/index.html"
      ]
    },
    {
      "cell_type": "code",
      "execution_count": 98,
      "metadata": {
        "colab": {
          "base_uri": "https://localhost:8080/",
          "height": 208
        },
        "id": "UM2_Ojs5uQWv",
        "outputId": "6ed8b30e-77c8-4bab-c14f-b77905e81f1c"
      },
      "outputs": [
        {
          "data": {
            "text/html": [
              "<div>\n",
              "<style scoped>\n",
              "    .dataframe tbody tr th:only-of-type {\n",
              "        vertical-align: middle;\n",
              "    }\n",
              "\n",
              "    .dataframe tbody tr th {\n",
              "        vertical-align: top;\n",
              "    }\n",
              "\n",
              "    .dataframe thead th {\n",
              "        text-align: right;\n",
              "    }\n",
              "</style>\n",
              "<table border=\"1\" class=\"dataframe\">\n",
              "  <thead>\n",
              "    <tr style=\"text-align: right;\">\n",
              "      <th></th>\n",
              "      <th>a</th>\n",
              "      <th>b</th>\n",
              "      <th>c</th>\n",
              "    </tr>\n",
              "  </thead>\n",
              "  <tbody>\n",
              "    <tr>\n",
              "      <th>0</th>\n",
              "      <td>1068</td>\n",
              "      <td>987</td>\n",
              "      <td>970</td>\n",
              "    </tr>\n",
              "    <tr>\n",
              "      <th>1</th>\n",
              "      <td>1014</td>\n",
              "      <td>971</td>\n",
              "      <td>997</td>\n",
              "    </tr>\n",
              "    <tr>\n",
              "      <th>2</th>\n",
              "      <td>934</td>\n",
              "      <td>1024</td>\n",
              "      <td>1013</td>\n",
              "    </tr>\n",
              "    <tr>\n",
              "      <th>3</th>\n",
              "      <td>1005</td>\n",
              "      <td>999</td>\n",
              "      <td>946</td>\n",
              "    </tr>\n",
              "    <tr>\n",
              "      <th>4</th>\n",
              "      <td>998</td>\n",
              "      <td>1028</td>\n",
              "      <td>950</td>\n",
              "    </tr>\n",
              "  </tbody>\n",
              "</table>\n",
              "</div>"
            ],
            "text/plain": [
              "      a     b     c\n",
              "0  1068   987   970\n",
              "1  1014   971   997\n",
              "2   934  1024  1013\n",
              "3  1005   999   946\n",
              "4   998  1028   950"
            ]
          },
          "execution_count": 98,
          "metadata": {},
          "output_type": "execute_result"
        }
      ],
      "source": [
        "from cudf.datasets import randomdata\n",
        "df = randomdata(nrows = 5, dtypes={\"a\": int, \"b\": int, \"c\": int})\n",
        "df"
      ]
    },
    {
      "cell_type": "code",
      "execution_count": 99,
      "metadata": {
        "id": "VwMGgCnJuuq3"
      },
      "outputs": [],
      "source": [
        "from numba import cuda\n",
        "\n",
        "@cuda.jit\n",
        "def multip(in_col, out_col, num):\n",
        "  i = cuda.grid(1)\n",
        "  if i < in_col.size:\n",
        "    out_col[i] = in_col[i] * num"
      ]
    },
    {
      "cell_type": "code",
      "execution_count": 100,
      "metadata": {
        "colab": {
          "base_uri": "https://localhost:8080/"
        },
        "id": "_CQN-kTivtq-",
        "outputId": "2385d0b1-0f69-4e0c-cf78-062bffca68f0"
      },
      "outputs": [
        {
          "data": {
            "text/plain": [
              "5"
            ]
          },
          "execution_count": 100,
          "metadata": {},
          "output_type": "execute_result"
        }
      ],
      "source": [
        "len(df['a'])"
      ]
    },
    {
      "cell_type": "code",
      "execution_count": 101,
      "metadata": {
        "id": "8cRSS85Gvqvf"
      },
      "outputs": [],
      "source": [
        "size = len(df['a'])\n",
        "df['e'] = 0.0"
      ]
    },
    {
      "cell_type": "code",
      "execution_count": 102,
      "metadata": {
        "colab": {
          "base_uri": "https://localhost:8080/",
          "height": 208
        },
        "id": "F4_VtU1xv3WA",
        "outputId": "34ed34c2-7c23-44eb-c34e-20960259af0d"
      },
      "outputs": [
        {
          "data": {
            "text/html": [
              "<div>\n",
              "<style scoped>\n",
              "    .dataframe tbody tr th:only-of-type {\n",
              "        vertical-align: middle;\n",
              "    }\n",
              "\n",
              "    .dataframe tbody tr th {\n",
              "        vertical-align: top;\n",
              "    }\n",
              "\n",
              "    .dataframe thead th {\n",
              "        text-align: right;\n",
              "    }\n",
              "</style>\n",
              "<table border=\"1\" class=\"dataframe\">\n",
              "  <thead>\n",
              "    <tr style=\"text-align: right;\">\n",
              "      <th></th>\n",
              "      <th>a</th>\n",
              "      <th>b</th>\n",
              "      <th>c</th>\n",
              "      <th>e</th>\n",
              "    </tr>\n",
              "  </thead>\n",
              "  <tbody>\n",
              "    <tr>\n",
              "      <th>0</th>\n",
              "      <td>1068</td>\n",
              "      <td>987</td>\n",
              "      <td>970</td>\n",
              "      <td>0.0</td>\n",
              "    </tr>\n",
              "    <tr>\n",
              "      <th>1</th>\n",
              "      <td>1014</td>\n",
              "      <td>971</td>\n",
              "      <td>997</td>\n",
              "      <td>0.0</td>\n",
              "    </tr>\n",
              "    <tr>\n",
              "      <th>2</th>\n",
              "      <td>934</td>\n",
              "      <td>1024</td>\n",
              "      <td>1013</td>\n",
              "      <td>0.0</td>\n",
              "    </tr>\n",
              "    <tr>\n",
              "      <th>3</th>\n",
              "      <td>1005</td>\n",
              "      <td>999</td>\n",
              "      <td>946</td>\n",
              "      <td>0.0</td>\n",
              "    </tr>\n",
              "    <tr>\n",
              "      <th>4</th>\n",
              "      <td>998</td>\n",
              "      <td>1028</td>\n",
              "      <td>950</td>\n",
              "      <td>0.0</td>\n",
              "    </tr>\n",
              "  </tbody>\n",
              "</table>\n",
              "</div>"
            ],
            "text/plain": [
              "      a     b     c    e\n",
              "0  1068   987   970  0.0\n",
              "1  1014   971   997  0.0\n",
              "2   934  1024  1013  0.0\n",
              "3  1005   999   946  0.0\n",
              "4   998  1028   950  0.0"
            ]
          },
          "execution_count": 102,
          "metadata": {},
          "output_type": "execute_result"
        }
      ],
      "source": [
        "df"
      ]
    },
    {
      "cell_type": "code",
      "execution_count": 103,
      "metadata": {
        "colab": {
          "base_uri": "https://localhost:8080/"
        },
        "id": "pvpnMRJWwDMH",
        "outputId": "6d04e784-beaa-4e4e-c611-1c9cf72e00f9"
      },
      "outputs": [
        {
          "name": "stderr",
          "output_type": "stream",
          "text": [
            "/home/gustavocb/.local/lib/python3.10/site-packages/numba/cuda/dispatcher.py:536: NumbaPerformanceWarning: Grid size 1 will likely result in GPU under-utilization due to low occupancy.\n",
            "  warn(NumbaPerformanceWarning(msg))\n"
          ]
        }
      ],
      "source": [
        "multip.forall(size)(df[\"a\"], df[\"e\"], 10.0)"
      ]
    },
    {
      "cell_type": "code",
      "execution_count": 104,
      "metadata": {
        "colab": {
          "base_uri": "https://localhost:8080/",
          "height": 208
        },
        "id": "OTB-KUFFwQ5l",
        "outputId": "42f8f7b5-11eb-47e0-cb86-25ab76461ede"
      },
      "outputs": [
        {
          "data": {
            "text/html": [
              "<div>\n",
              "<style scoped>\n",
              "    .dataframe tbody tr th:only-of-type {\n",
              "        vertical-align: middle;\n",
              "    }\n",
              "\n",
              "    .dataframe tbody tr th {\n",
              "        vertical-align: top;\n",
              "    }\n",
              "\n",
              "    .dataframe thead th {\n",
              "        text-align: right;\n",
              "    }\n",
              "</style>\n",
              "<table border=\"1\" class=\"dataframe\">\n",
              "  <thead>\n",
              "    <tr style=\"text-align: right;\">\n",
              "      <th></th>\n",
              "      <th>a</th>\n",
              "      <th>b</th>\n",
              "      <th>c</th>\n",
              "      <th>e</th>\n",
              "    </tr>\n",
              "  </thead>\n",
              "  <tbody>\n",
              "    <tr>\n",
              "      <th>0</th>\n",
              "      <td>1068</td>\n",
              "      <td>987</td>\n",
              "      <td>970</td>\n",
              "      <td>10680.0</td>\n",
              "    </tr>\n",
              "    <tr>\n",
              "      <th>1</th>\n",
              "      <td>1014</td>\n",
              "      <td>971</td>\n",
              "      <td>997</td>\n",
              "      <td>10140.0</td>\n",
              "    </tr>\n",
              "    <tr>\n",
              "      <th>2</th>\n",
              "      <td>934</td>\n",
              "      <td>1024</td>\n",
              "      <td>1013</td>\n",
              "      <td>9340.0</td>\n",
              "    </tr>\n",
              "    <tr>\n",
              "      <th>3</th>\n",
              "      <td>1005</td>\n",
              "      <td>999</td>\n",
              "      <td>946</td>\n",
              "      <td>10050.0</td>\n",
              "    </tr>\n",
              "    <tr>\n",
              "      <th>4</th>\n",
              "      <td>998</td>\n",
              "      <td>1028</td>\n",
              "      <td>950</td>\n",
              "      <td>9980.0</td>\n",
              "    </tr>\n",
              "  </tbody>\n",
              "</table>\n",
              "</div>"
            ],
            "text/plain": [
              "      a     b     c        e\n",
              "0  1068   987   970  10680.0\n",
              "1  1014   971   997  10140.0\n",
              "2   934  1024  1013   9340.0\n",
              "3  1005   999   946  10050.0\n",
              "4   998  1028   950   9980.0"
            ]
          },
          "execution_count": 104,
          "metadata": {},
          "output_type": "execute_result"
        }
      ],
      "source": [
        "df"
      ]
    },
    {
      "cell_type": "markdown",
      "metadata": {
        "id": "1ADvwirJKQ5i"
      },
      "source": [
        "## UDF em DataFrames\n",
        "\n",
        "Existem várias maneiras de usar UDFs em dataframes, que essencialmente equivalem a UDFs que esperam múltiplas colunas como entrada:\n",
        "\n",
        "1. Usando o cudf.DataFrame.apply - que funciona semelhante ao pd.DataFrame.apply\n",
        "\n",
        "2. Usando o cudf.DataFrame.apply_rows - que é um wrapper do numba portanto e espera um kernel numba\n",
        "\n",
        "3. Usando o cudf.DataFrame.apply_chunks, que é semelhante ao cudf.DataFrame.apply_rows, mas oferece controle de mais baixo nível."
      ]
    },
    {
      "cell_type": "markdown",
      "metadata": {
        "id": "LtVYTCz0LxWK"
      },
      "source": [
        "### Com o cudf.DataFrame.apply\n"
      ]
    },
    {
      "cell_type": "code",
      "execution_count": 105,
      "metadata": {
        "id": "6csb95zayB3F"
      },
      "outputs": [],
      "source": [
        "def udf_add(row):\n",
        "  return row['a'] + row['b']"
      ]
    },
    {
      "cell_type": "code",
      "execution_count": 106,
      "metadata": {
        "colab": {
          "base_uri": "https://localhost:8080/",
          "height": 176
        },
        "id": "CKixuMv2yH4o",
        "outputId": "4bbf7098-f9ae-479e-e3f5-dcc9c9c19164"
      },
      "outputs": [
        {
          "data": {
            "text/html": [
              "<div>\n",
              "<style scoped>\n",
              "    .dataframe tbody tr th:only-of-type {\n",
              "        vertical-align: middle;\n",
              "    }\n",
              "\n",
              "    .dataframe tbody tr th {\n",
              "        vertical-align: top;\n",
              "    }\n",
              "\n",
              "    .dataframe thead th {\n",
              "        text-align: right;\n",
              "    }\n",
              "</style>\n",
              "<table border=\"1\" class=\"dataframe\">\n",
              "  <thead>\n",
              "    <tr style=\"text-align: right;\">\n",
              "      <th></th>\n",
              "      <th>a</th>\n",
              "      <th>b</th>\n",
              "    </tr>\n",
              "  </thead>\n",
              "  <tbody>\n",
              "    <tr>\n",
              "      <th>0</th>\n",
              "      <td>1</td>\n",
              "      <td>5</td>\n",
              "    </tr>\n",
              "    <tr>\n",
              "      <th>1</th>\n",
              "      <td>2</td>\n",
              "      <td>6</td>\n",
              "    </tr>\n",
              "    <tr>\n",
              "      <th>2</th>\n",
              "      <td>3</td>\n",
              "      <td>&lt;NA&gt;</td>\n",
              "    </tr>\n",
              "    <tr>\n",
              "      <th>3</th>\n",
              "      <td>4</td>\n",
              "      <td>8</td>\n",
              "    </tr>\n",
              "  </tbody>\n",
              "</table>\n",
              "</div>"
            ],
            "text/plain": [
              "   a     b\n",
              "0  1     5\n",
              "1  2     6\n",
              "2  3  <NA>\n",
              "3  4     8"
            ]
          },
          "execution_count": 106,
          "metadata": {},
          "output_type": "execute_result"
        }
      ],
      "source": [
        "df = cudf.DataFrame({\"a\": [1,2,3,4], \"b\": [5,6,cudf.NA,8]})\n",
        "df"
      ]
    },
    {
      "cell_type": "code",
      "execution_count": 107,
      "metadata": {
        "colab": {
          "base_uri": "https://localhost:8080/"
        },
        "id": "eVkr1aaDyQhm",
        "outputId": "c9ab888b-8d83-4dd1-b15e-bfe8d9078a46"
      },
      "outputs": [
        {
          "data": {
            "text/plain": [
              "0       6\n",
              "1       8\n",
              "2    <NA>\n",
              "3      12\n",
              "dtype: int64"
            ]
          },
          "execution_count": 107,
          "metadata": {},
          "output_type": "execute_result"
        }
      ],
      "source": [
        "df.apply(udf_add, axis = 1)"
      ]
    },
    {
      "cell_type": "code",
      "execution_count": 108,
      "metadata": {
        "id": "cT87RAMqyh2v"
      },
      "outputs": [],
      "source": [
        "def udf_add(row):\n",
        "  x = row['a']\n",
        "  if x is cudf.NA:\n",
        "    return 0\n",
        "  else:\n",
        "    return x + 1"
      ]
    },
    {
      "cell_type": "code",
      "execution_count": 109,
      "metadata": {
        "colab": {
          "base_uri": "https://localhost:8080/",
          "height": 144
        },
        "id": "e_ZjUxB8ytfZ",
        "outputId": "64cb79a3-944d-4c17-93ab-2420839c4c0f"
      },
      "outputs": [
        {
          "data": {
            "text/html": [
              "<div>\n",
              "<style scoped>\n",
              "    .dataframe tbody tr th:only-of-type {\n",
              "        vertical-align: middle;\n",
              "    }\n",
              "\n",
              "    .dataframe tbody tr th {\n",
              "        vertical-align: top;\n",
              "    }\n",
              "\n",
              "    .dataframe thead th {\n",
              "        text-align: right;\n",
              "    }\n",
              "</style>\n",
              "<table border=\"1\" class=\"dataframe\">\n",
              "  <thead>\n",
              "    <tr style=\"text-align: right;\">\n",
              "      <th></th>\n",
              "      <th>a</th>\n",
              "    </tr>\n",
              "  </thead>\n",
              "  <tbody>\n",
              "    <tr>\n",
              "      <th>0</th>\n",
              "      <td>1</td>\n",
              "    </tr>\n",
              "    <tr>\n",
              "      <th>1</th>\n",
              "      <td>&lt;NA&gt;</td>\n",
              "    </tr>\n",
              "    <tr>\n",
              "      <th>2</th>\n",
              "      <td>3</td>\n",
              "    </tr>\n",
              "  </tbody>\n",
              "</table>\n",
              "</div>"
            ],
            "text/plain": [
              "      a\n",
              "0     1\n",
              "1  <NA>\n",
              "2     3"
            ]
          },
          "execution_count": 109,
          "metadata": {},
          "output_type": "execute_result"
        }
      ],
      "source": [
        "df = cudf.DataFrame({\"a\": [1, cudf.NA, 3]})\n",
        "df"
      ]
    },
    {
      "cell_type": "code",
      "execution_count": 110,
      "metadata": {
        "colab": {
          "base_uri": "https://localhost:8080/"
        },
        "id": "TSJ978Ktyv-t",
        "outputId": "a5b88f8d-1d18-494d-cb99-c1451664b61c"
      },
      "outputs": [
        {
          "data": {
            "text/plain": [
              "0    2\n",
              "1    0\n",
              "2    4\n",
              "dtype: int64"
            ]
          },
          "execution_count": 110,
          "metadata": {},
          "output_type": "execute_result"
        }
      ],
      "source": [
        "# df.to_pandas(nullable=True).apply(udf_add, axis=1)\n",
        "df.apply(udf_add, axis = 1)"
      ]
    },
    {
      "cell_type": "code",
      "execution_count": 111,
      "metadata": {
        "id": "BhRwrnsRzFjY"
      },
      "outputs": [],
      "source": [
        "def f(row):\n",
        "  return row['a'] * (row['b'] + (row['c'] / row['d'])) % row['e']"
      ]
    },
    {
      "cell_type": "code",
      "execution_count": 112,
      "metadata": {
        "id": "wNqOTrOlzT6j"
      },
      "outputs": [],
      "source": [
        "df = cudf.DataFrame(\n",
        "    {\n",
        "        \"a\": [1, 2, 3],\n",
        "        \"b\": [4, 5, 6],\n",
        "        \"c\": [7, 7, cudf.NA],\n",
        "        \"d\": [8, 9, 1],\n",
        "        \"e\": [7, 1, 6],\n",
        "    }\n",
        ")"
      ]
    },
    {
      "cell_type": "code",
      "execution_count": 113,
      "metadata": {
        "colab": {
          "base_uri": "https://localhost:8080/",
          "height": 144
        },
        "id": "eB6nn3pSzWv8",
        "outputId": "25022d3d-d76e-49f4-a7cb-b810434f8fe9"
      },
      "outputs": [
        {
          "data": {
            "text/html": [
              "<div>\n",
              "<style scoped>\n",
              "    .dataframe tbody tr th:only-of-type {\n",
              "        vertical-align: middle;\n",
              "    }\n",
              "\n",
              "    .dataframe tbody tr th {\n",
              "        vertical-align: top;\n",
              "    }\n",
              "\n",
              "    .dataframe thead th {\n",
              "        text-align: right;\n",
              "    }\n",
              "</style>\n",
              "<table border=\"1\" class=\"dataframe\">\n",
              "  <thead>\n",
              "    <tr style=\"text-align: right;\">\n",
              "      <th></th>\n",
              "      <th>a</th>\n",
              "      <th>b</th>\n",
              "      <th>c</th>\n",
              "      <th>d</th>\n",
              "      <th>e</th>\n",
              "    </tr>\n",
              "  </thead>\n",
              "  <tbody>\n",
              "    <tr>\n",
              "      <th>0</th>\n",
              "      <td>1</td>\n",
              "      <td>4</td>\n",
              "      <td>7</td>\n",
              "      <td>8</td>\n",
              "      <td>7</td>\n",
              "    </tr>\n",
              "    <tr>\n",
              "      <th>1</th>\n",
              "      <td>2</td>\n",
              "      <td>5</td>\n",
              "      <td>7</td>\n",
              "      <td>9</td>\n",
              "      <td>1</td>\n",
              "    </tr>\n",
              "    <tr>\n",
              "      <th>2</th>\n",
              "      <td>3</td>\n",
              "      <td>6</td>\n",
              "      <td>&lt;NA&gt;</td>\n",
              "      <td>1</td>\n",
              "      <td>6</td>\n",
              "    </tr>\n",
              "  </tbody>\n",
              "</table>\n",
              "</div>"
            ],
            "text/plain": [
              "   a  b     c  d  e\n",
              "0  1  4     7  8  7\n",
              "1  2  5     7  9  1\n",
              "2  3  6  <NA>  1  6"
            ]
          },
          "execution_count": 113,
          "metadata": {},
          "output_type": "execute_result"
        }
      ],
      "source": [
        "df"
      ]
    },
    {
      "cell_type": "code",
      "execution_count": 114,
      "metadata": {
        "colab": {
          "base_uri": "https://localhost:8080/"
        },
        "id": "4BCryBM5zYY5",
        "outputId": "ae1c60bd-781e-4d6f-9b62-6d4a11fe73b0"
      },
      "outputs": [
        {
          "data": {
            "text/plain": [
              "0          4.875\n",
              "1    0.555555556\n",
              "2           <NA>\n",
              "dtype: float64"
            ]
          },
          "execution_count": 114,
          "metadata": {},
          "output_type": "execute_result"
        }
      ],
      "source": [
        "df.apply(f, axis = 1)"
      ]
    },
    {
      "cell_type": "markdown",
      "metadata": {
        "id": "a5txKSq5SuFf"
      },
      "source": [
        "### Com apply_rows e apply_chunks - Kernels Numba para DataFrames\n"
      ]
    },
    {
      "cell_type": "code",
      "execution_count": 115,
      "metadata": {
        "id": "7Lsf2pYh0QVY"
      },
      "outputs": [],
      "source": [
        "def add_cond(x, y, out):\n",
        "  for i, (a, e) in enumerate(zip(x, y)):\n",
        "    if a > 0:\n",
        "      out[i] = a + e\n",
        "    else:\n",
        "      out[i] = a"
      ]
    },
    {
      "cell_type": "code",
      "execution_count": 116,
      "metadata": {
        "colab": {
          "base_uri": "https://localhost:8080/",
          "height": 144
        },
        "id": "dY5N4rvp0uwN",
        "outputId": "423ac51f-1c9c-4df0-beeb-b6c34a4e6f60"
      },
      "outputs": [
        {
          "data": {
            "text/html": [
              "<div>\n",
              "<style scoped>\n",
              "    .dataframe tbody tr th:only-of-type {\n",
              "        vertical-align: middle;\n",
              "    }\n",
              "\n",
              "    .dataframe tbody tr th {\n",
              "        vertical-align: top;\n",
              "    }\n",
              "\n",
              "    .dataframe thead th {\n",
              "        text-align: right;\n",
              "    }\n",
              "</style>\n",
              "<table border=\"1\" class=\"dataframe\">\n",
              "  <thead>\n",
              "    <tr style=\"text-align: right;\">\n",
              "      <th></th>\n",
              "      <th>a</th>\n",
              "      <th>b</th>\n",
              "      <th>c</th>\n",
              "      <th>d</th>\n",
              "      <th>e</th>\n",
              "    </tr>\n",
              "  </thead>\n",
              "  <tbody>\n",
              "    <tr>\n",
              "      <th>0</th>\n",
              "      <td>1</td>\n",
              "      <td>4</td>\n",
              "      <td>7</td>\n",
              "      <td>8</td>\n",
              "      <td>7</td>\n",
              "    </tr>\n",
              "    <tr>\n",
              "      <th>1</th>\n",
              "      <td>2</td>\n",
              "      <td>5</td>\n",
              "      <td>7</td>\n",
              "      <td>9</td>\n",
              "      <td>1</td>\n",
              "    </tr>\n",
              "    <tr>\n",
              "      <th>2</th>\n",
              "      <td>3</td>\n",
              "      <td>6</td>\n",
              "      <td>&lt;NA&gt;</td>\n",
              "      <td>1</td>\n",
              "      <td>6</td>\n",
              "    </tr>\n",
              "  </tbody>\n",
              "</table>\n",
              "</div>"
            ],
            "text/plain": [
              "   a  b     c  d  e\n",
              "0  1  4     7  8  7\n",
              "1  2  5     7  9  1\n",
              "2  3  6  <NA>  1  6"
            ]
          },
          "execution_count": 116,
          "metadata": {},
          "output_type": "execute_result"
        }
      ],
      "source": [
        "df"
      ]
    },
    {
      "cell_type": "code",
      "execution_count": 117,
      "metadata": {
        "id": "orHdmNBl0wRE"
      },
      "outputs": [],
      "source": [
        "df = df.apply_rows(add_cond, incols={\"a\": \"x\", \"e\": \"y\"}, outcols={\"out\": np.float64}, kwargs={})"
      ]
    },
    {
      "cell_type": "code",
      "execution_count": 118,
      "metadata": {
        "colab": {
          "base_uri": "https://localhost:8080/",
          "height": 144
        },
        "id": "gWkGibHo1M-4",
        "outputId": "ad5e9140-e7eb-490d-edfe-089e3e87ca0b"
      },
      "outputs": [
        {
          "data": {
            "text/html": [
              "<div>\n",
              "<style scoped>\n",
              "    .dataframe tbody tr th:only-of-type {\n",
              "        vertical-align: middle;\n",
              "    }\n",
              "\n",
              "    .dataframe tbody tr th {\n",
              "        vertical-align: top;\n",
              "    }\n",
              "\n",
              "    .dataframe thead th {\n",
              "        text-align: right;\n",
              "    }\n",
              "</style>\n",
              "<table border=\"1\" class=\"dataframe\">\n",
              "  <thead>\n",
              "    <tr style=\"text-align: right;\">\n",
              "      <th></th>\n",
              "      <th>a</th>\n",
              "      <th>b</th>\n",
              "      <th>c</th>\n",
              "      <th>d</th>\n",
              "      <th>e</th>\n",
              "      <th>out</th>\n",
              "    </tr>\n",
              "  </thead>\n",
              "  <tbody>\n",
              "    <tr>\n",
              "      <th>0</th>\n",
              "      <td>1</td>\n",
              "      <td>4</td>\n",
              "      <td>7</td>\n",
              "      <td>8</td>\n",
              "      <td>7</td>\n",
              "      <td>8.0</td>\n",
              "    </tr>\n",
              "    <tr>\n",
              "      <th>1</th>\n",
              "      <td>2</td>\n",
              "      <td>5</td>\n",
              "      <td>7</td>\n",
              "      <td>9</td>\n",
              "      <td>1</td>\n",
              "      <td>3.0</td>\n",
              "    </tr>\n",
              "    <tr>\n",
              "      <th>2</th>\n",
              "      <td>3</td>\n",
              "      <td>6</td>\n",
              "      <td>&lt;NA&gt;</td>\n",
              "      <td>1</td>\n",
              "      <td>6</td>\n",
              "      <td>9.0</td>\n",
              "    </tr>\n",
              "  </tbody>\n",
              "</table>\n",
              "</div>"
            ],
            "text/plain": [
              "   a  b     c  d  e  out\n",
              "0  1  4     7  8  7  8.0\n",
              "1  2  5     7  9  1  3.0\n",
              "2  3  6  <NA>  1  6  9.0"
            ]
          },
          "execution_count": 118,
          "metadata": {},
          "output_type": "execute_result"
        }
      ],
      "source": [
        "df"
      ]
    },
    {
      "cell_type": "markdown",
      "metadata": {
        "id": "hMh1a4WeVM0X"
      },
      "source": [
        "### UDF em arrays cuPy"
      ]
    },
    {
      "cell_type": "code",
      "execution_count": 119,
      "metadata": {
        "colab": {
          "base_uri": "https://localhost:8080/"
        },
        "id": "vRaMEM_H1fYP",
        "outputId": "0a66c89e-f169-4a27-e9b5-a6c858a57afe"
      },
      "outputs": [
        {
          "data": {
            "text/plain": [
              "0    1.0\n",
              "1    2.0\n",
              "2    3.0\n",
              "3    4.0\n",
              "4    7.0\n",
              "dtype: float64"
            ]
          },
          "execution_count": 119,
          "metadata": {},
          "output_type": "execute_result"
        }
      ],
      "source": [
        "import cupy as cp\n",
        "s = cudf.Series([1.0, 2, 3, 4, 7])\n",
        "s"
      ]
    },
    {
      "cell_type": "code",
      "execution_count": 120,
      "metadata": {
        "colab": {
          "base_uri": "https://localhost:8080/"
        },
        "id": "glMK-s3D1vjP",
        "outputId": "eabe6623-bcbd-4638-ecb2-2a1fad94e1be"
      },
      "outputs": [
        {
          "data": {
            "text/plain": [
              "cudf.core.series.Series"
            ]
          },
          "execution_count": 120,
          "metadata": {},
          "output_type": "execute_result"
        }
      ],
      "source": [
        "type(s)"
      ]
    },
    {
      "cell_type": "code",
      "execution_count": 121,
      "metadata": {
        "colab": {
          "base_uri": "https://localhost:8080/"
        },
        "id": "a15XH19K1zCO",
        "outputId": "8c84f061-c447-4087-f6e6-31fe1551ec6a"
      },
      "outputs": [
        {
          "data": {
            "text/plain": [
              "array([1., 2., 3., 4., 7.])"
            ]
          },
          "execution_count": 121,
          "metadata": {},
          "output_type": "execute_result"
        }
      ],
      "source": [
        "cp_array = cp.asarray(s)\n",
        "cp_array"
      ]
    },
    {
      "cell_type": "code",
      "execution_count": 122,
      "metadata": {
        "colab": {
          "base_uri": "https://localhost:8080/"
        },
        "id": "Hd6AvwSr14Ft",
        "outputId": "0a066651-78a1-4351-bcdd-680b1c458cce"
      },
      "outputs": [
        {
          "data": {
            "text/plain": [
              "cupy.ndarray"
            ]
          },
          "execution_count": 122,
          "metadata": {},
          "output_type": "execute_result"
        }
      ],
      "source": [
        "type(cp_array)"
      ]
    },
    {
      "cell_type": "code",
      "execution_count": 123,
      "metadata": {
        "id": "zNw0C0JL2A6i"
      },
      "outputs": [],
      "source": [
        "@cuda.jit\n",
        "def multip_5x(x, out):\n",
        "  i = cuda.grid(1)\n",
        "  if i < x.size:\n",
        "    out[i] = x[i] * 5"
      ]
    },
    {
      "cell_type": "code",
      "execution_count": 124,
      "metadata": {
        "colab": {
          "base_uri": "https://localhost:8080/"
        },
        "id": "ENjzQM192Mai",
        "outputId": "2ee68e0e-236f-4c76-bab7-c0e5cffa89ad"
      },
      "outputs": [
        {
          "data": {
            "text/plain": [
              "0    0\n",
              "1    0\n",
              "2    0\n",
              "3    0\n",
              "4    0\n",
              "dtype: int32"
            ]
          },
          "execution_count": 124,
          "metadata": {},
          "output_type": "execute_result"
        }
      ],
      "source": [
        "res = cudf.Series(cp.zeros(len(s), dtype=\"int32\"))\n",
        "res"
      ]
    },
    {
      "cell_type": "code",
      "execution_count": 125,
      "metadata": {
        "colab": {
          "base_uri": "https://localhost:8080/"
        },
        "id": "H9Cbg3Qz2ZCw",
        "outputId": "1618b028-fa3f-4473-bf96-663699b61e5f"
      },
      "outputs": [
        {
          "data": {
            "text/plain": [
              "5"
            ]
          },
          "execution_count": 125,
          "metadata": {},
          "output_type": "execute_result"
        }
      ],
      "source": [
        "s.shape[0]"
      ]
    },
    {
      "cell_type": "code",
      "execution_count": 126,
      "metadata": {
        "colab": {
          "base_uri": "https://localhost:8080/"
        },
        "id": "QviKEll02UqF",
        "outputId": "7fe2bc4b-a661-45bf-877f-a5b8a2ba3d3c"
      },
      "outputs": [
        {
          "name": "stderr",
          "output_type": "stream",
          "text": [
            "/home/gustavocb/.local/lib/python3.10/site-packages/numba/cuda/dispatcher.py:536: NumbaPerformanceWarning: Grid size 1 will likely result in GPU under-utilization due to low occupancy.\n",
            "  warn(NumbaPerformanceWarning(msg))\n"
          ]
        },
        {
          "data": {
            "text/plain": [
              "0     5\n",
              "1    10\n",
              "2    15\n",
              "3    20\n",
              "4    35\n",
              "dtype: int32"
            ]
          },
          "execution_count": 126,
          "metadata": {},
          "output_type": "execute_result"
        }
      ],
      "source": [
        "multip_5x.forall(s.shape[0])(s, res)\n",
        "res"
      ]
    },
    {
      "cell_type": "code",
      "execution_count": 127,
      "metadata": {
        "colab": {
          "base_uri": "https://localhost:8080/"
        },
        "id": "vGx4Daq-22Ry",
        "outputId": "3fa9b61e-b144-4d53-cd87-4783e7d35477"
      },
      "outputs": [
        {
          "data": {
            "text/plain": [
              "cudf.core.series.Series"
            ]
          },
          "execution_count": 127,
          "metadata": {},
          "output_type": "execute_result"
        }
      ],
      "source": [
        "type(res)"
      ]
    },
    {
      "cell_type": "code",
      "execution_count": 128,
      "metadata": {
        "id": "eARGPEE43Bm7"
      },
      "outputs": [],
      "source": [
        "res_cp = res.to_cupy()"
      ]
    },
    {
      "cell_type": "code",
      "execution_count": 129,
      "metadata": {
        "colab": {
          "base_uri": "https://localhost:8080/"
        },
        "id": "kzfwx_fl3GUh",
        "outputId": "410dd4ca-19b9-4ff3-a28e-17ab6dd7568b"
      },
      "outputs": [
        {
          "data": {
            "text/plain": [
              "array([ 5, 10, 15, 20, 35], dtype=int32)"
            ]
          },
          "execution_count": 129,
          "metadata": {},
          "output_type": "execute_result"
        }
      ],
      "source": [
        "res_cp"
      ]
    },
    {
      "cell_type": "code",
      "execution_count": 130,
      "metadata": {
        "colab": {
          "base_uri": "https://localhost:8080/"
        },
        "id": "VdS2smTs3LyL",
        "outputId": "2523b54d-ff0d-4685-a93e-c83cc385e612"
      },
      "outputs": [
        {
          "data": {
            "text/plain": [
              "cupy.ndarray"
            ]
          },
          "execution_count": 130,
          "metadata": {},
          "output_type": "execute_result"
        }
      ],
      "source": [
        "type(res_cp)"
      ]
    },
    {
      "cell_type": "markdown",
      "metadata": {
        "id": "gRV1m2qqRR6J"
      },
      "source": [
        "# Comparação de desempenho\n",
        "\n"
      ]
    },
    {
      "cell_type": "code",
      "execution_count": 131,
      "metadata": {
        "id": "jL8_EmmKj6qy"
      },
      "outputs": [],
      "source": [
        "import locale\n",
        "locale.getpreferredencoding = lambda: \"UTF-8\""
      ]
    },
    {
      "cell_type": "code",
      "execution_count": 132,
      "metadata": {
        "colab": {
          "base_uri": "https://localhost:8080/"
        },
        "id": "4qATP1fgj1Dq",
        "outputId": "5025ea35-691f-4d51-f223-cefee303e077"
      },
      "outputs": [
        {
          "name": "stdout",
          "output_type": "stream",
          "text": [
            "Wed Apr 10 08:43:42 2024       \n",
            "+-----------------------------------------------------------------------------------------+\n",
            "| NVIDIA-SMI 550.40.06              Driver Version: 551.23         CUDA Version: 12.4     |\n",
            "|-----------------------------------------+------------------------+----------------------+\n",
            "| GPU  Name                 Persistence-M | Bus-Id          Disp.A | Volatile Uncorr. ECC |\n",
            "| Fan  Temp   Perf          Pwr:Usage/Cap |           Memory-Usage | GPU-Util  Compute M. |\n",
            "|                                         |                        |               MIG M. |\n",
            "|=========================================+========================+======================|\n",
            "|   0  NVIDIA GeForce RTX 3060        On  |   00000000:01:00.0  On |                  N/A |\n",
            "|  0%   41C    P8              8W /  170W |    1139MiB /  12288MiB |     27%      Default |\n",
            "|                                         |                        |                  N/A |\n",
            "+-----------------------------------------+------------------------+----------------------+\n",
            "                                                                                         \n",
            "+-----------------------------------------------------------------------------------------+\n",
            "| Processes:                                                                              |\n",
            "|  GPU   GI   CI        PID   Type   Process name                              GPU Memory |\n",
            "|        ID   ID                                                               Usage      |\n",
            "|=========================================================================================|\n",
            "|    0   N/A  N/A     27602      C   /python3.10                                 N/A      |\n",
            "+-----------------------------------------------------------------------------------------+\n"
          ]
        }
      ],
      "source": [
        "!nvidia-smi"
      ]
    },
    {
      "cell_type": "code",
      "execution_count": 133,
      "metadata": {
        "colab": {
          "base_uri": "https://localhost:8080/"
        },
        "id": "UGEBerfjkVel",
        "outputId": "11feb384-ce68-4d33-b5f6-97bff599c31f"
      },
      "outputs": [
        {
          "name": "stdout",
          "output_type": "stream",
          "text": [
            "Architecture:            x86_64\n",
            "  CPU op-mode(s):        32-bit, 64-bit\n",
            "  Address sizes:         46 bits physical, 48 bits virtual\n",
            "  Byte Order:            Little Endian\n",
            "CPU(s):                  24\n",
            "  On-line CPU(s) list:   0-23\n",
            "Vendor ID:               GenuineIntel\n",
            "  Model name:            13th Gen Intel(R) Core(TM) i7-13700\n",
            "    CPU family:          6\n",
            "    Model:               183\n",
            "    Thread(s) per core:  2\n",
            "    Core(s) per socket:  12\n",
            "    Socket(s):           1\n",
            "    Stepping:            1\n",
            "    BogoMIPS:            4223.99\n",
            "    Flags:               fpu vme de pse tsc msr pae mce cx8 apic sep mtrr pge mc\n",
            "                         a cmov pat pse36 clflush mmx fxsr sse sse2 ss ht syscal\n",
            "                         l nx pdpe1gb rdtscp lm constant_tsc rep_good nopl xtopo\n",
            "                         logy tsc_reliable nonstop_tsc cpuid pni pclmulqdq vmx s\n",
            "                         sse3 fma cx16 sse4_1 sse4_2 x2apic movbe popcnt tsc_dea\n",
            "                         dline_timer aes xsave avx f16c rdrand hypervisor lahf_l\n",
            "                         m abm 3dnowprefetch ssbd ibrs ibpb stibp ibrs_enhanced \n",
            "                         tpr_shadow vnmi ept vpid ept_ad fsgsbase tsc_adjust bmi\n",
            "                         1 avx2 smep bmi2 erms invpcid rdseed adx smap clflushop\n",
            "                         t clwb sha_ni xsaveopt xsavec xgetbv1 xsaves avx_vnni u\n",
            "                         mip waitpkg gfni vaes vpclmulqdq rdpid movdiri movdir64\n",
            "                         b fsrm md_clear serialize flush_l1d arch_capabilities\n",
            "Virtualization features: \n",
            "  Virtualization:        VT-x\n",
            "  Hypervisor vendor:     Microsoft\n",
            "  Virtualization type:   full\n",
            "Caches (sum of all):     \n",
            "  L1d:                   576 KiB (12 instances)\n",
            "  L1i:                   384 KiB (12 instances)\n",
            "  L2:                    24 MiB (12 instances)\n",
            "  L3:                    30 MiB (1 instance)\n",
            "Vulnerabilities:         \n",
            "  Gather data sampling:  Not affected\n",
            "  Itlb multihit:         Not affected\n",
            "  L1tf:                  Not affected\n",
            "  Mds:                   Not affected\n",
            "  Meltdown:              Not affected\n",
            "  Mmio stale data:       Not affected\n",
            "  Retbleed:              Mitigation; Enhanced IBRS\n",
            "  Spec rstack overflow:  Not affected\n",
            "  Spec store bypass:     Mitigation; Speculative Store Bypass disabled via prctl\n",
            "                          and seccomp\n",
            "  Spectre v1:            Mitigation; usercopy/swapgs barriers and __user pointer\n",
            "                          sanitization\n",
            "  Spectre v2:            Mitigation; Enhanced IBRS, IBPB conditional, RSB fillin\n",
            "                         g, PBRSB-eIBRS SW sequence\n",
            "  Srbds:                 Not affected\n",
            "  Tsx async abort:       Not affected\n"
          ]
        }
      ],
      "source": [
        "!lscpu"
      ]
    },
    {
      "cell_type": "code",
      "execution_count": 134,
      "metadata": {
        "id": "lnzy3Uxnkjzq"
      },
      "outputs": [],
      "source": [
        "import os\n",
        "import time\n",
        "import timeit\n",
        "from io import BytesIO\n",
        "import matplotlib.pyplot as plt\n",
        "import numpy as np\n",
        "np.random.seed(42)"
      ]
    },
    {
      "cell_type": "code",
      "execution_count": 135,
      "metadata": {
        "id": "KXSYRBDsk2Gx"
      },
      "outputs": [],
      "source": [
        "num_rows = 10_000_000\n",
        "df_pandas = pd.DataFrame(\n",
        "    {\n",
        "        \"nums\": np.random.randint(-1000, 1000, num_rows, dtype=\"int64\"),\n",
        "        \"companies\": np.random.choice([\"Google\", \"Amazon\", \"Apple\", \"Microsoft\", \"Facebook\"], size=num_rows)\n",
        "    }\n",
        ")"
      ]
    },
    {
      "cell_type": "code",
      "execution_count": 136,
      "metadata": {
        "colab": {
          "base_uri": "https://localhost:8080/",
          "height": 427
        },
        "id": "g7q0WXcmlZiH",
        "outputId": "c4daa3aa-4156-4425-e710-ba01b11b9e73"
      },
      "outputs": [
        {
          "data": {
            "text/html": [
              "<div>\n",
              "<style scoped>\n",
              "    .dataframe tbody tr th:only-of-type {\n",
              "        vertical-align: middle;\n",
              "    }\n",
              "\n",
              "    .dataframe tbody tr th {\n",
              "        vertical-align: top;\n",
              "    }\n",
              "\n",
              "    .dataframe thead th {\n",
              "        text-align: right;\n",
              "    }\n",
              "</style>\n",
              "<table border=\"1\" class=\"dataframe\">\n",
              "  <thead>\n",
              "    <tr style=\"text-align: right;\">\n",
              "      <th></th>\n",
              "      <th>nums</th>\n",
              "      <th>companies</th>\n",
              "    </tr>\n",
              "  </thead>\n",
              "  <tbody>\n",
              "    <tr>\n",
              "      <th>0</th>\n",
              "      <td>126</td>\n",
              "      <td>Apple</td>\n",
              "    </tr>\n",
              "    <tr>\n",
              "      <th>1</th>\n",
              "      <td>459</td>\n",
              "      <td>Facebook</td>\n",
              "    </tr>\n",
              "    <tr>\n",
              "      <th>2</th>\n",
              "      <td>-140</td>\n",
              "      <td>Amazon</td>\n",
              "    </tr>\n",
              "    <tr>\n",
              "      <th>3</th>\n",
              "      <td>294</td>\n",
              "      <td>Microsoft</td>\n",
              "    </tr>\n",
              "    <tr>\n",
              "      <th>4</th>\n",
              "      <td>130</td>\n",
              "      <td>Microsoft</td>\n",
              "    </tr>\n",
              "    <tr>\n",
              "      <th>...</th>\n",
              "      <td>...</td>\n",
              "      <td>...</td>\n",
              "    </tr>\n",
              "    <tr>\n",
              "      <th>9999995</th>\n",
              "      <td>-385</td>\n",
              "      <td>Microsoft</td>\n",
              "    </tr>\n",
              "    <tr>\n",
              "      <th>9999996</th>\n",
              "      <td>-475</td>\n",
              "      <td>Amazon</td>\n",
              "    </tr>\n",
              "    <tr>\n",
              "      <th>9999997</th>\n",
              "      <td>-761</td>\n",
              "      <td>Microsoft</td>\n",
              "    </tr>\n",
              "    <tr>\n",
              "      <th>9999998</th>\n",
              "      <td>-680</td>\n",
              "      <td>Apple</td>\n",
              "    </tr>\n",
              "    <tr>\n",
              "      <th>9999999</th>\n",
              "      <td>-555</td>\n",
              "      <td>Apple</td>\n",
              "    </tr>\n",
              "  </tbody>\n",
              "</table>\n",
              "<p>10000000 rows × 2 columns</p>\n",
              "</div>"
            ],
            "text/plain": [
              "         nums  companies\n",
              "0         126      Apple\n",
              "1         459   Facebook\n",
              "2        -140     Amazon\n",
              "3         294  Microsoft\n",
              "4         130  Microsoft\n",
              "...       ...        ...\n",
              "9999995  -385  Microsoft\n",
              "9999996  -475     Amazon\n",
              "9999997  -761  Microsoft\n",
              "9999998  -680      Apple\n",
              "9999999  -555      Apple\n",
              "\n",
              "[10000000 rows x 2 columns]"
            ]
          },
          "execution_count": 136,
          "metadata": {},
          "output_type": "execute_result"
        }
      ],
      "source": [
        "df_pandas"
      ]
    },
    {
      "cell_type": "code",
      "execution_count": 137,
      "metadata": {
        "colab": {
          "base_uri": "https://localhost:8080/"
        },
        "id": "5GiA3PKKlvsf",
        "outputId": "4b819e83-6f73-4c47-cfcd-389cfadf16ee"
      },
      "outputs": [
        {
          "data": {
            "text/plain": [
              "pandas.core.frame.DataFrame"
            ]
          },
          "execution_count": 137,
          "metadata": {},
          "output_type": "execute_result"
        }
      ],
      "source": [
        "type(df_pandas)"
      ]
    },
    {
      "cell_type": "code",
      "execution_count": 138,
      "metadata": {
        "colab": {
          "base_uri": "https://localhost:8080/",
          "height": 427
        },
        "id": "1ibFaKOqllll",
        "outputId": "944f0935-62c0-4268-f63a-0a5b234a249d"
      },
      "outputs": [
        {
          "data": {
            "text/html": [
              "<div>\n",
              "<style scoped>\n",
              "    .dataframe tbody tr th:only-of-type {\n",
              "        vertical-align: middle;\n",
              "    }\n",
              "\n",
              "    .dataframe tbody tr th {\n",
              "        vertical-align: top;\n",
              "    }\n",
              "\n",
              "    .dataframe thead th {\n",
              "        text-align: right;\n",
              "    }\n",
              "</style>\n",
              "<table border=\"1\" class=\"dataframe\">\n",
              "  <thead>\n",
              "    <tr style=\"text-align: right;\">\n",
              "      <th></th>\n",
              "      <th>nums</th>\n",
              "      <th>companies</th>\n",
              "    </tr>\n",
              "  </thead>\n",
              "  <tbody>\n",
              "    <tr>\n",
              "      <th>0</th>\n",
              "      <td>126</td>\n",
              "      <td>Apple</td>\n",
              "    </tr>\n",
              "    <tr>\n",
              "      <th>1</th>\n",
              "      <td>459</td>\n",
              "      <td>Facebook</td>\n",
              "    </tr>\n",
              "    <tr>\n",
              "      <th>2</th>\n",
              "      <td>-140</td>\n",
              "      <td>Amazon</td>\n",
              "    </tr>\n",
              "    <tr>\n",
              "      <th>3</th>\n",
              "      <td>294</td>\n",
              "      <td>Microsoft</td>\n",
              "    </tr>\n",
              "    <tr>\n",
              "      <th>4</th>\n",
              "      <td>130</td>\n",
              "      <td>Microsoft</td>\n",
              "    </tr>\n",
              "    <tr>\n",
              "      <th>...</th>\n",
              "      <td>...</td>\n",
              "      <td>...</td>\n",
              "    </tr>\n",
              "    <tr>\n",
              "      <th>9999995</th>\n",
              "      <td>-385</td>\n",
              "      <td>Microsoft</td>\n",
              "    </tr>\n",
              "    <tr>\n",
              "      <th>9999996</th>\n",
              "      <td>-475</td>\n",
              "      <td>Amazon</td>\n",
              "    </tr>\n",
              "    <tr>\n",
              "      <th>9999997</th>\n",
              "      <td>-761</td>\n",
              "      <td>Microsoft</td>\n",
              "    </tr>\n",
              "    <tr>\n",
              "      <th>9999998</th>\n",
              "      <td>-680</td>\n",
              "      <td>Apple</td>\n",
              "    </tr>\n",
              "    <tr>\n",
              "      <th>9999999</th>\n",
              "      <td>-555</td>\n",
              "      <td>Apple</td>\n",
              "    </tr>\n",
              "  </tbody>\n",
              "</table>\n",
              "<p>10000000 rows × 2 columns</p>\n",
              "</div>"
            ],
            "text/plain": [
              "         nums  companies\n",
              "0         126      Apple\n",
              "1         459   Facebook\n",
              "2        -140     Amazon\n",
              "3         294  Microsoft\n",
              "4         130  Microsoft\n",
              "...       ...        ...\n",
              "9999995  -385  Microsoft\n",
              "9999996  -475     Amazon\n",
              "9999997  -761  Microsoft\n",
              "9999998  -680      Apple\n",
              "9999999  -555      Apple\n",
              "\n",
              "[10000000 rows x 2 columns]"
            ]
          },
          "execution_count": 138,
          "metadata": {},
          "output_type": "execute_result"
        }
      ],
      "source": [
        "%timeit\n",
        "df_cudf = cudf.from_pandas(df_pandas)\n",
        "df_cudf"
      ]
    },
    {
      "cell_type": "code",
      "execution_count": 139,
      "metadata": {
        "colab": {
          "base_uri": "https://localhost:8080/"
        },
        "id": "QxWK3kaylyPg",
        "outputId": "3ec87546-821d-40df-e808-14780e1cf1d6"
      },
      "outputs": [
        {
          "data": {
            "text/plain": [
              "cudf.core.dataframe.DataFrame"
            ]
          },
          "execution_count": 139,
          "metadata": {},
          "output_type": "execute_result"
        }
      ],
      "source": [
        "type(df_cudf)"
      ]
    },
    {
      "cell_type": "code",
      "execution_count": 140,
      "metadata": {
        "id": "cKvVbDC0mEB_"
      },
      "outputs": [],
      "source": [
        "def timeit_pandas_cudf(pd_obj, cudf_obj, func, **kwargs):\n",
        "  t_pandas = timeit.timeit(lambda: func(pd_obj), **kwargs)\n",
        "  t_cudf = timeit.timeit(lambda: func(cudf_obj), **kwargs)\n",
        "  return t_pandas, t_cudf"
      ]
    },
    {
      "cell_type": "markdown",
      "metadata": {
        "id": "w_hKr898KybQ"
      },
      "source": [
        "## Aceleração para diferentes operações\n",
        "\n"
      ]
    },
    {
      "cell_type": "markdown",
      "metadata": {
        "id": "P0ZLPiPBxro6"
      },
      "source": [
        "### Aceleração para value_counts\n"
      ]
    },
    {
      "cell_type": "code",
      "execution_count": 147,
      "metadata": {
        "colab": {
          "base_uri": "https://localhost:8080/"
        },
        "id": "hveLa3FtnTdZ",
        "outputId": "e3cbfcb2-9e11-42ac-b016-3faf30c14a32"
      },
      "outputs": [
        {
          "data": {
            "text/plain": [
              "nums  companies\n",
              " 70   Amazon       1153\n",
              " 385  Facebook     1125\n",
              "-298  Google       1115\n",
              "-883  Google       1114\n",
              " 318  Apple        1108\n",
              "                   ... \n",
              "-87   Facebook      894\n",
              " 523  Microsoft     892\n",
              "-392  Google        888\n",
              " 821  Apple         886\n",
              "-53   Amazon        880\n",
              "Length: 10000, dtype: int64"
            ]
          },
          "execution_count": 147,
          "metadata": {},
          "output_type": "execute_result"
        }
      ],
      "source": [
        "df_pandas.value_counts()"
      ]
    },
    {
      "cell_type": "code",
      "execution_count": 148,
      "metadata": {
        "id": "ZoM09g0hnfRw"
      },
      "outputs": [],
      "source": [
        "pandas_counts, cudf_counts = timeit_pandas_cudf(df_pandas, df_cudf, lambda df: df.value_counts(), number=30)"
      ]
    },
    {
      "cell_type": "code",
      "execution_count": 149,
      "metadata": {
        "colab": {
          "base_uri": "https://localhost:8080/"
        },
        "id": "IgkjhcycoDaB",
        "outputId": "ad48aaf5-2a64-404c-ef36-015ff89439aa"
      },
      "outputs": [
        {
          "data": {
            "text/plain": [
              "(15.195052095999927, 1.3233899090000705)"
            ]
          },
          "execution_count": 149,
          "metadata": {},
          "output_type": "execute_result"
        }
      ],
      "source": [
        "pandas_counts, cudf_counts"
      ]
    },
    {
      "cell_type": "code",
      "execution_count": 150,
      "metadata": {
        "colab": {
          "base_uri": "https://localhost:8080/"
        },
        "id": "x1HuZo6xoUhx",
        "outputId": "23a8251a-1fba-4416-a80a-6d314b15a7e2"
      },
      "outputs": [
        {
          "data": {
            "text/plain": [
              "45.10606949399971"
            ]
          },
          "execution_count": 150,
          "metadata": {},
          "output_type": "execute_result"
        }
      ],
      "source": [
        "44.36997717599979 + 0.736092317999919"
      ]
    },
    {
      "cell_type": "markdown",
      "metadata": {
        "id": "VqcFINzFkUZH"
      },
      "source": [
        "### Aceleração para concat"
      ]
    },
    {
      "cell_type": "code",
      "execution_count": 151,
      "metadata": {
        "id": "m3OoQJHAohyg"
      },
      "outputs": [],
      "source": [
        "pandas_concat = timeit.timeit(lambda: pd.concat([df_pandas, df_pandas, df_pandas]), number=30)"
      ]
    },
    {
      "cell_type": "code",
      "execution_count": 152,
      "metadata": {
        "id": "aKb7f4V1pE-T"
      },
      "outputs": [],
      "source": [
        "cudf_concat = timeit.timeit(lambda: cudf.concat([df_cudf, df_cudf, df_cudf]), number=30)"
      ]
    },
    {
      "cell_type": "code",
      "execution_count": 153,
      "metadata": {
        "colab": {
          "base_uri": "https://localhost:8080/"
        },
        "id": "WOqGQ4NDpP3M",
        "outputId": "3e8b3631-4ff6-40ab-dca2-331dcb6ce3a0"
      },
      "outputs": [
        {
          "data": {
            "text/plain": [
              "(11.593132375000096, 1.449064767999971)"
            ]
          },
          "execution_count": 153,
          "metadata": {},
          "output_type": "execute_result"
        }
      ],
      "source": [
        "pandas_concat, cudf_concat"
      ]
    },
    {
      "cell_type": "markdown",
      "metadata": {
        "id": "72RuEuwykbNG"
      },
      "source": [
        "### Aceleração para groupby\n"
      ]
    },
    {
      "cell_type": "code",
      "execution_count": 154,
      "metadata": {
        "id": "a99MG7ktpWzW"
      },
      "outputs": [],
      "source": [
        "pandas_groupby, cudf_groupby = timeit_pandas_cudf(df_pandas, df_cudf,\n",
        "                                                  lambda df: df.groupby(\"companies\").agg([\"min\", \"max\", \"mean\"]),\n",
        "                                                  number=30)"
      ]
    },
    {
      "cell_type": "code",
      "execution_count": 155,
      "metadata": {
        "colab": {
          "base_uri": "https://localhost:8080/"
        },
        "id": "LGy9OKDjp1dD",
        "outputId": "a970b4b0-23ad-44b1-fd3c-d1d85db7becb"
      },
      "outputs": [
        {
          "data": {
            "text/plain": [
              "(11.360115704999771, 1.0238424290000694)"
            ]
          },
          "execution_count": 155,
          "metadata": {},
          "output_type": "execute_result"
        }
      ],
      "source": [
        "pandas_groupby, cudf_groupby"
      ]
    },
    {
      "cell_type": "markdown",
      "metadata": {
        "id": "O9nBRR5jmia1"
      },
      "source": [
        "### Aceleração para merge"
      ]
    },
    {
      "cell_type": "code",
      "execution_count": 156,
      "metadata": {
        "colab": {
          "base_uri": "https://localhost:8080/"
        },
        "id": "TQw8OVC6qL_u",
        "outputId": "51d31ff0-e2c0-4268-a441-a84e427fac0c"
      },
      "outputs": [
        {
          "data": {
            "text/plain": [
              "1000000"
            ]
          },
          "execution_count": 156,
          "metadata": {},
          "output_type": "execute_result"
        }
      ],
      "source": [
        "min_rows = int(num_rows / 10)\n",
        "min_rows"
      ]
    },
    {
      "cell_type": "code",
      "execution_count": 157,
      "metadata": {
        "id": "NqmYZ5FCqSQO"
      },
      "outputs": [],
      "source": [
        "df_pandas = df_pandas.head(min_rows)\n",
        "df_cudf = cudf.from_pandas(df_pandas)"
      ]
    },
    {
      "cell_type": "code",
      "execution_count": 158,
      "metadata": {
        "colab": {
          "base_uri": "https://localhost:8080/",
          "height": 427
        },
        "id": "beTD-Y3pqa4v",
        "outputId": "8a3ee3c2-4c86-4fac-850e-a932a59deae3"
      },
      "outputs": [
        {
          "data": {
            "text/html": [
              "<div>\n",
              "<style scoped>\n",
              "    .dataframe tbody tr th:only-of-type {\n",
              "        vertical-align: middle;\n",
              "    }\n",
              "\n",
              "    .dataframe tbody tr th {\n",
              "        vertical-align: top;\n",
              "    }\n",
              "\n",
              "    .dataframe thead th {\n",
              "        text-align: right;\n",
              "    }\n",
              "</style>\n",
              "<table border=\"1\" class=\"dataframe\">\n",
              "  <thead>\n",
              "    <tr style=\"text-align: right;\">\n",
              "      <th></th>\n",
              "      <th>nums</th>\n",
              "      <th>companies</th>\n",
              "    </tr>\n",
              "  </thead>\n",
              "  <tbody>\n",
              "    <tr>\n",
              "      <th>0</th>\n",
              "      <td>126</td>\n",
              "      <td>Apple</td>\n",
              "    </tr>\n",
              "    <tr>\n",
              "      <th>1</th>\n",
              "      <td>459</td>\n",
              "      <td>Facebook</td>\n",
              "    </tr>\n",
              "    <tr>\n",
              "      <th>2</th>\n",
              "      <td>-140</td>\n",
              "      <td>Amazon</td>\n",
              "    </tr>\n",
              "    <tr>\n",
              "      <th>3</th>\n",
              "      <td>294</td>\n",
              "      <td>Microsoft</td>\n",
              "    </tr>\n",
              "    <tr>\n",
              "      <th>4</th>\n",
              "      <td>130</td>\n",
              "      <td>Microsoft</td>\n",
              "    </tr>\n",
              "    <tr>\n",
              "      <th>...</th>\n",
              "      <td>...</td>\n",
              "      <td>...</td>\n",
              "    </tr>\n",
              "    <tr>\n",
              "      <th>999995</th>\n",
              "      <td>-352</td>\n",
              "      <td>Microsoft</td>\n",
              "    </tr>\n",
              "    <tr>\n",
              "      <th>999996</th>\n",
              "      <td>147</td>\n",
              "      <td>Microsoft</td>\n",
              "    </tr>\n",
              "    <tr>\n",
              "      <th>999997</th>\n",
              "      <td>538</td>\n",
              "      <td>Amazon</td>\n",
              "    </tr>\n",
              "    <tr>\n",
              "      <th>999998</th>\n",
              "      <td>-921</td>\n",
              "      <td>Google</td>\n",
              "    </tr>\n",
              "    <tr>\n",
              "      <th>999999</th>\n",
              "      <td>169</td>\n",
              "      <td>Google</td>\n",
              "    </tr>\n",
              "  </tbody>\n",
              "</table>\n",
              "<p>1000000 rows × 2 columns</p>\n",
              "</div>"
            ],
            "text/plain": [
              "        nums  companies\n",
              "0        126      Apple\n",
              "1        459   Facebook\n",
              "2       -140     Amazon\n",
              "3        294  Microsoft\n",
              "4        130  Microsoft\n",
              "...      ...        ...\n",
              "999995  -352  Microsoft\n",
              "999996   147  Microsoft\n",
              "999997   538     Amazon\n",
              "999998  -921     Google\n",
              "999999   169     Google\n",
              "\n",
              "[1000000 rows x 2 columns]"
            ]
          },
          "execution_count": 158,
          "metadata": {},
          "output_type": "execute_result"
        }
      ],
      "source": [
        "df_pandas"
      ]
    },
    {
      "cell_type": "code",
      "execution_count": 159,
      "metadata": {
        "colab": {
          "base_uri": "https://localhost:8080/",
          "height": 427
        },
        "id": "nm470t4sqdKU",
        "outputId": "70ea14de-f9a5-4fa0-eb01-2fec2da3698f"
      },
      "outputs": [
        {
          "data": {
            "text/html": [
              "<div>\n",
              "<style scoped>\n",
              "    .dataframe tbody tr th:only-of-type {\n",
              "        vertical-align: middle;\n",
              "    }\n",
              "\n",
              "    .dataframe tbody tr th {\n",
              "        vertical-align: top;\n",
              "    }\n",
              "\n",
              "    .dataframe thead th {\n",
              "        text-align: right;\n",
              "    }\n",
              "</style>\n",
              "<table border=\"1\" class=\"dataframe\">\n",
              "  <thead>\n",
              "    <tr style=\"text-align: right;\">\n",
              "      <th></th>\n",
              "      <th>nums</th>\n",
              "      <th>companies</th>\n",
              "    </tr>\n",
              "  </thead>\n",
              "  <tbody>\n",
              "    <tr>\n",
              "      <th>0</th>\n",
              "      <td>126</td>\n",
              "      <td>Apple</td>\n",
              "    </tr>\n",
              "    <tr>\n",
              "      <th>1</th>\n",
              "      <td>459</td>\n",
              "      <td>Facebook</td>\n",
              "    </tr>\n",
              "    <tr>\n",
              "      <th>2</th>\n",
              "      <td>-140</td>\n",
              "      <td>Amazon</td>\n",
              "    </tr>\n",
              "    <tr>\n",
              "      <th>3</th>\n",
              "      <td>294</td>\n",
              "      <td>Microsoft</td>\n",
              "    </tr>\n",
              "    <tr>\n",
              "      <th>4</th>\n",
              "      <td>130</td>\n",
              "      <td>Microsoft</td>\n",
              "    </tr>\n",
              "    <tr>\n",
              "      <th>...</th>\n",
              "      <td>...</td>\n",
              "      <td>...</td>\n",
              "    </tr>\n",
              "    <tr>\n",
              "      <th>999995</th>\n",
              "      <td>-352</td>\n",
              "      <td>Microsoft</td>\n",
              "    </tr>\n",
              "    <tr>\n",
              "      <th>999996</th>\n",
              "      <td>147</td>\n",
              "      <td>Microsoft</td>\n",
              "    </tr>\n",
              "    <tr>\n",
              "      <th>999997</th>\n",
              "      <td>538</td>\n",
              "      <td>Amazon</td>\n",
              "    </tr>\n",
              "    <tr>\n",
              "      <th>999998</th>\n",
              "      <td>-921</td>\n",
              "      <td>Google</td>\n",
              "    </tr>\n",
              "    <tr>\n",
              "      <th>999999</th>\n",
              "      <td>169</td>\n",
              "      <td>Google</td>\n",
              "    </tr>\n",
              "  </tbody>\n",
              "</table>\n",
              "<p>1000000 rows × 2 columns</p>\n",
              "</div>"
            ],
            "text/plain": [
              "        nums  companies\n",
              "0        126      Apple\n",
              "1        459   Facebook\n",
              "2       -140     Amazon\n",
              "3        294  Microsoft\n",
              "4        130  Microsoft\n",
              "...      ...        ...\n",
              "999995  -352  Microsoft\n",
              "999996   147  Microsoft\n",
              "999997   538     Amazon\n",
              "999998  -921     Google\n",
              "999999   169     Google\n",
              "\n",
              "[1000000 rows x 2 columns]"
            ]
          },
          "execution_count": 159,
          "metadata": {},
          "output_type": "execute_result"
        }
      ],
      "source": [
        "df_cudf"
      ]
    },
    {
      "cell_type": "code",
      "execution_count": 160,
      "metadata": {
        "id": "pEqEP6rkqgNA"
      },
      "outputs": [],
      "source": [
        "pandas_merge, cudf_merge = timeit_pandas_cudf(df_pandas, df_cudf, lambda df: df.merge(df), number=30)"
      ]
    },
    {
      "cell_type": "code",
      "execution_count": 161,
      "metadata": {
        "colab": {
          "base_uri": "https://localhost:8080/"
        },
        "id": "vAD0yRyFrtOu",
        "outputId": "0f2f8860-19de-44aa-f512-75c1021b36c8"
      },
      "outputs": [
        {
          "data": {
            "text/plain": [
              "(65.40132251900013, 14.86716741400005)"
            ]
          },
          "execution_count": 161,
          "metadata": {},
          "output_type": "execute_result"
        }
      ],
      "source": [
        "pandas_merge, cudf_merge"
      ]
    },
    {
      "cell_type": "code",
      "execution_count": 162,
      "metadata": {
        "colab": {
          "base_uri": "https://localhost:8080/"
        },
        "id": "Bms67ac-rw3D",
        "outputId": "35eb5be7-9858-42b0-e3e6-9dd88fe6b6ac"
      },
      "outputs": [
        {
          "name": "stdout",
          "output_type": "stream",
          "text": [
            "Wed Apr 10 08:49:16 2024       \n",
            "+-----------------------------------------------------------------------------------------+\n",
            "| NVIDIA-SMI 550.40.06              Driver Version: 551.23         CUDA Version: 12.4     |\n",
            "|-----------------------------------------+------------------------+----------------------+\n",
            "| GPU  Name                 Persistence-M | Bus-Id          Disp.A | Volatile Uncorr. ECC |\n",
            "| Fan  Temp   Perf          Pwr:Usage/Cap |           Memory-Usage | GPU-Util  Compute M. |\n",
            "|                                         |                        |               MIG M. |\n",
            "|=========================================+========================+======================|\n",
            "|   0  NVIDIA GeForce RTX 3060        On  |   00000000:01:00.0  On |                  N/A |\n",
            "| 30%   55C    P2            104W /  170W |    1377MiB /  12288MiB |     91%      Default |\n",
            "|                                         |                        |                  N/A |\n",
            "+-----------------------------------------+------------------------+----------------------+\n",
            "                                                                                         \n",
            "+-----------------------------------------------------------------------------------------+\n",
            "| Processes:                                                                              |\n",
            "|  GPU   GI   CI        PID   Type   Process name                              GPU Memory |\n",
            "|        ID   ID                                                               Usage      |\n",
            "|=========================================================================================|\n",
            "|    0   N/A  N/A     27602      C   /python3.10                                 N/A      |\n",
            "+-----------------------------------------------------------------------------------------+\n"
          ]
        }
      ],
      "source": [
        "!nvidia-smi"
      ]
    },
    {
      "cell_type": "markdown",
      "metadata": {
        "id": "g4qgfw9hq4WE"
      },
      "source": [
        "> Comparando os resultados obtidos"
      ]
    },
    {
      "cell_type": "code",
      "execution_count": 163,
      "metadata": {
        "id": "Nb40nsuZr5yn"
      },
      "outputs": [],
      "source": [
        "desempenho_df = pd.DataFrame(\n",
        "    {\n",
        "        \"sppedup cudf vs. pandas\": [\n",
        "            pandas_counts / cudf_counts,\n",
        "            pandas_concat / cudf_concat,\n",
        "            pandas_groupby / cudf_groupby,\n",
        "            pandas_merge / cudf_merge,\n",
        "        ],\n",
        "    },\n",
        "    index = [\"value counts\", \"concat\", \"groupby\", \"merge\"]\n",
        ")"
      ]
    },
    {
      "cell_type": "code",
      "execution_count": 164,
      "metadata": {
        "colab": {
          "base_uri": "https://localhost:8080/",
          "height": 176
        },
        "id": "PAUimedusfW5",
        "outputId": "2ece016f-11a9-4072-b8fe-6639a3d1868b"
      },
      "outputs": [
        {
          "data": {
            "text/html": [
              "<div>\n",
              "<style scoped>\n",
              "    .dataframe tbody tr th:only-of-type {\n",
              "        vertical-align: middle;\n",
              "    }\n",
              "\n",
              "    .dataframe tbody tr th {\n",
              "        vertical-align: top;\n",
              "    }\n",
              "\n",
              "    .dataframe thead th {\n",
              "        text-align: right;\n",
              "    }\n",
              "</style>\n",
              "<table border=\"1\" class=\"dataframe\">\n",
              "  <thead>\n",
              "    <tr style=\"text-align: right;\">\n",
              "      <th></th>\n",
              "      <th>sppedup cudf vs. pandas</th>\n",
              "    </tr>\n",
              "  </thead>\n",
              "  <tbody>\n",
              "    <tr>\n",
              "      <th>value counts</th>\n",
              "      <td>11.481916</td>\n",
              "    </tr>\n",
              "    <tr>\n",
              "      <th>concat</th>\n",
              "      <td>8.000424</td>\n",
              "    </tr>\n",
              "    <tr>\n",
              "      <th>groupby</th>\n",
              "      <td>11.095570</td>\n",
              "    </tr>\n",
              "    <tr>\n",
              "      <th>merge</th>\n",
              "      <td>4.399044</td>\n",
              "    </tr>\n",
              "  </tbody>\n",
              "</table>\n",
              "</div>"
            ],
            "text/plain": [
              "              sppedup cudf vs. pandas\n",
              "value counts                11.481916\n",
              "concat                       8.000424\n",
              "groupby                     11.095570\n",
              "merge                        4.399044"
            ]
          },
          "execution_count": 164,
          "metadata": {},
          "output_type": "execute_result"
        }
      ],
      "source": [
        "desempenho_df"
      ]
    },
    {
      "cell_type": "markdown",
      "metadata": {
        "id": "zcTIODY-b_SP"
      },
      "source": [
        "> Plotando em um gráfico único"
      ]
    },
    {
      "cell_type": "code",
      "execution_count": 165,
      "metadata": {
        "colab": {
          "base_uri": "https://localhost:8080/",
          "height": 465
        },
        "id": "SXS1CEE6sqsm",
        "outputId": "de652756-cd50-4a93-ee2f-22d1888315c8"
      },
      "outputs": [
        {
          "data": {
            "image/png": "[encoded data removed]",
            "text/plain": [
              "<Figure size 640x480 with 1 Axes>"
            ]
          },
          "metadata": {},
          "output_type": "display_data"
        }
      ],
      "source": [
        "ax = desempenho_df.plot.bar(\n",
        "    rot=10,\n",
        "    xlabel=\"Operação\",\n",
        "    ylabel=\"Fator de acelaração (speedup)\"\n",
        ")\n",
        "ax.bar_label(ax.containers[0], fmt=\"%.0f\")\n",
        "plt.show()"
      ]
    },
    {
      "cell_type": "markdown",
      "metadata": {
        "id": "ftDGXULWJT81"
      },
      "source": [
        "## Aceleração para operações com strings"
      ]
    },
    {
      "cell_type": "code",
      "execution_count": 166,
      "metadata": {
        "id": "XNFhvYD0tm_e"
      },
      "outputs": [],
      "source": [
        "num_rows = 10_000_000\n",
        "pandas_s = pd.Series(np.random.choice([\"Google\", \"Amazon\", \"Apple\", \"Microsoft\", \"Netflix\"], size=num_rows))"
      ]
    },
    {
      "cell_type": "code",
      "execution_count": 167,
      "metadata": {
        "colab": {
          "base_uri": "https://localhost:8080/"
        },
        "id": "uZ4ltUw-t02b",
        "outputId": "dee44a42-502a-4999-fa63-0a50038e555a"
      },
      "outputs": [
        {
          "data": {
            "text/plain": [
              "pandas.core.series.Series"
            ]
          },
          "execution_count": 167,
          "metadata": {},
          "output_type": "execute_result"
        }
      ],
      "source": [
        "type(pandas_s)"
      ]
    },
    {
      "cell_type": "code",
      "execution_count": 168,
      "metadata": {
        "colab": {
          "base_uri": "https://localhost:8080/"
        },
        "id": "Ki44HDLYt3rw",
        "outputId": "480a8c63-e74b-4b51-bfc5-aaffe89d389b"
      },
      "outputs": [
        {
          "data": {
            "text/plain": [
              "0          Netflix\n",
              "1          Netflix\n",
              "2          Netflix\n",
              "3           Amazon\n",
              "4           Google\n",
              "            ...   \n",
              "9999995     Google\n",
              "9999996     Google\n",
              "9999997     Google\n",
              "9999998    Netflix\n",
              "9999999     Amazon\n",
              "Length: 10000000, dtype: object"
            ]
          },
          "execution_count": 168,
          "metadata": {},
          "output_type": "execute_result"
        }
      ],
      "source": [
        "pandas_s"
      ]
    },
    {
      "cell_type": "code",
      "execution_count": 169,
      "metadata": {
        "id": "jW7MY0N1t6md"
      },
      "outputs": [],
      "source": [
        "cudf_s = cudf.from_pandas(pandas_s)"
      ]
    },
    {
      "cell_type": "code",
      "execution_count": 170,
      "metadata": {
        "colab": {
          "base_uri": "https://localhost:8080/"
        },
        "id": "mRB1d0L_t_bq",
        "outputId": "dc04b21d-1afa-4866-e188-cbd318e53afe"
      },
      "outputs": [
        {
          "data": {
            "text/plain": [
              "0          Netflix\n",
              "1          Netflix\n",
              "2          Netflix\n",
              "3           Amazon\n",
              "4           Google\n",
              "            ...   \n",
              "9999995     Google\n",
              "9999996     Google\n",
              "9999997     Google\n",
              "9999998    Netflix\n",
              "9999999     Amazon\n",
              "Length: 10000000, dtype: object"
            ]
          },
          "execution_count": 170,
          "metadata": {},
          "output_type": "execute_result"
        }
      ],
      "source": [
        "cudf_s"
      ]
    },
    {
      "cell_type": "code",
      "execution_count": 171,
      "metadata": {
        "colab": {
          "base_uri": "https://localhost:8080/"
        },
        "id": "n8uHGyPmuBWj",
        "outputId": "72c612b4-9d81-4b7d-d14f-63ee651c6d29"
      },
      "outputs": [
        {
          "data": {
            "text/plain": [
              "cudf.core.series.Series"
            ]
          },
          "execution_count": 171,
          "metadata": {},
          "output_type": "execute_result"
        }
      ],
      "source": [
        "type(cudf_s)"
      ]
    },
    {
      "cell_type": "markdown",
      "metadata": {
        "id": "E5Ni7oqVr5C6"
      },
      "source": [
        "### Aceleração para upper"
      ]
    },
    {
      "cell_type": "code",
      "execution_count": 172,
      "metadata": {
        "id": "Ce5DyT9NuFT6"
      },
      "outputs": [],
      "source": [
        "pandas_upper, cudf_upper = timeit_pandas_cudf(pandas_s, cudf_s, lambda s: s.str.upper(), number=20)"
      ]
    },
    {
      "cell_type": "code",
      "execution_count": 173,
      "metadata": {
        "colab": {
          "base_uri": "https://localhost:8080/"
        },
        "id": "_Lj3M-1IumcP",
        "outputId": "307fa5f0-d9ed-4693-ce71-e8bf2ae0f99f"
      },
      "outputs": [
        {
          "data": {
            "text/plain": [
              "(18.20837082099979, 0.5514569209999536)"
            ]
          },
          "execution_count": 173,
          "metadata": {},
          "output_type": "execute_result"
        }
      ],
      "source": [
        "pandas_upper, cudf_upper"
      ]
    },
    {
      "cell_type": "markdown",
      "metadata": {
        "id": "fyRCtGKgvKmT"
      },
      "source": [
        "### Aceleração para contains"
      ]
    },
    {
      "cell_type": "code",
      "execution_count": 174,
      "metadata": {
        "id": "vgDPpAJWuwiy"
      },
      "outputs": [],
      "source": [
        "pandas_contains, cudf_contains = timeit_pandas_cudf(pandas_s, cudf_s,\n",
        "                                                    lambda s: s.str.contains(r\"[0-9][a-z]\"), number = 20) # 1e, 4i"
      ]
    },
    {
      "cell_type": "code",
      "execution_count": 175,
      "metadata": {
        "colab": {
          "base_uri": "https://localhost:8080/"
        },
        "id": "FivZeRWXvzkL",
        "outputId": "a953cf5d-d2c7-46f0-ceeb-8b8dea9b47a1"
      },
      "outputs": [
        {
          "data": {
            "text/plain": [
              "(23.61489330800032, 0.6178835310001887)"
            ]
          },
          "execution_count": 175,
          "metadata": {},
          "output_type": "execute_result"
        }
      ],
      "source": [
        "pandas_contains, cudf_contains"
      ]
    },
    {
      "cell_type": "markdown",
      "metadata": {
        "id": "17KAdOyRvZto"
      },
      "source": [
        "### Aceleração para isalpha"
      ]
    },
    {
      "cell_type": "code",
      "execution_count": 176,
      "metadata": {
        "id": "CwhuBXn-v5Ow"
      },
      "outputs": [],
      "source": [
        "pandas_isalpha, cudf_isalpha = timeit_pandas_cudf(pandas_s, cudf_s, lambda s: s.str.isalpha(), number=20)"
      ]
    },
    {
      "cell_type": "code",
      "execution_count": 177,
      "metadata": {
        "colab": {
          "base_uri": "https://localhost:8080/"
        },
        "id": "kKpbJkXIwc_K",
        "outputId": "9a9c7b1f-bd23-4722-8996-09afb8a25881"
      },
      "outputs": [
        {
          "data": {
            "text/plain": [
              "(13.282853873000022, 0.15677674499966088)"
            ]
          },
          "execution_count": 177,
          "metadata": {},
          "output_type": "execute_result"
        }
      ],
      "source": [
        "pandas_isalpha, cudf_isalpha"
      ]
    },
    {
      "cell_type": "markdown",
      "metadata": {
        "id": "masWdXzmv1Ul"
      },
      "source": [
        "> Comparando os resultados obtidos\n"
      ]
    },
    {
      "cell_type": "code",
      "execution_count": 178,
      "metadata": {
        "id": "NATFrue_wiyG"
      },
      "outputs": [],
      "source": [
        "performance_df = pd.DataFrame(\n",
        "    {\n",
        "        \"speedup cudf vs. pandas\": [\n",
        "            pandas_upper / cudf_upper,\n",
        "            pandas_contains / cudf_contains,\n",
        "            pandas_isalpha / cudf_isalpha,\n",
        "        ],\n",
        "    },\n",
        "    index=[\"upper\", \"contains\", \"isalpha\"],\n",
        ")"
      ]
    },
    {
      "cell_type": "code",
      "execution_count": 179,
      "metadata": {
        "colab": {
          "base_uri": "https://localhost:8080/",
          "height": 144
        },
        "id": "OBMyNSL0wpAH",
        "outputId": "8b4c8dea-61a4-4ed2-d37e-b21129edefab"
      },
      "outputs": [
        {
          "data": {
            "text/html": [
              "<div>\n",
              "<style scoped>\n",
              "    .dataframe tbody tr th:only-of-type {\n",
              "        vertical-align: middle;\n",
              "    }\n",
              "\n",
              "    .dataframe tbody tr th {\n",
              "        vertical-align: top;\n",
              "    }\n",
              "\n",
              "    .dataframe thead th {\n",
              "        text-align: right;\n",
              "    }\n",
              "</style>\n",
              "<table border=\"1\" class=\"dataframe\">\n",
              "  <thead>\n",
              "    <tr style=\"text-align: right;\">\n",
              "      <th></th>\n",
              "      <th>speedup cudf vs. pandas</th>\n",
              "    </tr>\n",
              "  </thead>\n",
              "  <tbody>\n",
              "    <tr>\n",
              "      <th>upper</th>\n",
              "      <td>33.018664</td>\n",
              "    </tr>\n",
              "    <tr>\n",
              "      <th>contains</th>\n",
              "      <td>38.219004</td>\n",
              "    </tr>\n",
              "    <tr>\n",
              "      <th>isalpha</th>\n",
              "      <td>84.724644</td>\n",
              "    </tr>\n",
              "  </tbody>\n",
              "</table>\n",
              "</div>"
            ],
            "text/plain": [
              "          speedup cudf vs. pandas\n",
              "upper                   33.018664\n",
              "contains                38.219004\n",
              "isalpha                 84.724644"
            ]
          },
          "execution_count": 179,
          "metadata": {},
          "output_type": "execute_result"
        }
      ],
      "source": [
        "performance_df"
      ]
    },
    {
      "cell_type": "markdown",
      "metadata": {
        "id": "JsvVr88Rv6hg"
      },
      "source": [
        "> Plotando em um gráfico único"
      ]
    },
    {
      "cell_type": "code",
      "execution_count": 180,
      "metadata": {
        "colab": {
          "base_uri": "https://localhost:8080/",
          "height": 449
        },
        "id": "gJstPleIwyPx",
        "outputId": "cd091fc1-332c-45d8-b475-e24428069fbd"
      },
      "outputs": [
        {
          "data": {
            "image/png": "[encoded data removed]",
            "text/plain": [
              "<Figure size 640x480 with 1 Axes>"
            ]
          },
          "metadata": {},
          "output_type": "display_data"
        }
      ],
      "source": [
        "ax = performance_df.plot.bar(\n",
        "    xlabel=\"Operação com string\",\n",
        "    ylabel=\"Fator de aceleração\",\n",
        "    rot=0,\n",
        ")\n",
        "ax.bar_label(ax.containers[0], fmt=\"%.0f\")\n",
        "plt.show()"
      ]
    },
    {
      "cell_type": "markdown",
      "metadata": {
        "id": "uJZCFWvOcL7H"
      },
      "source": [
        "> Algumas diferenças adicionais entre CuDF e Pandas\n",
        "\n",
        "* https://docs.rapids.ai/api/cudf/stable/user_guide/pandas-comparison/"
      ]
    },
    {
      "cell_type": "markdown",
      "metadata": {
        "id": "ccaM95FcxINB"
      },
      "source": [
        "# Executando localmente\n",
        "\n",
        "Máquina local: um modo prático de deixar o ambiente funcionando é pelo NGC - Repositório de modelos de redes neurais e de containers da NVIDIA.\n",
        "\n",
        "* Para rodar em sua máquina, basta seguir os passos\n",
        "https://catalog.ngc.nvidia.com/orgs/nvidia/teams/rapidsai/containers/rapidsai\n",
        "  * Tem o Base e o Runtime - esse último vem junto com alguns exemplos de código dentro\n",
        "  * Pré-requisitos: Docker CE, Drive de CUDA (da sua GPU), plugin da NVIDIA do docker (para o docker conseguir acessar a GPU); e então, execute os comandos listados.\n",
        "  * Obs: Ao instalar o driver da NVIDIA da placa de vídeo, tem que aparecer detalhes sobre sua GPU ao executar o comando:\n",
        "!nvidia-smi\n",
        "assim que sabemos se o driver foi instalado corretamente.\n",
        "\n",
        "* Ver o comando de instalação no link (vai depender do SO e ambiente)\n",
        "\n"
      ]
    }
  ],
  "metadata": {
    "accelerator": "GPU",
    "colab": {
      "provenance": [],
      "toc_visible": true
    },
    "kernelspec": {
      "display_name": "Python 3",
      "name": "python3"
    },
    "language_info": {
      "codemirror_mode": {
        "name": "ipython",
        "version": 3
      },
      "file_extension": ".py",
      "mimetype": "text/x-python",
      "name": "python",
      "nbconvert_exporter": "python",
      "pygments_lexer": "ipython3",
      "version": "3.10.12"
    }
  },
  "nbformat": 4,
  "nbformat_minor": 0
}
